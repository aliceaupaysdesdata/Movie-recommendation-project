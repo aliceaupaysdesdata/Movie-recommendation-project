{
 "cells": [
  {
   "cell_type": "code",
   "execution_count": 4,
   "metadata": {},
   "outputs": [
    {
     "data": {
      "text/html": [
       "<div>\n",
       "<style scoped>\n",
       "    .dataframe tbody tr th:only-of-type {\n",
       "        vertical-align: middle;\n",
       "    }\n",
       "\n",
       "    .dataframe tbody tr th {\n",
       "        vertical-align: top;\n",
       "    }\n",
       "\n",
       "    .dataframe thead th {\n",
       "        text-align: right;\n",
       "    }\n",
       "</style>\n",
       "<table border=\"1\" class=\"dataframe\">\n",
       "  <thead>\n",
       "    <tr style=\"text-align: right;\">\n",
       "      <th></th>\n",
       "      <th>tconst</th>\n",
       "      <th>Titre</th>\n",
       "      <th>Titre Original</th>\n",
       "      <th>genres</th>\n",
       "      <th>Année de Sortie</th>\n",
       "      <th>Durée (min)</th>\n",
       "      <th>Note</th>\n",
       "      <th>Nombre Votes</th>\n",
       "      <th>Popularité</th>\n",
       "      <th>Décennie</th>\n",
       "      <th>...</th>\n",
       "      <th>Pays Production</th>\n",
       "      <th>nconst</th>\n",
       "      <th>Slogan</th>\n",
       "      <th>Synopsis</th>\n",
       "      <th>Chemin Affiche</th>\n",
       "      <th>Chemin Affiche Pub</th>\n",
       "      <th>Url Site</th>\n",
       "      <th>Langue Originale</th>\n",
       "      <th>Langues Parlées</th>\n",
       "      <th>Statut</th>\n",
       "    </tr>\n",
       "  </thead>\n",
       "  <tbody>\n",
       "    <tr>\n",
       "      <th>170091</th>\n",
       "      <td>tt1375666</td>\n",
       "      <td>Inception</td>\n",
       "      <td>Inception</td>\n",
       "      <td>Action,Adventure,Sci-Fi</td>\n",
       "      <td>2010</td>\n",
       "      <td>148</td>\n",
       "      <td>8.794438</td>\n",
       "      <td>2614737</td>\n",
       "      <td>77.103</td>\n",
       "      <td>2010</td>\n",
       "      <td>...</td>\n",
       "      <td>['GB', 'US']</td>\n",
       "      <td>nm0634240</td>\n",
       "      <td>Your mind is the scene of the crime.</td>\n",
       "      <td>Cobb, a skilled thief who commits corporate es...</td>\n",
       "      <td>/edv5CZvWj09upOsy2Y6IwDhK8bt.jpg</td>\n",
       "      <td>/8ZTVqvKDQ8emSGUEMjsS4yHAwrp.jpg</td>\n",
       "      <td>https://www.warnerbros.com/movies/inception</td>\n",
       "      <td>en</td>\n",
       "      <td>['en', 'fr', 'ja', 'sw']</td>\n",
       "      <td>Released</td>\n",
       "    </tr>\n",
       "  </tbody>\n",
       "</table>\n",
       "<p>1 rows × 22 columns</p>\n",
       "</div>"
      ],
      "text/plain": [
       "           tconst      Titre Titre Original                   genres  \\\n",
       "170091  tt1375666  Inception      Inception  Action,Adventure,Sci-Fi   \n",
       "\n",
       "        Année de Sortie  Durée (min)      Note  Nombre Votes  Popularité  \\\n",
       "170091             2010          148  8.794438       2614737      77.103   \n",
       "\n",
       "        Décennie  ...  Pays Production     nconst  \\\n",
       "170091      2010  ...     ['GB', 'US']  nm0634240   \n",
       "\n",
       "                                      Slogan  \\\n",
       "170091  Your mind is the scene of the crime.   \n",
       "\n",
       "                                                 Synopsis  \\\n",
       "170091  Cobb, a skilled thief who commits corporate es...   \n",
       "\n",
       "                          Chemin Affiche                Chemin Affiche Pub  \\\n",
       "170091  /edv5CZvWj09upOsy2Y6IwDhK8bt.jpg  /8ZTVqvKDQ8emSGUEMjsS4yHAwrp.jpg   \n",
       "\n",
       "                                           Url Site Langue Originale  \\\n",
       "170091  https://www.warnerbros.com/movies/inception               en   \n",
       "\n",
       "                 Langues Parlées    Statut  \n",
       "170091  ['en', 'fr', 'ja', 'sw']  Released  \n",
       "\n",
       "[1 rows x 22 columns]"
      ]
     },
     "execution_count": 4,
     "metadata": {},
     "output_type": "execute_result"
    }
   ],
   "source": [
    "\n",
    "import streamlit as st\n",
    "import streamlit_authenticator as stauth\n",
    "import pandas as pd\n",
    "from streamlit_option_menu import option_menu\n",
    "from fuzzywuzzy import process\n",
    "from sklearn.feature_extraction.text import TfidfVectorizer\n",
    "from sklearn.metrics.pairwise import cosine_similarity\n",
    "import time\n",
    "import os\n",
    "\n",
    "df_infos_csv = \"../donnees/data/df_info.csv.gz\"\n",
    "df_infos = pd.read_csv(df_infos_csv, compression='infer')\n",
    "df_infos[df_infos['Titre']=='Inception']\n"
   ]
  },
  {
   "cell_type": "code",
   "execution_count": 2,
   "metadata": {},
   "outputs": [
    {
     "name": "stdout",
     "output_type": "stream",
     "text": [
      "<class 'pandas.core.frame.DataFrame'>\n",
      "RangeIndex: 301086 entries, 0 to 301085\n",
      "Data columns (total 22 columns):\n",
      " #   Column                Non-Null Count   Dtype  \n",
      "---  ------                --------------   -----  \n",
      " 0   tconst                301086 non-null  object \n",
      " 1   Titre                 301086 non-null  object \n",
      " 2   Titre Original        197925 non-null  object \n",
      " 3   genres                301086 non-null  object \n",
      " 4   Année de Sortie       301086 non-null  int64  \n",
      " 5   Durée (min)           301086 non-null  int64  \n",
      " 6   Note                  301086 non-null  float64\n",
      " 7   Nombre Votes          301086 non-null  int64  \n",
      " 8   Popularité            301086 non-null  float64\n",
      " 9   Décennie              301086 non-null  int64  \n",
      " 10  Indice Bechdel        301086 non-null  float64\n",
      " 11  Maison de Production  197925 non-null  object \n",
      " 12  Pays Production       197925 non-null  object \n",
      " 13  nconst                269974 non-null  object \n",
      " 14  Slogan                59740 non-null   object \n",
      " 15  Synopsis              184658 non-null  object \n",
      " 16  Chemin Affiche        180296 non-null  object \n",
      " 17  Chemin Affiche Pub    115058 non-null  object \n",
      " 18  Url Site              29217 non-null   object \n",
      " 19  Langue Originale      197925 non-null  object \n",
      " 20  Langues Parlées       197925 non-null  object \n",
      " 21  Statut                197925 non-null  object \n",
      "dtypes: float64(3), int64(4), object(15)\n",
      "memory usage: 50.5+ MB\n"
     ]
    }
   ],
   "source": [
    "df_infos.info()"
   ]
  },
  {
   "cell_type": "code",
   "execution_count": 3,
   "metadata": {},
   "outputs": [
    {
     "name": "stdout",
     "output_type": "stream",
     "text": [
      "float64\n",
      "0    5.400000\n",
      "1    5.211664\n",
      "2    4.400000\n",
      "3    5.981921\n",
      "4    5.700000\n",
      "Name: Note, dtype: float64\n",
      "0\n"
     ]
    }
   ],
   "source": [
    "print(df_infos['Note'].dtype)\n",
    "print(df_infos['Note'].head())\n",
    "print(df_infos['Note'].isna().sum())  # Vérifie les valeurs manquantes\n"
   ]
  }
 ],
 "metadata": {
  "kernelspec": {
   "display_name": "base",
   "language": "python",
   "name": "python3"
  },
  "language_info": {
   "codemirror_mode": {
    "name": "ipython",
    "version": 3
   },
   "file_extension": ".py",
   "mimetype": "text/x-python",
   "name": "python",
   "nbconvert_exporter": "python",
   "pygments_lexer": "ipython3",
   "version": "3.12.4"
  }
 },
 "nbformat": 4,
 "nbformat_minor": 2
}
