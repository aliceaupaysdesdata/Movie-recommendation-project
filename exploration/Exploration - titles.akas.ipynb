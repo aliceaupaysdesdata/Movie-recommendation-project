{
 "cells": [
  {
   "cell_type": "code",
   "execution_count": 1,
   "metadata": {},
   "outputs": [],
   "source": [
    "import pandas as pd\n",
    "import numpy as np\n",
    "import matplotlib.pyplot as plt\n"
   ]
  },
  {
   "cell_type": "code",
   "execution_count": 2,
   "metadata": {},
   "outputs": [],
   "source": [
    "file_path_titles = \"../exploration/Exploration - titles.akas.ipynb\""
   ]
  },
  {
   "cell_type": "code",
   "execution_count": 3,
   "metadata": {},
   "outputs": [],
   "source": [
    "data_titles = pd.read_csv(\"../gitignore/title.akas.tsv\", sep=\"\\t\")\n"
   ]
  },
  {
   "cell_type": "code",
   "execution_count": 4,
   "metadata": {},
   "outputs": [
    {
     "name": "stdout",
     "output_type": "stream",
     "text": [
      "\n",
      "Info sur les données Titles:\n",
      "<class 'pandas.core.frame.DataFrame'>\n",
      "RangeIndex: 50429043 entries, 0 to 50429042\n",
      "Data columns (total 8 columns):\n",
      " #   Column           Dtype \n",
      "---  ------           ----- \n",
      " 0   titleId          object\n",
      " 1   ordering         int64 \n",
      " 2   title            object\n",
      " 3   region           object\n",
      " 4   language         object\n",
      " 5   types            object\n",
      " 6   attributes       object\n",
      " 7   isOriginalTitle  int64 \n",
      "dtypes: int64(2), object(6)\n",
      "memory usage: 3.0+ GB\n"
     ]
    }
   ],
   "source": [
    "print(\"\\nInfo sur les données Titles:\")\n",
    "data_titles.info()"
   ]
  },
  {
   "cell_type": "code",
   "execution_count": 5,
   "metadata": {},
   "outputs": [
    {
     "name": "stdout",
     "output_type": "stream",
     "text": [
      "             titleId  ordering                                    title region language        types attributes  isOriginalTitle\n",
      "35964318  tt32625776         7                            エピソード #1.1072     JP       ja           \\N         \\N                0\n",
      "42355528   tt5862808         6               Folge vom 14. Oktober 2005     DE       de           \\N         \\N                0\n",
      "43091616   tt6312562         1                           Episode #1.215     \\N       \\N     original         \\N                1\n",
      "22975831  tt19374390         6                             Folge #1.212     DE       de           \\N         \\N                0\n",
      "13403564  tt13533310         7                            エピソード #1.5088     JP       ja           \\N         \\N                0\n",
      "35451695  tt32242325         8                          Episodio #1.163     ES       es           \\N         \\N                0\n",
      "43903106   tt6778850         1                               Lu man man     \\N       \\N     original         \\N                1\n",
      "26013350  tt22016662         4        Épisode datant du 20 juillet 2022     FR       fr           \\N         \\N                0\n",
      "38242384   tt3525280         1  Gal Battle, Fierce, Mami-rin Finished?!     \\N       \\N     original         \\N                1\n",
      "10541752  tt12443946        28                                 Красотка     RU       \\N  imdbDisplay         \\N                0\n",
      "9286612   tt11950456         8                          Episodio #1.452     ES       es           \\N         \\N                0\n",
      "41285464   tt5250016         1                            Episode #2.61     \\N       \\N     original         \\N                1\n",
      "22083857   tt1836675         7                               エピソード #2.4     JP       ja           \\N         \\N                0\n",
      "14258814  tt13877150         8                         Episodio #1.2749     ES       es           \\N         \\N                0\n",
      "22359368  tt18685684         4                          Épisode #1.2399     FR       fr           \\N         \\N                0\n"
     ]
    }
   ],
   "source": [
    "# Réglage de pandas pour que ça affiche plus de colonnes et de lignes si tronqué\n",
    "pd.set_option('display.max_columns', None)\n",
    "pd.set_option('display.max_rows', 20)\n",
    "\n",
    "\n",
    "print(data_titles.sample(15).to_string())"
   ]
  },
  {
   "cell_type": "code",
   "execution_count": 6,
   "metadata": {},
   "outputs": [],
   "source": [
    "# Remplacer '\\N' par NaN\n",
    "data_titles.replace(\"\\\\N\", np.nan, inplace=True)"
   ]
  },
  {
   "cell_type": "code",
   "execution_count": 7,
   "metadata": {},
   "outputs": [
    {
     "data": {
      "text/plain": [
       "titleId                   0\n",
       "ordering                  0\n",
       "title                    38\n",
       "region             11295754\n",
       "language           16611030\n",
       "types              34992955\n",
       "attributes         50138233\n",
       "isOriginalTitle           0\n",
       "dtype: int64"
      ]
     },
     "execution_count": 7,
     "metadata": {},
     "output_type": "execute_result"
    }
   ],
   "source": [
    "data_titles.isnull().sum()"
   ]
  },
  {
   "cell_type": "code",
   "execution_count": 8,
   "metadata": {},
   "outputs": [
    {
     "name": "stdout",
     "output_type": "stream",
     "text": [
      "             titleId  ordering                               title region  \\\n",
      "41262707   tt5234574         4  Épisode datant du 1 septembre 2012     FR   \n",
      "44378469   tt7048270         1                       Episode #1.62    NaN   \n",
      "40957890   tt5047976         3                         एपिसोड #1.6     IN   \n",
      "49600331   tt9558640         1       Unterwegs in den Hörselbergen    NaN   \n",
      "20464016   tt1659140         5      Episodio datato 20 maggio 2010     IT   \n",
      "49293547   tt9423074         1                              Barlow    NaN   \n",
      "517212     tt0063643        14                  Maradj távol, Joe!     HU   \n",
      "12428238   tt1316073         4                      Play with Fire     CA   \n",
      "8711375   tt11738424         1                 After School Horror    NaN   \n",
      "11366843  tt12761948         8                     Episodio #1.555     ES   \n",
      "4414120   tt10154044         7                        エピソード #1.509     JP   \n",
      "33933522  tt30522145         1                      Episode #1.642    NaN   \n",
      "11567573   tt1284037         1                      Ashes and Snow    NaN   \n",
      "20069331  tt16347324         5                    Episodio #1.7034     IT   \n",
      "12080417  tt13029026         8                    Episodio #1.5690     ES   \n",
      "\n",
      "         language        types attributes  isOriginalTitle  \n",
      "41262707       fr          NaN        NaN                0  \n",
      "44378469      NaN     original        NaN                1  \n",
      "40957890       hi          NaN        NaN                0  \n",
      "49600331      NaN     original        NaN                1  \n",
      "20464016       it          NaN        NaN                0  \n",
      "49293547      NaN     original        NaN                1  \n",
      "517212        NaN  imdbDisplay        NaN                0  \n",
      "12428238      NaN          NaN        NaN                0  \n",
      "8711375       NaN     original        NaN                1  \n",
      "11366843       es          NaN        NaN                0  \n",
      "4414120        ja          NaN        NaN                0  \n",
      "33933522      NaN     original        NaN                1  \n",
      "11567573      NaN     original        NaN                1  \n",
      "20069331       it          NaN        NaN                0  \n",
      "12080417       es          NaN        NaN                0  \n"
     ]
    }
   ],
   "source": [
    "print(data_titles.sample(15))"
   ]
  }
 ],
 "metadata": {
  "kernelspec": {
   "display_name": "base",
   "language": "python",
   "name": "python3"
  },
  "language_info": {
   "codemirror_mode": {
    "name": "ipython",
    "version": 3
   },
   "file_extension": ".py",
   "mimetype": "text/x-python",
   "name": "python",
   "nbconvert_exporter": "python",
   "pygments_lexer": "ipython3",
   "version": "3.12.4"
  }
 },
 "nbformat": 4,
 "nbformat_minor": 2
}
