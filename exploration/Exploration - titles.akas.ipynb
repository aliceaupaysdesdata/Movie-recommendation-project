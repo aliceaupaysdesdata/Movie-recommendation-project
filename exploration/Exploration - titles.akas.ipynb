{
 "cells": [
  {
   "cell_type": "code",
   "execution_count": 6,
   "metadata": {},
   "outputs": [],
   "source": [
    "import pandas as pd\n",
    "import numpy as np\n",
    "import matplotlib.pyplot as plt\n"
   ]
  },
  {
   "cell_type": "code",
   "execution_count": 7,
   "metadata": {},
   "outputs": [],
   "source": [
    "file_path_titles = \"../exploration/Exploration - titles.akas.ipynb\""
   ]
  },
  {
   "cell_type": "code",
   "execution_count": 10,
   "metadata": {},
   "outputs": [],
   "source": [
    "data_titles = pd.read_csv(\"../gitignore/title.akas.tsv\", sep=\"\\t\")\n"
   ]
  },
  {
   "cell_type": "code",
   "execution_count": 11,
   "metadata": {},
   "outputs": [
    {
     "name": "stdout",
     "output_type": "stream",
     "text": [
      "\n",
      "Info sur les données Titles:\n",
      "<class 'pandas.core.frame.DataFrame'>\n",
      "RangeIndex: 50429043 entries, 0 to 50429042\n",
      "Data columns (total 8 columns):\n",
      " #   Column           Dtype \n",
      "---  ------           ----- \n",
      " 0   titleId          object\n",
      " 1   ordering         int64 \n",
      " 2   title            object\n",
      " 3   region           object\n",
      " 4   language         object\n",
      " 5   types            object\n",
      " 6   attributes       object\n",
      " 7   isOriginalTitle  int64 \n",
      "dtypes: int64(2), object(6)\n",
      "memory usage: 3.0+ GB\n"
     ]
    }
   ],
   "source": [
    "print(\"\\nInfo sur les données Titles:\")\n",
    "data_titles.info()"
   ]
  },
  {
   "cell_type": "code",
   "execution_count": 20,
   "metadata": {},
   "outputs": [
    {
     "name": "stdout",
     "output_type": "stream",
     "text": [
      "             titleId  ordering                                         title region language     types attributes  isOriginalTitle\n",
      "49190812   tt9380476         4                                Épisode #1.182     FR       fr       NaN        NaN                0\n",
      "48791942   tt9209716         6                   Folge vom 6. September 1972     DE       de       NaN        NaN                0\n",
      "3287741    tt0795530         1  'Dog Day Afternoon': Casting the Controversy    NaN      NaN  original        NaN                1\n",
      "31466696  tt28357436         6                                   Folge #1.81     DE       de       NaN        NaN                0\n",
      "24262650  tt20751294         2                               Episódio #9.121     PT       pt       NaN        NaN                0\n",
      "33832106  tt30447875         1                                 Episode #4.16    NaN      NaN  original        NaN                1\n",
      "10735412  tt12514684         1                               Episode #1.4181    NaN      NaN  original        NaN                1\n",
      "42466392   tt5931252         3                                   एपिसोड #1.2     IN       hi       NaN        NaN                0\n",
      "15744251  tt14462138         6                                  Folge #1.289     DE       de       NaN        NaN                0\n",
      "32613639  tt29311847         2                               Episódio #1.119     PT       pt       NaN        NaN                0\n",
      "22833652  tt19224580         2                               Episódio #6.200     PT       pt       NaN        NaN                0\n",
      "46679886   tt8225684         8                               Episodio #1.320     ES       es       NaN        NaN                0\n",
      "18716312  tt15652536         1                            23. sep. kl. 17:00    NaN      NaN  original        NaN                1\n",
      "27996726  tt24516648         2                               Episódio #1.105     PT       pt       NaN        NaN                0\n",
      "39719506   tt4360006         1                                 Episode #19.9    NaN      NaN  original        NaN                1\n"
     ]
    }
   ],
   "source": [
    "# Réglage de pandas pour que ça affiche plus de colonnes et de lignes si tronqué\n",
    "pd.set_option('display.max_columns', None)\n",
    "pd.set_option('display.max_rows', 20)\n",
    "\n",
    "\n",
    "print(data_titles.sample(15).to_string())"
   ]
  },
  {
   "cell_type": "code",
   "execution_count": 16,
   "metadata": {},
   "outputs": [],
   "source": [
    "# Remplacer '\\N' par NaN\n",
    "data_titles.replace(\"\\\\N\", np.nan, inplace=True)"
   ]
  },
  {
   "cell_type": "code",
   "execution_count": 17,
   "metadata": {},
   "outputs": [
    {
     "data": {
      "text/plain": [
       "titleId                   0\n",
       "ordering                  0\n",
       "title                    38\n",
       "region             11295754\n",
       "language           16611030\n",
       "types              34992955\n",
       "attributes         50138233\n",
       "isOriginalTitle           0\n",
       "dtype: int64"
      ]
     },
     "execution_count": 17,
     "metadata": {},
     "output_type": "execute_result"
    }
   ],
   "source": [
    "data_titles.isnull().sum()"
   ]
  },
  {
   "cell_type": "code",
   "execution_count": 19,
   "metadata": {},
   "outputs": [
    {
     "name": "stdout",
     "output_type": "stream",
     "text": [
      "             titleId  ordering                              title region  \\\n",
      "1829376    tt0330328         2    Gilda Radner's Greatest Moments     US   \n",
      "10017206  tt12235422         2                     Episódio #1.45     PT   \n",
      "49566205   tt9540832         5                     Episodio #12.2     IT   \n",
      "14826185  tt14100442         3                        एपिसोड #1.7     IN   \n",
      "22951757  tt19363312         7                         エピソード #2.1     JP   \n",
      "43103065   tt6320342         1                Lazy Daze with Lola    NaN   \n",
      "49397006   tt9467140         3                      एपिसोड #1.313     IN   \n",
      "8663222    tt1171937         3    9 जनवरी 2008 को प्रसारित एपिसोड     IN   \n",
      "20151560  tt16381838         2                   Episódio #1.8764     PT   \n",
      "38703322   tt3810624         8     Episodio fechado 24 junio 2014     ES   \n",
      "32147942  tt28805606         5                    Episodio #1.496     IT   \n",
      "100558     tt0021716         4                        Captivation     US   \n",
      "39652315   tt4326486         4  Épisode datant du 17 janvier 2015     FR   \n",
      "28763857  tt26344430         2                    Episódio #1.544     PT   \n",
      "28908279  tt26468848         7                        エピソード #27.8     JP   \n",
      "\n",
      "         language        types attributes  isOriginalTitle  \n",
      "1829376       NaN  imdbDisplay        NaN                0  \n",
      "10017206       pt          NaN        NaN                0  \n",
      "49566205       it          NaN        NaN                0  \n",
      "14826185       hi          NaN        NaN                0  \n",
      "22951757       ja          NaN        NaN                0  \n",
      "43103065      NaN     original        NaN                1  \n",
      "49397006       hi          NaN        NaN                0  \n",
      "8663222        hi          NaN        NaN                0  \n",
      "20151560       pt          NaN        NaN                0  \n",
      "38703322       es          NaN        NaN                0  \n",
      "32147942       it          NaN        NaN                0  \n",
      "100558        NaN  imdbDisplay        NaN                0  \n",
      "39652315       fr          NaN        NaN                0  \n",
      "28763857       pt          NaN        NaN                0  \n",
      "28908279       ja          NaN        NaN                0  \n"
     ]
    }
   ],
   "source": [
    "print(data_titles.sample(15))"
   ]
  }
 ],
 "metadata": {
  "kernelspec": {
   "display_name": "base",
   "language": "python",
   "name": "python3"
  },
  "language_info": {
   "codemirror_mode": {
    "name": "ipython",
    "version": 3
   },
   "file_extension": ".py",
   "mimetype": "text/x-python",
   "name": "python",
   "nbconvert_exporter": "python",
   "pygments_lexer": "ipython3",
   "version": "3.12.4"
  }
 },
 "nbformat": 4,
 "nbformat_minor": 2
}
