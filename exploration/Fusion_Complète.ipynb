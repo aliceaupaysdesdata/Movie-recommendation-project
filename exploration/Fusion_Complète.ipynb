{
 "cells": [
  {
   "cell_type": "code",
   "execution_count": 1,
   "metadata": {},
   "outputs": [],
   "source": [
    "import pandas as pd"
   ]
  },
  {
   "cell_type": "code",
   "execution_count": 3,
   "metadata": {},
   "outputs": [],
   "source": [
    "file_path_episodes = \"../exploration/Exploration - Fusion_Complète.ipynb\"\n",
    "\n",
    "db01 = pd.read_csv(\"../gitignore/title.basics.tsv\", sep=\"\\t\", low_memory=False)\n",
    "db02 = pd.read_csv(\"../gitignore/title.ratings.tsv\", sep=\"\\t\")\n",
    "db03 = pd.read_csv(\"../gitignore/title.principals4.tsv\", sep=\"\\t\")\n",
    "db04 = pd.read_csv(\"../gitignore/name.basics.tsv\", sep=\"\\t\")\n",
    "db05 = pd.read_csv(\"../gitignore/title.crew.tsv\", sep=\"\\t\")"
   ]
  },
  {
   "cell_type": "code",
   "execution_count": 4,
   "metadata": {},
   "outputs": [
    {
     "name": "stdout",
     "output_type": "stream",
     "text": [
      "Total: 11248099\n"
     ]
    },
    {
     "data": {
      "text/plain": [
       "tconst            11248099\n",
       "titleType               11\n",
       "primaryTitle       5048924\n",
       "originalTitle      5073560\n",
       "isAdult                 42\n",
       "startYear              152\n",
       "endYear                 98\n",
       "runtimeMinutes         944\n",
       "genres                2384\n",
       "dtype: int64"
      ]
     },
     "execution_count": 4,
     "metadata": {},
     "output_type": "execute_result"
    }
   ],
   "source": [
    "db01_tot = db01.shape[0]\n",
    "print(f\"Total: {db01_tot}\")\n",
    "db01.nunique()"
   ]
  },
  {
   "cell_type": "code",
   "execution_count": 5,
   "metadata": {},
   "outputs": [
    {
     "name": "stdout",
     "output_type": "stream",
     "text": [
      "Total: 1500950\n"
     ]
    },
    {
     "data": {
      "text/plain": [
       "tconst           1500950\n",
       "averageRating         91\n",
       "numVotes           22785\n",
       "dtype: int64"
      ]
     },
     "execution_count": 5,
     "metadata": {},
     "output_type": "execute_result"
    }
   ],
   "source": [
    "db02_tot = db02.shape[0]\n",
    "print(f\"Total: {db02_tot}\")\n",
    "db02.nunique()"
   ]
  },
  {
   "cell_type": "code",
   "execution_count": 6,
   "metadata": {},
   "outputs": [],
   "source": [
    "dbmerge_1 = pd.merge(db01, db02, on='tconst', how='inner')"
   ]
  },
  {
   "cell_type": "code",
   "execution_count": 9,
   "metadata": {},
   "outputs": [
    {
     "data": {
      "text/html": [
       "<div>\n",
       "<style scoped>\n",
       "    .dataframe tbody tr th:only-of-type {\n",
       "        vertical-align: middle;\n",
       "    }\n",
       "\n",
       "    .dataframe tbody tr th {\n",
       "        vertical-align: top;\n",
       "    }\n",
       "\n",
       "    .dataframe thead th {\n",
       "        text-align: right;\n",
       "    }\n",
       "</style>\n",
       "<table border=\"1\" class=\"dataframe\">\n",
       "  <thead>\n",
       "    <tr style=\"text-align: right;\">\n",
       "      <th></th>\n",
       "      <th>tconst</th>\n",
       "      <th>titleType</th>\n",
       "      <th>primaryTitle</th>\n",
       "      <th>originalTitle</th>\n",
       "      <th>isAdult</th>\n",
       "      <th>startYear</th>\n",
       "      <th>endYear</th>\n",
       "      <th>runtimeMinutes</th>\n",
       "      <th>genres</th>\n",
       "      <th>averageRating</th>\n",
       "      <th>numVotes</th>\n",
       "    </tr>\n",
       "  </thead>\n",
       "  <tbody>\n",
       "    <tr>\n",
       "      <th>0</th>\n",
       "      <td>tt0000001</td>\n",
       "      <td>short</td>\n",
       "      <td>Carmencita</td>\n",
       "      <td>Carmencita</td>\n",
       "      <td>0</td>\n",
       "      <td>1894</td>\n",
       "      <td>\\N</td>\n",
       "      <td>1</td>\n",
       "      <td>Documentary,Short</td>\n",
       "      <td>5.7</td>\n",
       "      <td>2101</td>\n",
       "    </tr>\n",
       "    <tr>\n",
       "      <th>1</th>\n",
       "      <td>tt0000002</td>\n",
       "      <td>short</td>\n",
       "      <td>Le clown et ses chiens</td>\n",
       "      <td>Le clown et ses chiens</td>\n",
       "      <td>0</td>\n",
       "      <td>1892</td>\n",
       "      <td>\\N</td>\n",
       "      <td>5</td>\n",
       "      <td>Animation,Short</td>\n",
       "      <td>5.6</td>\n",
       "      <td>282</td>\n",
       "    </tr>\n",
       "    <tr>\n",
       "      <th>2</th>\n",
       "      <td>tt0000003</td>\n",
       "      <td>short</td>\n",
       "      <td>Poor Pierrot</td>\n",
       "      <td>Pauvre Pierrot</td>\n",
       "      <td>0</td>\n",
       "      <td>1892</td>\n",
       "      <td>\\N</td>\n",
       "      <td>5</td>\n",
       "      <td>Animation,Comedy,Romance</td>\n",
       "      <td>6.5</td>\n",
       "      <td>2121</td>\n",
       "    </tr>\n",
       "    <tr>\n",
       "      <th>3</th>\n",
       "      <td>tt0000004</td>\n",
       "      <td>short</td>\n",
       "      <td>Un bon bock</td>\n",
       "      <td>Un bon bock</td>\n",
       "      <td>0</td>\n",
       "      <td>1892</td>\n",
       "      <td>\\N</td>\n",
       "      <td>12</td>\n",
       "      <td>Animation,Short</td>\n",
       "      <td>5.4</td>\n",
       "      <td>182</td>\n",
       "    </tr>\n",
       "    <tr>\n",
       "      <th>4</th>\n",
       "      <td>tt0000005</td>\n",
       "      <td>short</td>\n",
       "      <td>Blacksmith Scene</td>\n",
       "      <td>Blacksmith Scene</td>\n",
       "      <td>0</td>\n",
       "      <td>1893</td>\n",
       "      <td>\\N</td>\n",
       "      <td>1</td>\n",
       "      <td>Comedy,Short</td>\n",
       "      <td>6.2</td>\n",
       "      <td>2852</td>\n",
       "    </tr>\n",
       "  </tbody>\n",
       "</table>\n",
       "</div>"
      ],
      "text/plain": [
       "      tconst titleType            primaryTitle           originalTitle  \\\n",
       "0  tt0000001     short              Carmencita              Carmencita   \n",
       "1  tt0000002     short  Le clown et ses chiens  Le clown et ses chiens   \n",
       "2  tt0000003     short            Poor Pierrot          Pauvre Pierrot   \n",
       "3  tt0000004     short             Un bon bock             Un bon bock   \n",
       "4  tt0000005     short        Blacksmith Scene        Blacksmith Scene   \n",
       "\n",
       "  isAdult startYear endYear runtimeMinutes                    genres  \\\n",
       "0       0      1894      \\N              1         Documentary,Short   \n",
       "1       0      1892      \\N              5           Animation,Short   \n",
       "2       0      1892      \\N              5  Animation,Comedy,Romance   \n",
       "3       0      1892      \\N             12           Animation,Short   \n",
       "4       0      1893      \\N              1              Comedy,Short   \n",
       "\n",
       "   averageRating  numVotes  \n",
       "0            5.7      2101  \n",
       "1            5.6       282  \n",
       "2            6.5      2121  \n",
       "3            5.4       182  \n",
       "4            6.2      2852  "
      ]
     },
     "metadata": {},
     "output_type": "display_data"
    }
   ],
   "source": [
    "display(dbmerge_1.head())"
   ]
  },
  {
   "cell_type": "code",
   "execution_count": 14,
   "metadata": {},
   "outputs": [
    {
     "name": "stdout",
     "output_type": "stream",
     "text": [
      "Total: 1500950\n"
     ]
    },
    {
     "data": {
      "text/plain": [
       "tconst            1500950\n",
       "titleType              10\n",
       "primaryTitle      1111771\n",
       "originalTitle     1129353\n",
       "isAdult                 5\n",
       "startYear             146\n",
       "endYear                85\n",
       "runtimeMinutes        704\n",
       "genres               2074\n",
       "averageRating          91\n",
       "numVotes            22785\n",
       "dtype: int64"
      ]
     },
     "execution_count": 14,
     "metadata": {},
     "output_type": "execute_result"
    }
   ],
   "source": [
    "dbmerge_1_tot = dbmerge_1.shape[0]\n",
    "print(f\"Total: {dbmerge_1_tot}\")\n",
    "dbmerge_1.nunique()"
   ]
  },
  {
   "cell_type": "code",
   "execution_count": 10,
   "metadata": {},
   "outputs": [
    {
     "name": "stdout",
     "output_type": "stream",
     "text": [
      "Total: 75327831\n"
     ]
    },
    {
     "data": {
      "text/plain": [
       "tconst             10086702\n",
       "nconst              5751717\n",
       "category                  6\n",
       "job                   40970\n",
       "characters          4148522\n",
       "plusieurs_roles           2\n",
       "dtype: int64"
      ]
     },
     "execution_count": 10,
     "metadata": {},
     "output_type": "execute_result"
    }
   ],
   "source": [
    "db03_tot = db03.shape[0]\n",
    "print(f\"Total: {db03_tot}\")\n",
    "db03.nunique()"
   ]
  },
  {
   "cell_type": "code",
   "execution_count": 19,
   "metadata": {},
   "outputs": [],
   "source": [
    "dbmerge_2 = pd.merge(db03, dbmerge_1, on='tconst', how='inner')"
   ]
  },
  {
   "cell_type": "code",
   "execution_count": 22,
   "metadata": {},
   "outputs": [
    {
     "data": {
      "text/html": [
       "<div>\n",
       "<style scoped>\n",
       "    .dataframe tbody tr th:only-of-type {\n",
       "        vertical-align: middle;\n",
       "    }\n",
       "\n",
       "    .dataframe tbody tr th {\n",
       "        vertical-align: top;\n",
       "    }\n",
       "\n",
       "    .dataframe thead th {\n",
       "        text-align: right;\n",
       "    }\n",
       "</style>\n",
       "<table border=\"1\" class=\"dataframe\">\n",
       "  <thead>\n",
       "    <tr style=\"text-align: right;\">\n",
       "      <th></th>\n",
       "      <th>tconst</th>\n",
       "      <th>nconst</th>\n",
       "      <th>category</th>\n",
       "      <th>job</th>\n",
       "      <th>characters</th>\n",
       "      <th>plusieurs_roles</th>\n",
       "      <th>titleType</th>\n",
       "      <th>primaryTitle</th>\n",
       "      <th>originalTitle</th>\n",
       "      <th>isAdult</th>\n",
       "      <th>startYear</th>\n",
       "      <th>endYear</th>\n",
       "      <th>runtimeMinutes</th>\n",
       "      <th>genres</th>\n",
       "      <th>averageRating</th>\n",
       "      <th>numVotes</th>\n",
       "    </tr>\n",
       "  </thead>\n",
       "  <tbody>\n",
       "    <tr>\n",
       "      <th>0</th>\n",
       "      <td>tt0000001</td>\n",
       "      <td>nm1588970</td>\n",
       "      <td>self</td>\n",
       "      <td>NaN</td>\n",
       "      <td>['Self']</td>\n",
       "      <td>False</td>\n",
       "      <td>short</td>\n",
       "      <td>Carmencita</td>\n",
       "      <td>Carmencita</td>\n",
       "      <td>0</td>\n",
       "      <td>1894</td>\n",
       "      <td>\\N</td>\n",
       "      <td>1</td>\n",
       "      <td>Documentary,Short</td>\n",
       "      <td>5.7</td>\n",
       "      <td>2101</td>\n",
       "    </tr>\n",
       "    <tr>\n",
       "      <th>1</th>\n",
       "      <td>tt0000001</td>\n",
       "      <td>nm0005690</td>\n",
       "      <td>director</td>\n",
       "      <td>NaN</td>\n",
       "      <td>NaN</td>\n",
       "      <td>False</td>\n",
       "      <td>short</td>\n",
       "      <td>Carmencita</td>\n",
       "      <td>Carmencita</td>\n",
       "      <td>0</td>\n",
       "      <td>1894</td>\n",
       "      <td>\\N</td>\n",
       "      <td>1</td>\n",
       "      <td>Documentary,Short</td>\n",
       "      <td>5.7</td>\n",
       "      <td>2101</td>\n",
       "    </tr>\n",
       "    <tr>\n",
       "      <th>2</th>\n",
       "      <td>tt0000001</td>\n",
       "      <td>nm0005690</td>\n",
       "      <td>producer</td>\n",
       "      <td>producer</td>\n",
       "      <td>NaN</td>\n",
       "      <td>False</td>\n",
       "      <td>short</td>\n",
       "      <td>Carmencita</td>\n",
       "      <td>Carmencita</td>\n",
       "      <td>0</td>\n",
       "      <td>1894</td>\n",
       "      <td>\\N</td>\n",
       "      <td>1</td>\n",
       "      <td>Documentary,Short</td>\n",
       "      <td>5.7</td>\n",
       "      <td>2101</td>\n",
       "    </tr>\n",
       "    <tr>\n",
       "      <th>3</th>\n",
       "      <td>tt0000002</td>\n",
       "      <td>nm0721526</td>\n",
       "      <td>director</td>\n",
       "      <td>NaN</td>\n",
       "      <td>NaN</td>\n",
       "      <td>False</td>\n",
       "      <td>short</td>\n",
       "      <td>Le clown et ses chiens</td>\n",
       "      <td>Le clown et ses chiens</td>\n",
       "      <td>0</td>\n",
       "      <td>1892</td>\n",
       "      <td>\\N</td>\n",
       "      <td>5</td>\n",
       "      <td>Animation,Short</td>\n",
       "      <td>5.6</td>\n",
       "      <td>282</td>\n",
       "    </tr>\n",
       "    <tr>\n",
       "      <th>4</th>\n",
       "      <td>tt0000003</td>\n",
       "      <td>nm0721526</td>\n",
       "      <td>director</td>\n",
       "      <td>NaN</td>\n",
       "      <td>NaN</td>\n",
       "      <td>False</td>\n",
       "      <td>short</td>\n",
       "      <td>Poor Pierrot</td>\n",
       "      <td>Pauvre Pierrot</td>\n",
       "      <td>0</td>\n",
       "      <td>1892</td>\n",
       "      <td>\\N</td>\n",
       "      <td>5</td>\n",
       "      <td>Animation,Comedy,Romance</td>\n",
       "      <td>6.5</td>\n",
       "      <td>2121</td>\n",
       "    </tr>\n",
       "  </tbody>\n",
       "</table>\n",
       "</div>"
      ],
      "text/plain": [
       "      tconst     nconst  category       job characters  plusieurs_roles  \\\n",
       "0  tt0000001  nm1588970      self       NaN   ['Self']            False   \n",
       "1  tt0000001  nm0005690  director       NaN        NaN            False   \n",
       "2  tt0000001  nm0005690  producer  producer        NaN            False   \n",
       "3  tt0000002  nm0721526  director       NaN        NaN            False   \n",
       "4  tt0000003  nm0721526  director       NaN        NaN            False   \n",
       "\n",
       "  titleType            primaryTitle           originalTitle isAdult startYear  \\\n",
       "0     short              Carmencita              Carmencita       0      1894   \n",
       "1     short              Carmencita              Carmencita       0      1894   \n",
       "2     short              Carmencita              Carmencita       0      1894   \n",
       "3     short  Le clown et ses chiens  Le clown et ses chiens       0      1892   \n",
       "4     short            Poor Pierrot          Pauvre Pierrot       0      1892   \n",
       "\n",
       "  endYear runtimeMinutes                    genres  averageRating  numVotes  \n",
       "0      \\N              1         Documentary,Short            5.7      2101  \n",
       "1      \\N              1         Documentary,Short            5.7      2101  \n",
       "2      \\N              1         Documentary,Short            5.7      2101  \n",
       "3      \\N              5           Animation,Short            5.6       282  \n",
       "4      \\N              5  Animation,Comedy,Romance            6.5      2121  "
      ]
     },
     "metadata": {},
     "output_type": "display_data"
    }
   ],
   "source": [
    "display(dbmerge_2.head())"
   ]
  },
  {
   "cell_type": "code",
   "execution_count": 20,
   "metadata": {},
   "outputs": [
    {
     "name": "stdout",
     "output_type": "stream",
     "text": [
      "Total: 16731742\n"
     ]
    },
    {
     "data": {
      "text/plain": [
       "tconst             1469360\n",
       "nconst             2367392\n",
       "category                 6\n",
       "job                  27515\n",
       "characters         2426303\n",
       "plusieurs_roles          2\n",
       "titleType               10\n",
       "primaryTitle       1088895\n",
       "originalTitle      1106346\n",
       "isAdult                  5\n",
       "startYear              146\n",
       "endYear                 84\n",
       "runtimeMinutes         702\n",
       "genres                2068\n",
       "averageRating           91\n",
       "numVotes             22779\n",
       "dtype: int64"
      ]
     },
     "execution_count": 20,
     "metadata": {},
     "output_type": "execute_result"
    }
   ],
   "source": [
    "dbmerge_2_tot = dbmerge_2.shape[0]\n",
    "print(f\"Total: {dbmerge_2_tot}\")\n",
    "dbmerge_2.nunique()"
   ]
  },
  {
   "cell_type": "code",
   "execution_count": 11,
   "metadata": {},
   "outputs": [
    {
     "name": "stdout",
     "output_type": "stream",
     "text": [
      "Total: 13958409\n"
     ]
    },
    {
     "data": {
      "text/plain": [
       "nconst               13958409\n",
       "primaryName          10719045\n",
       "birthYear                 544\n",
       "deathYear                 487\n",
       "primaryProfession       23082\n",
       "knownForTitles        5814340\n",
       "dtype: int64"
      ]
     },
     "execution_count": 11,
     "metadata": {},
     "output_type": "execute_result"
    }
   ],
   "source": [
    "db04_tot = db04.shape[0]\n",
    "print(f\"Total: {db04_tot}\")\n",
    "db04.nunique()"
   ]
  },
  {
   "cell_type": "code",
   "execution_count": 23,
   "metadata": {},
   "outputs": [],
   "source": [
    "dbmerge_3 = pd.merge(db04, dbmerge_2, on='nconst', how='inner')"
   ]
  },
  {
   "cell_type": "code",
   "execution_count": 24,
   "metadata": {},
   "outputs": [
    {
     "data": {
      "text/html": [
       "<div>\n",
       "<style scoped>\n",
       "    .dataframe tbody tr th:only-of-type {\n",
       "        vertical-align: middle;\n",
       "    }\n",
       "\n",
       "    .dataframe tbody tr th {\n",
       "        vertical-align: top;\n",
       "    }\n",
       "\n",
       "    .dataframe thead th {\n",
       "        text-align: right;\n",
       "    }\n",
       "</style>\n",
       "<table border=\"1\" class=\"dataframe\">\n",
       "  <thead>\n",
       "    <tr style=\"text-align: right;\">\n",
       "      <th></th>\n",
       "      <th>nconst</th>\n",
       "      <th>primaryName</th>\n",
       "      <th>birthYear</th>\n",
       "      <th>deathYear</th>\n",
       "      <th>primaryProfession</th>\n",
       "      <th>knownForTitles</th>\n",
       "      <th>tconst</th>\n",
       "      <th>category</th>\n",
       "      <th>job</th>\n",
       "      <th>characters</th>\n",
       "      <th>...</th>\n",
       "      <th>titleType</th>\n",
       "      <th>primaryTitle</th>\n",
       "      <th>originalTitle</th>\n",
       "      <th>isAdult</th>\n",
       "      <th>startYear</th>\n",
       "      <th>endYear</th>\n",
       "      <th>runtimeMinutes</th>\n",
       "      <th>genres</th>\n",
       "      <th>averageRating</th>\n",
       "      <th>numVotes</th>\n",
       "    </tr>\n",
       "  </thead>\n",
       "  <tbody>\n",
       "    <tr>\n",
       "      <th>0</th>\n",
       "      <td>nm0000001</td>\n",
       "      <td>Fred Astaire</td>\n",
       "      <td>1899</td>\n",
       "      <td>1987</td>\n",
       "      <td>actor,miscellaneous,producer</td>\n",
       "      <td>tt0050419,tt0072308,tt0053137,tt0027125</td>\n",
       "      <td>tt0023926</td>\n",
       "      <td>actor</td>\n",
       "      <td>NaN</td>\n",
       "      <td>['Fred Astaire']</td>\n",
       "      <td>...</td>\n",
       "      <td>movie</td>\n",
       "      <td>Dancing Lady</td>\n",
       "      <td>Dancing Lady</td>\n",
       "      <td>0</td>\n",
       "      <td>1933</td>\n",
       "      <td>\\N</td>\n",
       "      <td>92</td>\n",
       "      <td>Comedy,Musical,Romance</td>\n",
       "      <td>6.8</td>\n",
       "      <td>2743</td>\n",
       "    </tr>\n",
       "    <tr>\n",
       "      <th>1</th>\n",
       "      <td>nm0000001</td>\n",
       "      <td>Fred Astaire</td>\n",
       "      <td>1899</td>\n",
       "      <td>1987</td>\n",
       "      <td>actor,miscellaneous,producer</td>\n",
       "      <td>tt0050419,tt0072308,tt0053137,tt0027125</td>\n",
       "      <td>tt0024025</td>\n",
       "      <td>actor</td>\n",
       "      <td>NaN</td>\n",
       "      <td>['Fred Ayres']</td>\n",
       "      <td>...</td>\n",
       "      <td>movie</td>\n",
       "      <td>Flying Down to Rio</td>\n",
       "      <td>Flying Down to Rio</td>\n",
       "      <td>0</td>\n",
       "      <td>1933</td>\n",
       "      <td>\\N</td>\n",
       "      <td>89</td>\n",
       "      <td>Comedy,Musical,Romance</td>\n",
       "      <td>6.6</td>\n",
       "      <td>4116</td>\n",
       "    </tr>\n",
       "    <tr>\n",
       "      <th>2</th>\n",
       "      <td>nm0000001</td>\n",
       "      <td>Fred Astaire</td>\n",
       "      <td>1899</td>\n",
       "      <td>1987</td>\n",
       "      <td>actor,miscellaneous,producer</td>\n",
       "      <td>tt0050419,tt0072308,tt0053137,tt0027125</td>\n",
       "      <td>tt0025164</td>\n",
       "      <td>actor</td>\n",
       "      <td>NaN</td>\n",
       "      <td>['Guy Holden']</td>\n",
       "      <td>...</td>\n",
       "      <td>movie</td>\n",
       "      <td>The Gay Divorcee</td>\n",
       "      <td>The Gay Divorcee</td>\n",
       "      <td>0</td>\n",
       "      <td>1934</td>\n",
       "      <td>\\N</td>\n",
       "      <td>107</td>\n",
       "      <td>Comedy,Musical,Romance</td>\n",
       "      <td>7.4</td>\n",
       "      <td>8847</td>\n",
       "    </tr>\n",
       "    <tr>\n",
       "      <th>3</th>\n",
       "      <td>nm0000001</td>\n",
       "      <td>Fred Astaire</td>\n",
       "      <td>1899</td>\n",
       "      <td>1987</td>\n",
       "      <td>actor,miscellaneous,producer</td>\n",
       "      <td>tt0050419,tt0072308,tt0053137,tt0027125</td>\n",
       "      <td>tt0026942</td>\n",
       "      <td>actor</td>\n",
       "      <td>NaN</td>\n",
       "      <td>['Huck Haines']</td>\n",
       "      <td>...</td>\n",
       "      <td>movie</td>\n",
       "      <td>Roberta</td>\n",
       "      <td>Roberta</td>\n",
       "      <td>0</td>\n",
       "      <td>1935</td>\n",
       "      <td>\\N</td>\n",
       "      <td>106</td>\n",
       "      <td>Comedy,Musical,Romance</td>\n",
       "      <td>7.0</td>\n",
       "      <td>3735</td>\n",
       "    </tr>\n",
       "    <tr>\n",
       "      <th>4</th>\n",
       "      <td>nm0000001</td>\n",
       "      <td>Fred Astaire</td>\n",
       "      <td>1899</td>\n",
       "      <td>1987</td>\n",
       "      <td>actor,miscellaneous,producer</td>\n",
       "      <td>tt0050419,tt0072308,tt0053137,tt0027125</td>\n",
       "      <td>tt0027125</td>\n",
       "      <td>actor</td>\n",
       "      <td>NaN</td>\n",
       "      <td>['Jerry Travers']</td>\n",
       "      <td>...</td>\n",
       "      <td>movie</td>\n",
       "      <td>Top Hat</td>\n",
       "      <td>Top Hat</td>\n",
       "      <td>0</td>\n",
       "      <td>1935</td>\n",
       "      <td>\\N</td>\n",
       "      <td>101</td>\n",
       "      <td>Comedy,Musical,Romance</td>\n",
       "      <td>7.7</td>\n",
       "      <td>21053</td>\n",
       "    </tr>\n",
       "  </tbody>\n",
       "</table>\n",
       "<p>5 rows × 21 columns</p>\n",
       "</div>"
      ],
      "text/plain": [
       "      nconst   primaryName birthYear deathYear             primaryProfession  \\\n",
       "0  nm0000001  Fred Astaire      1899      1987  actor,miscellaneous,producer   \n",
       "1  nm0000001  Fred Astaire      1899      1987  actor,miscellaneous,producer   \n",
       "2  nm0000001  Fred Astaire      1899      1987  actor,miscellaneous,producer   \n",
       "3  nm0000001  Fred Astaire      1899      1987  actor,miscellaneous,producer   \n",
       "4  nm0000001  Fred Astaire      1899      1987  actor,miscellaneous,producer   \n",
       "\n",
       "                            knownForTitles     tconst category  job  \\\n",
       "0  tt0050419,tt0072308,tt0053137,tt0027125  tt0023926    actor  NaN   \n",
       "1  tt0050419,tt0072308,tt0053137,tt0027125  tt0024025    actor  NaN   \n",
       "2  tt0050419,tt0072308,tt0053137,tt0027125  tt0025164    actor  NaN   \n",
       "3  tt0050419,tt0072308,tt0053137,tt0027125  tt0026942    actor  NaN   \n",
       "4  tt0050419,tt0072308,tt0053137,tt0027125  tt0027125    actor  NaN   \n",
       "\n",
       "          characters  ...  titleType        primaryTitle       originalTitle  \\\n",
       "0   ['Fred Astaire']  ...      movie        Dancing Lady        Dancing Lady   \n",
       "1     ['Fred Ayres']  ...      movie  Flying Down to Rio  Flying Down to Rio   \n",
       "2     ['Guy Holden']  ...      movie    The Gay Divorcee    The Gay Divorcee   \n",
       "3    ['Huck Haines']  ...      movie             Roberta             Roberta   \n",
       "4  ['Jerry Travers']  ...      movie             Top Hat             Top Hat   \n",
       "\n",
       "  isAdult startYear endYear runtimeMinutes                  genres  \\\n",
       "0       0      1933      \\N             92  Comedy,Musical,Romance   \n",
       "1       0      1933      \\N             89  Comedy,Musical,Romance   \n",
       "2       0      1934      \\N            107  Comedy,Musical,Romance   \n",
       "3       0      1935      \\N            106  Comedy,Musical,Romance   \n",
       "4       0      1935      \\N            101  Comedy,Musical,Romance   \n",
       "\n",
       "  averageRating  numVotes  \n",
       "0           6.8      2743  \n",
       "1           6.6      4116  \n",
       "2           7.4      8847  \n",
       "3           7.0      3735  \n",
       "4           7.7     21053  \n",
       "\n",
       "[5 rows x 21 columns]"
      ]
     },
     "metadata": {},
     "output_type": "display_data"
    }
   ],
   "source": [
    "display(dbmerge_3.head())"
   ]
  },
  {
   "cell_type": "code",
   "execution_count": 25,
   "metadata": {},
   "outputs": [
    {
     "name": "stdout",
     "output_type": "stream",
     "text": [
      "Total: 16731742\n"
     ]
    },
    {
     "data": {
      "text/plain": [
       "nconst               2367392\n",
       "primaryName          2136496\n",
       "birthYear                408\n",
       "deathYear                350\n",
       "primaryProfession      13161\n",
       "knownForTitles       1832384\n",
       "tconst               1469360\n",
       "category                   6\n",
       "job                    27515\n",
       "characters           2426303\n",
       "plusieurs_roles            2\n",
       "titleType                 10\n",
       "primaryTitle         1088895\n",
       "originalTitle        1106346\n",
       "isAdult                    5\n",
       "startYear                146\n",
       "endYear                   84\n",
       "runtimeMinutes           702\n",
       "genres                  2068\n",
       "averageRating             91\n",
       "numVotes               22779\n",
       "dtype: int64"
      ]
     },
     "execution_count": 25,
     "metadata": {},
     "output_type": "execute_result"
    }
   ],
   "source": [
    "dbmerge_3_tot = dbmerge_3.shape[0]\n",
    "print(f\"Total: {dbmerge_3_tot}\")\n",
    "dbmerge_3.nunique()"
   ]
  },
  {
   "cell_type": "code",
   "execution_count": 12,
   "metadata": {},
   "outputs": [
    {
     "name": "stdout",
     "output_type": "stream",
     "text": [
      "Total: 10582976\n"
     ]
    },
    {
     "data": {
      "text/plain": [
       "tconst       10582976\n",
       "directors      928981\n",
       "writers       1381497\n",
       "dtype: int64"
      ]
     },
     "execution_count": 12,
     "metadata": {},
     "output_type": "execute_result"
    }
   ],
   "source": [
    "db05_tot = db05.shape[0]\n",
    "print(f\"Total: {db05_tot}\")\n",
    "db05.nunique()"
   ]
  }
 ],
 "metadata": {
  "kernelspec": {
   "display_name": "base",
   "language": "python",
   "name": "python3"
  },
  "language_info": {
   "codemirror_mode": {
    "name": "ipython",
    "version": 3
   },
   "file_extension": ".py",
   "mimetype": "text/x-python",
   "name": "python",
   "nbconvert_exporter": "python",
   "pygments_lexer": "ipython3",
   "version": "3.12.4"
  }
 },
 "nbformat": 4,
 "nbformat_minor": 2
}
