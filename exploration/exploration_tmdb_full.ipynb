{
 "cells": [
  {
   "cell_type": "markdown",
   "metadata": {},
   "source": [
    "## Analyse exploratoire et nettoyage de `tmdb_full`\n",
    "\n",
    "### Introduction\n",
    "Les étapes suivantes visent à analyser, nettoyer et préparer la table `tmdb_full` pour une utilisation ultérieure. \n",
    "Nous allons examiner chaque colonne, effectuer les transformations nécessaires et proposer des recommandations pour les prochaines étapes."
   ]
  },
  {
   "cell_type": "code",
   "execution_count": 20,
   "metadata": {},
   "outputs": [],
   "source": [
    "import matplotlib.pyplot as plt\n",
    "import seaborn as sns\n",
    "import numpy as np\n",
    "import pandas as pd"
   ]
  },
  {
   "cell_type": "markdown",
   "metadata": {},
   "source": [
    "### Étape 1 : Chargement des données"
   ]
  },
  {
   "cell_type": "code",
   "execution_count": 51,
   "metadata": {},
   "outputs": [
    {
     "name": "stderr",
     "output_type": "stream",
     "text": [
      "C:\\Users\\pierr\\AppData\\Local\\Temp\\ipykernel_32740\\2694276354.py:2: DtypeWarning: Columns (24) have mixed types. Specify dtype option on import or set low_memory=False.\n",
      "  df_tmdb = pd.read_csv('../gitignore/tmdb_full.csv')\n"
     ]
    }
   ],
   "source": [
    "# Importation du DataSet :\n",
    "df_tmdb = pd.read_csv('../gitignore/tmdb_full.csv')\n"
   ]
  },
  {
   "cell_type": "markdown",
   "metadata": {},
   "source": [
    "- #### Traitement de l'avertissement"
   ]
  },
  {
   "cell_type": "code",
   "execution_count": 23,
   "metadata": {},
   "outputs": [
    {
     "name": "stdout",
     "output_type": "stream",
     "text": [
      "<class 'pandas.core.frame.DataFrame'>\n",
      "RangeIndex: 309572 entries, 0 to 309571\n",
      "Data columns (total 25 columns):\n",
      " #   Column                        Non-Null Count   Dtype  \n",
      "---  ------                        --------------   -----  \n",
      " 0   adult                         309572 non-null  bool   \n",
      " 1   backdrop_path                 151760 non-null  object \n",
      " 2   budget                        309572 non-null  int64  \n",
      " 3   genres                        309572 non-null  object \n",
      " 4   homepage                      44262 non-null   object \n",
      " 5   id                            309572 non-null  int64  \n",
      " 6   imdb_id                       309572 non-null  object \n",
      " 7   original_language             309572 non-null  object \n",
      " 8   original_title                309572 non-null  object \n",
      " 9   overview                      282512 non-null  object \n",
      " 10  popularity                    309572 non-null  float64\n",
      " 11  poster_path                   264159 non-null  object \n",
      " 12  production_countries          309572 non-null  object \n",
      " 13  release_date                  301339 non-null  object \n",
      " 14  revenue                       309572 non-null  int64  \n",
      " 15  runtime                       309572 non-null  int64  \n",
      " 16  spoken_languages              309572 non-null  object \n",
      " 17  status                        309572 non-null  object \n",
      " 18  tagline                       74573 non-null   object \n",
      " 19  title                         309572 non-null  object \n",
      " 20  video                         309572 non-null  bool   \n",
      " 21  vote_average                  309572 non-null  float64\n",
      " 22  vote_count                    309572 non-null  int64  \n",
      " 23  production_companies_name     309572 non-null  object \n",
      " 24  production_companies_country  164438 non-null  object \n",
      "dtypes: bool(2), float64(2), int64(5), object(16)\n",
      "memory usage: 54.9+ MB\n"
     ]
    }
   ],
   "source": [
    "#Le message d'avertissement précédent nous précise que la colonne d'index 24 contient plusieurs types.\n",
    "#Nous allons vérifier ce qu'elle contient pour convertir les valeurs en un type unique.\n",
    "df_tmdb.info()\n"
   ]
  },
  {
   "cell_type": "code",
   "execution_count": 52,
   "metadata": {},
   "outputs": [],
   "source": [
    "#Il s'agit de la colonne 'production_companies_name' qui devrait contenir des formats str.\n",
    "#Nous allons donc refaire l'import de la table en modifiant le type de cette colonne.\n",
    "df_tmdb = pd.read_csv('../gitignore/tmdb_full.csv', dtype={24:'str'})\n"
   ]
  },
  {
   "cell_type": "markdown",
   "metadata": {},
   "source": [
    "- #### Aperçu rapide des données"
   ]
  },
  {
   "cell_type": "code",
   "execution_count": 28,
   "metadata": {},
   "outputs": [
    {
     "name": "stdout",
     "output_type": "stream",
     "text": [
      "<class 'pandas.core.frame.DataFrame'>\n",
      "RangeIndex: 309572 entries, 0 to 309571\n",
      "Data columns (total 25 columns):\n",
      " #   Column                        Non-Null Count   Dtype  \n",
      "---  ------                        --------------   -----  \n",
      " 0   adult                         309572 non-null  bool   \n",
      " 1   backdrop_path                 151760 non-null  object \n",
      " 2   budget                        309572 non-null  int64  \n",
      " 3   genres                        309572 non-null  object \n",
      " 4   homepage                      44262 non-null   object \n",
      " 5   id                            309572 non-null  int64  \n",
      " 6   imdb_id                       309572 non-null  object \n",
      " 7   original_language             309572 non-null  object \n",
      " 8   original_title                309572 non-null  object \n",
      " 9   overview                      282512 non-null  object \n",
      " 10  popularity                    309572 non-null  float64\n",
      " 11  poster_path                   264159 non-null  object \n",
      " 12  production_countries          309572 non-null  object \n",
      " 13  release_date                  301339 non-null  object \n",
      " 14  revenue                       309572 non-null  int64  \n",
      " 15  runtime                       309572 non-null  int64  \n",
      " 16  spoken_languages              309572 non-null  object \n",
      " 17  status                        309572 non-null  object \n",
      " 18  tagline                       74573 non-null   object \n",
      " 19  title                         309572 non-null  object \n",
      " 20  video                         309572 non-null  bool   \n",
      " 21  vote_average                  309572 non-null  float64\n",
      " 22  vote_count                    309572 non-null  int64  \n",
      " 23  production_companies_name     309572 non-null  object \n",
      " 24  production_companies_country  164438 non-null  object \n",
      "dtypes: bool(2), float64(2), int64(5), object(16)\n",
      "memory usage: 54.9+ MB\n"
     ]
    }
   ],
   "source": [
    "df_tmdb.info()\n"
   ]
  },
  {
   "cell_type": "markdown",
   "metadata": {},
   "source": [
    "### Étape 2 : Informations générales sur les données"
   ]
  },
  {
   "cell_type": "markdown",
   "metadata": {},
   "source": [
    "- #### Aperçu rapide des données"
   ]
  },
  {
   "cell_type": "code",
   "execution_count": null,
   "metadata": {},
   "outputs": [
    {
     "data": {
      "text/html": [
       "<div>\n",
       "<style scoped>\n",
       "    .dataframe tbody tr th:only-of-type {\n",
       "        vertical-align: middle;\n",
       "    }\n",
       "\n",
       "    .dataframe tbody tr th {\n",
       "        vertical-align: top;\n",
       "    }\n",
       "\n",
       "    .dataframe thead th {\n",
       "        text-align: right;\n",
       "    }\n",
       "</style>\n",
       "<table border=\"1\" class=\"dataframe\">\n",
       "  <thead>\n",
       "    <tr style=\"text-align: right;\">\n",
       "      <th></th>\n",
       "      <th>adult</th>\n",
       "      <th>backdrop_path</th>\n",
       "      <th>budget</th>\n",
       "      <th>genres</th>\n",
       "      <th>homepage</th>\n",
       "      <th>id</th>\n",
       "      <th>imdb_id</th>\n",
       "      <th>original_language</th>\n",
       "      <th>original_title</th>\n",
       "      <th>overview</th>\n",
       "      <th>...</th>\n",
       "      <th>runtime</th>\n",
       "      <th>spoken_languages</th>\n",
       "      <th>status</th>\n",
       "      <th>tagline</th>\n",
       "      <th>title</th>\n",
       "      <th>video</th>\n",
       "      <th>vote_average</th>\n",
       "      <th>vote_count</th>\n",
       "      <th>production_companies_name</th>\n",
       "      <th>production_companies_country</th>\n",
       "    </tr>\n",
       "  </thead>\n",
       "  <tbody>\n",
       "    <tr>\n",
       "      <th>0</th>\n",
       "      <td>False</td>\n",
       "      <td>/dvQj1GBZAZirz1skEEZyWH2ZqQP.jpg</td>\n",
       "      <td>0</td>\n",
       "      <td>['Comedy']</td>\n",
       "      <td>NaN</td>\n",
       "      <td>3924</td>\n",
       "      <td>tt0029927</td>\n",
       "      <td>en</td>\n",
       "      <td>Blondie</td>\n",
       "      <td>Blondie and Dagwood are about to celebrate the...</td>\n",
       "      <td>...</td>\n",
       "      <td>70</td>\n",
       "      <td>['en']</td>\n",
       "      <td>Released</td>\n",
       "      <td>The favorite comic strip of millions at last o...</td>\n",
       "      <td>Blondie</td>\n",
       "      <td>False</td>\n",
       "      <td>7.214</td>\n",
       "      <td>7</td>\n",
       "      <td>['Columbia Pictures']</td>\n",
       "      <td>['US']</td>\n",
       "    </tr>\n",
       "    <tr>\n",
       "      <th>1</th>\n",
       "      <td>False</td>\n",
       "      <td>NaN</td>\n",
       "      <td>0</td>\n",
       "      <td>['Adventure']</td>\n",
       "      <td>NaN</td>\n",
       "      <td>6124</td>\n",
       "      <td>tt0011436</td>\n",
       "      <td>de</td>\n",
       "      <td>Der Mann ohne Namen</td>\n",
       "      <td>NaN</td>\n",
       "      <td>...</td>\n",
       "      <td>420</td>\n",
       "      <td>[]</td>\n",
       "      <td>Released</td>\n",
       "      <td>NaN</td>\n",
       "      <td>Peter Voss, Thief of Millions</td>\n",
       "      <td>False</td>\n",
       "      <td>0.000</td>\n",
       "      <td>0</td>\n",
       "      <td>[]</td>\n",
       "      <td>[]</td>\n",
       "    </tr>\n",
       "    <tr>\n",
       "      <th>2</th>\n",
       "      <td>False</td>\n",
       "      <td>/uJlc4aNPF3Y8yAqahJTKBwgwPVW.jpg</td>\n",
       "      <td>0</td>\n",
       "      <td>['Drama', 'Romance']</td>\n",
       "      <td>NaN</td>\n",
       "      <td>8773</td>\n",
       "      <td>tt0055747</td>\n",
       "      <td>fr</td>\n",
       "      <td>L'Amour à vingt ans</td>\n",
       "      <td>Love at Twenty unites five directors from five...</td>\n",
       "      <td>...</td>\n",
       "      <td>110</td>\n",
       "      <td>['it', 'ja', 'pl', 'fr', 'de']</td>\n",
       "      <td>Released</td>\n",
       "      <td>The Intimate Secrets of Young Lovers</td>\n",
       "      <td>Love at Twenty</td>\n",
       "      <td>False</td>\n",
       "      <td>6.700</td>\n",
       "      <td>41</td>\n",
       "      <td>['Ulysse Productions', 'Unitec Films', 'Cinese...</td>\n",
       "      <td>['', 'NZ', 'IT', 'JP', 'DE', 'PL', '']</td>\n",
       "    </tr>\n",
       "    <tr>\n",
       "      <th>3</th>\n",
       "      <td>False</td>\n",
       "      <td>/hQ4pYsIbP22TMXOUdSfC2mjWrO0.jpg</td>\n",
       "      <td>0</td>\n",
       "      <td>['Drama', 'Comedy', 'Crime']</td>\n",
       "      <td>NaN</td>\n",
       "      <td>2</td>\n",
       "      <td>tt0094675</td>\n",
       "      <td>fi</td>\n",
       "      <td>Ariel</td>\n",
       "      <td>Taisto Kasurinen is a Finnish coal miner whose...</td>\n",
       "      <td>...</td>\n",
       "      <td>73</td>\n",
       "      <td>['fi']</td>\n",
       "      <td>Released</td>\n",
       "      <td>NaN</td>\n",
       "      <td>Ariel</td>\n",
       "      <td>False</td>\n",
       "      <td>7.046</td>\n",
       "      <td>248</td>\n",
       "      <td>['Villealfa Filmproductions']</td>\n",
       "      <td>['FI']</td>\n",
       "    </tr>\n",
       "    <tr>\n",
       "      <th>4</th>\n",
       "      <td>False</td>\n",
       "      <td>/l94l89eMmFKh7na2a1u5q67VgNx.jpg</td>\n",
       "      <td>0</td>\n",
       "      <td>['Drama', 'Comedy', 'Romance']</td>\n",
       "      <td>NaN</td>\n",
       "      <td>3</td>\n",
       "      <td>tt0092149</td>\n",
       "      <td>fi</td>\n",
       "      <td>Varjoja paratiisissa</td>\n",
       "      <td>An episode in the life of Nikander, a garbage ...</td>\n",
       "      <td>...</td>\n",
       "      <td>76</td>\n",
       "      <td>['en']</td>\n",
       "      <td>Released</td>\n",
       "      <td>NaN</td>\n",
       "      <td>Shadows in Paradise</td>\n",
       "      <td>False</td>\n",
       "      <td>7.182</td>\n",
       "      <td>269</td>\n",
       "      <td>['Villealfa Filmproductions']</td>\n",
       "      <td>['FI']</td>\n",
       "    </tr>\n",
       "  </tbody>\n",
       "</table>\n",
       "<p>5 rows × 25 columns</p>\n",
       "</div>"
      ],
      "text/plain": [
       "   adult                     backdrop_path  budget  \\\n",
       "0  False  /dvQj1GBZAZirz1skEEZyWH2ZqQP.jpg       0   \n",
       "1  False                               NaN       0   \n",
       "2  False  /uJlc4aNPF3Y8yAqahJTKBwgwPVW.jpg       0   \n",
       "3  False  /hQ4pYsIbP22TMXOUdSfC2mjWrO0.jpg       0   \n",
       "4  False  /l94l89eMmFKh7na2a1u5q67VgNx.jpg       0   \n",
       "\n",
       "                           genres homepage    id    imdb_id original_language  \\\n",
       "0                      ['Comedy']      NaN  3924  tt0029927                en   \n",
       "1                   ['Adventure']      NaN  6124  tt0011436                de   \n",
       "2            ['Drama', 'Romance']      NaN  8773  tt0055747                fr   \n",
       "3    ['Drama', 'Comedy', 'Crime']      NaN     2  tt0094675                fi   \n",
       "4  ['Drama', 'Comedy', 'Romance']      NaN     3  tt0092149                fi   \n",
       "\n",
       "         original_title                                           overview  \\\n",
       "0               Blondie  Blondie and Dagwood are about to celebrate the...   \n",
       "1   Der Mann ohne Namen                                                NaN   \n",
       "2   L'Amour à vingt ans  Love at Twenty unites five directors from five...   \n",
       "3                 Ariel  Taisto Kasurinen is a Finnish coal miner whose...   \n",
       "4  Varjoja paratiisissa  An episode in the life of Nikander, a garbage ...   \n",
       "\n",
       "   ...  runtime                spoken_languages    status  \\\n",
       "0  ...       70                          ['en']  Released   \n",
       "1  ...      420                              []  Released   \n",
       "2  ...      110  ['it', 'ja', 'pl', 'fr', 'de']  Released   \n",
       "3  ...       73                          ['fi']  Released   \n",
       "4  ...       76                          ['en']  Released   \n",
       "\n",
       "                                             tagline  \\\n",
       "0  The favorite comic strip of millions at last o...   \n",
       "1                                                NaN   \n",
       "2               The Intimate Secrets of Young Lovers   \n",
       "3                                                NaN   \n",
       "4                                                NaN   \n",
       "\n",
       "                           title  video vote_average vote_count  \\\n",
       "0                        Blondie  False        7.214          7   \n",
       "1  Peter Voss, Thief of Millions  False        0.000          0   \n",
       "2                 Love at Twenty  False        6.700         41   \n",
       "3                          Ariel  False        7.046        248   \n",
       "4            Shadows in Paradise  False        7.182        269   \n",
       "\n",
       "                           production_companies_name  \\\n",
       "0                              ['Columbia Pictures']   \n",
       "1                                                 []   \n",
       "2  ['Ulysse Productions', 'Unitec Films', 'Cinese...   \n",
       "3                      ['Villealfa Filmproductions']   \n",
       "4                      ['Villealfa Filmproductions']   \n",
       "\n",
       "             production_companies_country  \n",
       "0                                  ['US']  \n",
       "1                                      []  \n",
       "2  ['', 'NZ', 'IT', 'JP', 'DE', 'PL', '']  \n",
       "3                                  ['FI']  \n",
       "4                                  ['FI']  \n",
       "\n",
       "[5 rows x 25 columns]"
      ]
     },
     "execution_count": 29,
     "metadata": {},
     "output_type": "execute_result"
    }
   ],
   "source": [
    "df_tmdb.head()\n"
   ]
  },
  {
   "cell_type": "markdown",
   "metadata": {},
   "source": [
    "- #### Identification des valeurs manquantes"
   ]
  },
  {
   "cell_type": "code",
   "execution_count": null,
   "metadata": {},
   "outputs": [
    {
     "data": {
      "text/plain": [
       "adult                                0\n",
       "backdrop_path                   157812\n",
       "budget                               0\n",
       "genres                               0\n",
       "homepage                        265310\n",
       "id                                   0\n",
       "imdb_id                              0\n",
       "original_language                    0\n",
       "original_title                       0\n",
       "overview                         27060\n",
       "popularity                           0\n",
       "poster_path                      45413\n",
       "production_countries                 0\n",
       "release_date                      8233\n",
       "revenue                              0\n",
       "runtime                              0\n",
       "spoken_languages                     0\n",
       "status                               0\n",
       "tagline                         234999\n",
       "title                                0\n",
       "video                                0\n",
       "vote_average                         0\n",
       "vote_count                           0\n",
       "production_companies_name            0\n",
       "production_companies_country    145134\n",
       "dtype: int64"
      ]
     },
     "execution_count": 30,
     "metadata": {},
     "output_type": "execute_result"
    }
   ],
   "source": [
    "df_tmdb.isna().sum()\n"
   ]
  },
  {
   "cell_type": "markdown",
   "metadata": {},
   "source": [
    "- #### Identification des doublons"
   ]
  },
  {
   "cell_type": "code",
   "execution_count": 33,
   "metadata": {},
   "outputs": [
    {
     "data": {
      "text/plain": [
       "0"
      ]
     },
     "execution_count": 33,
     "metadata": {},
     "output_type": "execute_result"
    }
   ],
   "source": [
    "df_tmdb['imdb_id'].duplicated().sum()"
   ]
  },
  {
   "cell_type": "markdown",
   "metadata": {},
   "source": [
    "- #### Identification des films pour adultes"
   ]
  },
  {
   "cell_type": "code",
   "execution_count": 37,
   "metadata": {},
   "outputs": [
    {
     "data": {
      "text/plain": [
       "adult\n",
       "False    309571\n",
       "True          1\n",
       "Name: count, dtype: int64"
      ]
     },
     "execution_count": 37,
     "metadata": {},
     "output_type": "execute_result"
    }
   ],
   "source": [
    "df_tmdb['adult'].value_counts()\n"
   ]
  },
  {
   "cell_type": "code",
   "execution_count": 53,
   "metadata": {},
   "outputs": [],
   "source": [
    "df_tmdb = df_tmdb[df_tmdb['adult'] != True]\n"
   ]
  },
  {
   "cell_type": "code",
   "execution_count": 41,
   "metadata": {},
   "outputs": [
    {
     "data": {
      "text/plain": [
       "adult\n",
       "False    309571\n",
       "Name: count, dtype: int64"
      ]
     },
     "execution_count": 41,
     "metadata": {},
     "output_type": "execute_result"
    }
   ],
   "source": [
    "df_tmdb['adult'].value_counts()\n"
   ]
  },
  {
   "cell_type": "markdown",
   "metadata": {},
   "source": [
    "- #### Conversion des colonnes `release_date`"
   ]
  },
  {
   "cell_type": "code",
   "execution_count": 63,
   "metadata": {},
   "outputs": [],
   "source": [
    "#On transforme les dates au format datetime et on extrait l'année (les valeurs nulles sont remplacées par 0)\n",
    "df_tmdb['release_date'] = df_tmdb['release_date'].apply(lambda date: pd.to_datetime(date))\n",
    "df_tmdb['release_date'] = df_tmdb['release_date'].dt.year.fillna(0).astype(int)\n"
   ]
  },
  {
   "cell_type": "markdown",
   "metadata": {},
   "source": [
    "### Étape 3 : Nettoyage des colonnes `genres`, `spoken_languages` et `production_countries`"
   ]
  },
  {
   "cell_type": "code",
   "execution_count": 66,
   "metadata": {},
   "outputs": [],
   "source": [
    "#Explode de la colonne 'genres' après l'avoir transformée en liste\n",
    "df_tmdb['genres'] = df_tmdb['genres'].apply(lambda genre: eval(genre))\n",
    "df_tmdb = df_tmdb.explode('genres')\n"
   ]
  },
  {
   "cell_type": "code",
   "execution_count": 67,
   "metadata": {},
   "outputs": [],
   "source": [
    "df_tmdb2 = df_tmdb.copy()\n"
   ]
  },
  {
   "cell_type": "code",
   "execution_count": 47,
   "metadata": {},
   "outputs": [],
   "source": [
    "#Explode de la colonne 'spoken_languages' après l'avoir transformée en liste\n",
    "df_tmdb2['spoken_languages'] = df_tmdb2['spoken_languages'].apply(lambda genre: eval(genre))\n",
    "df_tmdb2 = df_tmdb2.explode('spoken_languages')\n"
   ]
  },
  {
   "cell_type": "code",
   "execution_count": 48,
   "metadata": {},
   "outputs": [],
   "source": [
    "#Explode de la colonne 'production_countries' après l'avoir transformée en liste\n",
    "df_tmdb2['production_countries'] = df_tmdb2['production_countries'].apply(lambda genre: eval(genre))\n",
    "df_tmdb2 = df_tmdb2.explode('production_countries')\n"
   ]
  },
  {
   "cell_type": "markdown",
   "metadata": {},
   "source": [
    "### Étape 4 : Exploration et analyse graphique"
   ]
  },
  {
   "cell_type": "code",
   "execution_count": null,
   "metadata": {},
   "outputs": [
    {
     "data": {
      "text/html": [
       "<div>\n",
       "<style scoped>\n",
       "    .dataframe tbody tr th:only-of-type {\n",
       "        vertical-align: middle;\n",
       "    }\n",
       "\n",
       "    .dataframe tbody tr th {\n",
       "        vertical-align: top;\n",
       "    }\n",
       "\n",
       "    .dataframe thead th {\n",
       "        text-align: right;\n",
       "    }\n",
       "</style>\n",
       "<table border=\"1\" class=\"dataframe\">\n",
       "  <thead>\n",
       "    <tr style=\"text-align: right;\">\n",
       "      <th></th>\n",
       "      <th>budget</th>\n",
       "      <th>id</th>\n",
       "      <th>popularity</th>\n",
       "      <th>release_date</th>\n",
       "      <th>revenue</th>\n",
       "      <th>runtime</th>\n",
       "      <th>vote_average</th>\n",
       "      <th>vote_count</th>\n",
       "    </tr>\n",
       "  </thead>\n",
       "  <tbody>\n",
       "    <tr>\n",
       "      <th>count</th>\n",
       "      <td>5.127570e+05</td>\n",
       "      <td>5.127570e+05</td>\n",
       "      <td>512757.000000</td>\n",
       "      <td>512757.000000</td>\n",
       "      <td>5.127570e+05</td>\n",
       "      <td>512757.000000</td>\n",
       "      <td>512757.000000</td>\n",
       "      <td>512757.000000</td>\n",
       "    </tr>\n",
       "    <tr>\n",
       "      <th>mean</th>\n",
       "      <td>1.533731e+06</td>\n",
       "      <td>3.791969e+05</td>\n",
       "      <td>3.650852</td>\n",
       "      <td>1951.312694</td>\n",
       "      <td>3.998864e+06</td>\n",
       "      <td>75.692677</td>\n",
       "      <td>4.430972</td>\n",
       "      <td>105.899949</td>\n",
       "    </tr>\n",
       "    <tr>\n",
       "      <th>std</th>\n",
       "      <td>1.138247e+07</td>\n",
       "      <td>3.167646e+05</td>\n",
       "      <td>29.527697</td>\n",
       "      <td>291.853013</td>\n",
       "      <td>4.179893e+07</td>\n",
       "      <td>99.137127</td>\n",
       "      <td>2.872604</td>\n",
       "      <td>779.741167</td>\n",
       "    </tr>\n",
       "    <tr>\n",
       "      <th>min</th>\n",
       "      <td>0.000000e+00</td>\n",
       "      <td>2.000000e+00</td>\n",
       "      <td>0.600000</td>\n",
       "      <td>0.000000</td>\n",
       "      <td>0.000000e+00</td>\n",
       "      <td>0.000000</td>\n",
       "      <td>0.000000</td>\n",
       "      <td>0.000000</td>\n",
       "    </tr>\n",
       "    <tr>\n",
       "      <th>25%</th>\n",
       "      <td>0.000000e+00</td>\n",
       "      <td>1.026640e+05</td>\n",
       "      <td>0.661000</td>\n",
       "      <td>1978.000000</td>\n",
       "      <td>0.000000e+00</td>\n",
       "      <td>50.000000</td>\n",
       "      <td>1.000000</td>\n",
       "      <td>1.000000</td>\n",
       "    </tr>\n",
       "    <tr>\n",
       "      <th>50%</th>\n",
       "      <td>0.000000e+00</td>\n",
       "      <td>2.977520e+05</td>\n",
       "      <td>1.303000</td>\n",
       "      <td>2004.000000</td>\n",
       "      <td>0.000000e+00</td>\n",
       "      <td>88.000000</td>\n",
       "      <td>5.400000</td>\n",
       "      <td>3.000000</td>\n",
       "    </tr>\n",
       "    <tr>\n",
       "      <th>75%</th>\n",
       "      <td>0.000000e+00</td>\n",
       "      <td>5.786790e+05</td>\n",
       "      <td>2.688000</td>\n",
       "      <td>2015.000000</td>\n",
       "      <td>0.000000e+00</td>\n",
       "      <td>100.000000</td>\n",
       "      <td>6.500000</td>\n",
       "      <td>14.000000</td>\n",
       "    </tr>\n",
       "    <tr>\n",
       "      <th>max</th>\n",
       "      <td>5.793304e+08</td>\n",
       "      <td>1.122427e+06</td>\n",
       "      <td>5089.969000</td>\n",
       "      <td>2028.000000</td>\n",
       "      <td>2.923706e+09</td>\n",
       "      <td>43200.000000</td>\n",
       "      <td>10.000000</td>\n",
       "      <td>33630.000000</td>\n",
       "    </tr>\n",
       "  </tbody>\n",
       "</table>\n",
       "</div>"
      ],
      "text/plain": [
       "             budget            id     popularity   release_date       revenue  \\\n",
       "count  5.127570e+05  5.127570e+05  512757.000000  512757.000000  5.127570e+05   \n",
       "mean   1.533731e+06  3.791969e+05       3.650852    1951.312694  3.998864e+06   \n",
       "std    1.138247e+07  3.167646e+05      29.527697     291.853013  4.179893e+07   \n",
       "min    0.000000e+00  2.000000e+00       0.600000       0.000000  0.000000e+00   \n",
       "25%    0.000000e+00  1.026640e+05       0.661000    1978.000000  0.000000e+00   \n",
       "50%    0.000000e+00  2.977520e+05       1.303000    2004.000000  0.000000e+00   \n",
       "75%    0.000000e+00  5.786790e+05       2.688000    2015.000000  0.000000e+00   \n",
       "max    5.793304e+08  1.122427e+06    5089.969000    2028.000000  2.923706e+09   \n",
       "\n",
       "             runtime   vote_average     vote_count  \n",
       "count  512757.000000  512757.000000  512757.000000  \n",
       "mean       75.692677       4.430972     105.899949  \n",
       "std        99.137127       2.872604     779.741167  \n",
       "min         0.000000       0.000000       0.000000  \n",
       "25%        50.000000       1.000000       1.000000  \n",
       "50%        88.000000       5.400000       3.000000  \n",
       "75%       100.000000       6.500000      14.000000  \n",
       "max     43200.000000      10.000000   33630.000000  "
      ]
     },
     "execution_count": 49,
     "metadata": {},
     "output_type": "execute_result"
    }
   ],
   "source": [
    "df_tmdb.describe()\n"
   ]
  },
  {
   "cell_type": "code",
   "execution_count": null,
   "metadata": {},
   "outputs": [],
   "source": [
    "#On crée une variable des genres les plus représentés pour nos analyses visuelles.\n",
    "max_genres = df_tmdb['genres'].value_counts().head(10)\n"
   ]
  },
  {
   "cell_type": "code",
   "execution_count": 89,
   "metadata": {},
   "outputs": [
    {
     "data": {
      "image/png": "[encoded data removed]",
      "text/plain": [
       "<Figure size 1000x500 with 1 Axes>"
      ]
     },
     "metadata": {},
     "output_type": "display_data"
    }
   ],
   "source": [
    "plt.figure(figsize=(10, 5))\n",
    "sns.barplot(x=max_genres.index, y=max_genres.values)\n",
    "plt.title(\"Répartition des dix genres les plus représentés\")\n",
    "plt.xlabel(\"\")\n",
    "plt.ylabel(\"Nombre de films\")\n",
    "plt.show()"
   ]
  },
  {
   "cell_type": "code",
   "execution_count": 108,
   "metadata": {},
   "outputs": [],
   "source": [
    "#Moyenne des durées de films par genre:\n",
    "\n",
    "duree_moyenne_genres = df_tmdb.groupby('genres')['runtime'].mean()\n",
    "duree_mediane_genres = df_tmdb.groupby('genres')['runtime'].median()\n"
   ]
  },
  {
   "cell_type": "code",
   "execution_count": 118,
   "metadata": {},
   "outputs": [
    {
     "data": {
      "text/html": [
       "<div>\n",
       "<style scoped>\n",
       "    .dataframe tbody tr th:only-of-type {\n",
       "        vertical-align: middle;\n",
       "    }\n",
       "\n",
       "    .dataframe tbody tr th {\n",
       "        vertical-align: top;\n",
       "    }\n",
       "\n",
       "    .dataframe thead th {\n",
       "        text-align: right;\n",
       "    }\n",
       "</style>\n",
       "<table border=\"1\" class=\"dataframe\">\n",
       "  <thead>\n",
       "    <tr style=\"text-align: right;\">\n",
       "      <th></th>\n",
       "      <th>genres</th>\n",
       "      <th>moyenne</th>\n",
       "      <th>mediane</th>\n",
       "    </tr>\n",
       "  </thead>\n",
       "  <tbody>\n",
       "    <tr>\n",
       "      <th>0</th>\n",
       "      <td>Action</td>\n",
       "      <td>91.648612</td>\n",
       "      <td>93.0</td>\n",
       "    </tr>\n",
       "    <tr>\n",
       "      <th>1</th>\n",
       "      <td>Adventure</td>\n",
       "      <td>83.323009</td>\n",
       "      <td>90.0</td>\n",
       "    </tr>\n",
       "    <tr>\n",
       "      <th>2</th>\n",
       "      <td>Animation</td>\n",
       "      <td>34.764514</td>\n",
       "      <td>12.0</td>\n",
       "    </tr>\n",
       "    <tr>\n",
       "      <th>3</th>\n",
       "      <td>Comedy</td>\n",
       "      <td>72.359778</td>\n",
       "      <td>87.0</td>\n",
       "    </tr>\n",
       "    <tr>\n",
       "      <th>4</th>\n",
       "      <td>Crime</td>\n",
       "      <td>85.624072</td>\n",
       "      <td>91.0</td>\n",
       "    </tr>\n",
       "  </tbody>\n",
       "</table>\n",
       "</div>"
      ],
      "text/plain": [
       "      genres    moyenne  mediane\n",
       "0     Action  91.648612     93.0\n",
       "1  Adventure  83.323009     90.0\n",
       "2  Animation  34.764514     12.0\n",
       "3     Comedy  72.359778     87.0\n",
       "4      Crime  85.624072     91.0"
      ]
     },
     "execution_count": 118,
     "metadata": {},
     "output_type": "execute_result"
    }
   ],
   "source": [
    "df_duree = pd.DataFrame({})\n",
    "df_duree['moyenne']=df_tmdb.groupby('genres')['runtime'].mean()\n",
    "df_duree['mediane']=df_tmdb.groupby('genres')['runtime'].median()\n",
    "df_duree = df_duree.reset_index()\n",
    "df_duree.head()"
   ]
  },
  {
   "cell_type": "code",
   "execution_count": null,
   "metadata": {},
   "outputs": [
    {
     "ename": "ValueError",
     "evalue": "Length of list vectors must match length of `data` when both are used, but `data` has length 19 and the vector passed to `y` has length 1.",
     "output_type": "error",
     "traceback": [
      "\u001b[1;31m---------------------------------------------------------------------------\u001b[0m",
      "\u001b[1;31mValueError\u001b[0m                                Traceback (most recent call last)",
      "Cell \u001b[1;32mIn[120], line 2\u001b[0m\n\u001b[0;32m      1\u001b[0m plt\u001b[38;5;241m.\u001b[39mfigure(figsize\u001b[38;5;241m=\u001b[39m(\u001b[38;5;241m20\u001b[39m, \u001b[38;5;241m5\u001b[39m))\n\u001b[1;32m----> 2\u001b[0m ax1 \u001b[38;5;241m=\u001b[39m sns\u001b[38;5;241m.\u001b[39mbarplot(df_duree, x\u001b[38;5;241m=\u001b[39m\u001b[38;5;124m'\u001b[39m\u001b[38;5;124mgenres\u001b[39m\u001b[38;5;124m'\u001b[39m, y\u001b[38;5;241m=\u001b[39m[[\u001b[38;5;124m'\u001b[39m\u001b[38;5;124mmoyenne\u001b[39m\u001b[38;5;124m'\u001b[39m, \u001b[38;5;124m'\u001b[39m\u001b[38;5;124mmediane\u001b[39m\u001b[38;5;124m'\u001b[39m]])\n\u001b[0;32m      3\u001b[0m plt\u001b[38;5;241m.\u001b[39mtitle(\u001b[38;5;124m\"\u001b[39m\u001b[38;5;124mMoyenne et médiane des durées de films par genres\u001b[39m\u001b[38;5;124m\"\u001b[39m)\n\u001b[0;32m      4\u001b[0m plt\u001b[38;5;241m.\u001b[39mxlabel(\u001b[38;5;124m\"\u001b[39m\u001b[38;5;124m\"\u001b[39m)\n",
      "File \u001b[1;32mc:\\Users\\pierr\\anaconda3\\Lib\\site-packages\\seaborn\\categorical.py:2341\u001b[0m, in \u001b[0;36mbarplot\u001b[1;34m(data, x, y, hue, order, hue_order, estimator, errorbar, n_boot, seed, units, weights, orient, color, palette, saturation, fill, hue_norm, width, dodge, gap, log_scale, native_scale, formatter, legend, capsize, err_kws, ci, errcolor, errwidth, ax, **kwargs)\u001b[0m\n\u001b[0;32m   2338\u001b[0m \u001b[38;5;28;01mif\u001b[39;00m estimator \u001b[38;5;129;01mis\u001b[39;00m \u001b[38;5;28mlen\u001b[39m:\n\u001b[0;32m   2339\u001b[0m     estimator \u001b[38;5;241m=\u001b[39m \u001b[38;5;124m\"\u001b[39m\u001b[38;5;124msize\u001b[39m\u001b[38;5;124m\"\u001b[39m\n\u001b[1;32m-> 2341\u001b[0m p \u001b[38;5;241m=\u001b[39m _CategoricalAggPlotter(\n\u001b[0;32m   2342\u001b[0m     data\u001b[38;5;241m=\u001b[39mdata,\n\u001b[0;32m   2343\u001b[0m     variables\u001b[38;5;241m=\u001b[39m\u001b[38;5;28mdict\u001b[39m(x\u001b[38;5;241m=\u001b[39mx, y\u001b[38;5;241m=\u001b[39my, hue\u001b[38;5;241m=\u001b[39mhue, units\u001b[38;5;241m=\u001b[39munits, weight\u001b[38;5;241m=\u001b[39mweights),\n\u001b[0;32m   2344\u001b[0m     order\u001b[38;5;241m=\u001b[39morder,\n\u001b[0;32m   2345\u001b[0m     orient\u001b[38;5;241m=\u001b[39morient,\n\u001b[0;32m   2346\u001b[0m     color\u001b[38;5;241m=\u001b[39mcolor,\n\u001b[0;32m   2347\u001b[0m     legend\u001b[38;5;241m=\u001b[39mlegend,\n\u001b[0;32m   2348\u001b[0m )\n\u001b[0;32m   2350\u001b[0m \u001b[38;5;28;01mif\u001b[39;00m ax \u001b[38;5;129;01mis\u001b[39;00m \u001b[38;5;28;01mNone\u001b[39;00m:\n\u001b[0;32m   2351\u001b[0m     ax \u001b[38;5;241m=\u001b[39m plt\u001b[38;5;241m.\u001b[39mgca()\n",
      "File \u001b[1;32mc:\\Users\\pierr\\anaconda3\\Lib\\site-packages\\seaborn\\categorical.py:67\u001b[0m, in \u001b[0;36m_CategoricalPlotter.__init__\u001b[1;34m(self, data, variables, order, orient, require_numeric, color, legend)\u001b[0m\n\u001b[0;32m     56\u001b[0m \u001b[38;5;28;01mdef\u001b[39;00m \u001b[38;5;21m__init__\u001b[39m(\n\u001b[0;32m     57\u001b[0m     \u001b[38;5;28mself\u001b[39m,\n\u001b[0;32m     58\u001b[0m     data\u001b[38;5;241m=\u001b[39m\u001b[38;5;28;01mNone\u001b[39;00m,\n\u001b[1;32m   (...)\u001b[0m\n\u001b[0;32m     64\u001b[0m     legend\u001b[38;5;241m=\u001b[39m\u001b[38;5;124m\"\u001b[39m\u001b[38;5;124mauto\u001b[39m\u001b[38;5;124m\"\u001b[39m,\n\u001b[0;32m     65\u001b[0m ):\n\u001b[1;32m---> 67\u001b[0m     \u001b[38;5;28msuper\u001b[39m()\u001b[38;5;241m.\u001b[39m\u001b[38;5;21m__init__\u001b[39m(data\u001b[38;5;241m=\u001b[39mdata, variables\u001b[38;5;241m=\u001b[39mvariables)\n\u001b[0;32m     69\u001b[0m     \u001b[38;5;66;03m# This method takes care of some bookkeeping that is necessary because the\u001b[39;00m\n\u001b[0;32m     70\u001b[0m     \u001b[38;5;66;03m# original categorical plots (prior to the 2021 refactor) had some rules that\u001b[39;00m\n\u001b[0;32m     71\u001b[0m     \u001b[38;5;66;03m# don't fit exactly into VectorPlotter logic. It may be wise to have a second\u001b[39;00m\n\u001b[1;32m   (...)\u001b[0m\n\u001b[0;32m     76\u001b[0m     \u001b[38;5;66;03m# default VectorPlotter rules. If we do decide to make orient part of the\u001b[39;00m\n\u001b[0;32m     77\u001b[0m     \u001b[38;5;66;03m# _base variable assignment, we'll want to figure out how to express that.\u001b[39;00m\n\u001b[0;32m     78\u001b[0m     \u001b[38;5;28;01mif\u001b[39;00m \u001b[38;5;28mself\u001b[39m\u001b[38;5;241m.\u001b[39minput_format \u001b[38;5;241m==\u001b[39m \u001b[38;5;124m\"\u001b[39m\u001b[38;5;124mwide\u001b[39m\u001b[38;5;124m\"\u001b[39m \u001b[38;5;129;01mand\u001b[39;00m orient \u001b[38;5;129;01min\u001b[39;00m [\u001b[38;5;124m\"\u001b[39m\u001b[38;5;124mh\u001b[39m\u001b[38;5;124m\"\u001b[39m, \u001b[38;5;124m\"\u001b[39m\u001b[38;5;124my\u001b[39m\u001b[38;5;124m\"\u001b[39m]:\n",
      "File \u001b[1;32mc:\\Users\\pierr\\anaconda3\\Lib\\site-packages\\seaborn\\_base.py:634\u001b[0m, in \u001b[0;36mVectorPlotter.__init__\u001b[1;34m(self, data, variables)\u001b[0m\n\u001b[0;32m    629\u001b[0m \u001b[38;5;66;03m# var_ordered is relevant only for categorical axis variables, and may\u001b[39;00m\n\u001b[0;32m    630\u001b[0m \u001b[38;5;66;03m# be better handled by an internal axis information object that tracks\u001b[39;00m\n\u001b[0;32m    631\u001b[0m \u001b[38;5;66;03m# such information and is set up by the scale_* methods. The analogous\u001b[39;00m\n\u001b[0;32m    632\u001b[0m \u001b[38;5;66;03m# information for numeric axes would be information about log scales.\u001b[39;00m\n\u001b[0;32m    633\u001b[0m \u001b[38;5;28mself\u001b[39m\u001b[38;5;241m.\u001b[39m_var_ordered \u001b[38;5;241m=\u001b[39m {\u001b[38;5;124m\"\u001b[39m\u001b[38;5;124mx\u001b[39m\u001b[38;5;124m\"\u001b[39m: \u001b[38;5;28;01mFalse\u001b[39;00m, \u001b[38;5;124m\"\u001b[39m\u001b[38;5;124my\u001b[39m\u001b[38;5;124m\"\u001b[39m: \u001b[38;5;28;01mFalse\u001b[39;00m}  \u001b[38;5;66;03m# alt., used DefaultDict\u001b[39;00m\n\u001b[1;32m--> 634\u001b[0m \u001b[38;5;28mself\u001b[39m\u001b[38;5;241m.\u001b[39massign_variables(data, variables)\n\u001b[0;32m    636\u001b[0m \u001b[38;5;66;03m# TODO Lots of tests assume that these are called to initialize the\u001b[39;00m\n\u001b[0;32m    637\u001b[0m \u001b[38;5;66;03m# mappings to default values on class initialization. I'd prefer to\u001b[39;00m\n\u001b[0;32m    638\u001b[0m \u001b[38;5;66;03m# move away from that and only have a mapping when explicitly called.\u001b[39;00m\n\u001b[0;32m    639\u001b[0m \u001b[38;5;28;01mfor\u001b[39;00m var \u001b[38;5;129;01min\u001b[39;00m [\u001b[38;5;124m\"\u001b[39m\u001b[38;5;124mhue\u001b[39m\u001b[38;5;124m\"\u001b[39m, \u001b[38;5;124m\"\u001b[39m\u001b[38;5;124msize\u001b[39m\u001b[38;5;124m\"\u001b[39m, \u001b[38;5;124m\"\u001b[39m\u001b[38;5;124mstyle\u001b[39m\u001b[38;5;124m\"\u001b[39m]:\n",
      "File \u001b[1;32mc:\\Users\\pierr\\anaconda3\\Lib\\site-packages\\seaborn\\_base.py:679\u001b[0m, in \u001b[0;36mVectorPlotter.assign_variables\u001b[1;34m(self, data, variables)\u001b[0m\n\u001b[0;32m    674\u001b[0m \u001b[38;5;28;01melse\u001b[39;00m:\n\u001b[0;32m    675\u001b[0m     \u001b[38;5;66;03m# When dealing with long-form input, use the newer PlotData\u001b[39;00m\n\u001b[0;32m    676\u001b[0m     \u001b[38;5;66;03m# object (internal but introduced for the objects interface)\u001b[39;00m\n\u001b[0;32m    677\u001b[0m     \u001b[38;5;66;03m# to centralize / standardize data consumption logic.\u001b[39;00m\n\u001b[0;32m    678\u001b[0m     \u001b[38;5;28mself\u001b[39m\u001b[38;5;241m.\u001b[39minput_format \u001b[38;5;241m=\u001b[39m \u001b[38;5;124m\"\u001b[39m\u001b[38;5;124mlong\u001b[39m\u001b[38;5;124m\"\u001b[39m\n\u001b[1;32m--> 679\u001b[0m     plot_data \u001b[38;5;241m=\u001b[39m PlotData(data, variables)\n\u001b[0;32m    680\u001b[0m     frame \u001b[38;5;241m=\u001b[39m plot_data\u001b[38;5;241m.\u001b[39mframe\n\u001b[0;32m    681\u001b[0m     names \u001b[38;5;241m=\u001b[39m plot_data\u001b[38;5;241m.\u001b[39mnames\n",
      "File \u001b[1;32mc:\\Users\\pierr\\anaconda3\\Lib\\site-packages\\seaborn\\_core\\data.py:58\u001b[0m, in \u001b[0;36mPlotData.__init__\u001b[1;34m(self, data, variables)\u001b[0m\n\u001b[0;32m     51\u001b[0m \u001b[38;5;28;01mdef\u001b[39;00m \u001b[38;5;21m__init__\u001b[39m(\n\u001b[0;32m     52\u001b[0m     \u001b[38;5;28mself\u001b[39m,\n\u001b[0;32m     53\u001b[0m     data: DataSource,\n\u001b[0;32m     54\u001b[0m     variables: \u001b[38;5;28mdict\u001b[39m[\u001b[38;5;28mstr\u001b[39m, VariableSpec],\n\u001b[0;32m     55\u001b[0m ):\n\u001b[0;32m     57\u001b[0m     data \u001b[38;5;241m=\u001b[39m handle_data_source(data)\n\u001b[1;32m---> 58\u001b[0m     frame, names, ids \u001b[38;5;241m=\u001b[39m \u001b[38;5;28mself\u001b[39m\u001b[38;5;241m.\u001b[39m_assign_variables(data, variables)\n\u001b[0;32m     60\u001b[0m     \u001b[38;5;28mself\u001b[39m\u001b[38;5;241m.\u001b[39mframe \u001b[38;5;241m=\u001b[39m frame\n\u001b[0;32m     61\u001b[0m     \u001b[38;5;28mself\u001b[39m\u001b[38;5;241m.\u001b[39mnames \u001b[38;5;241m=\u001b[39m names\n",
      "File \u001b[1;32mc:\\Users\\pierr\\anaconda3\\Lib\\site-packages\\seaborn\\_core\\data.py:251\u001b[0m, in \u001b[0;36mPlotData._assign_variables\u001b[1;34m(self, data, variables)\u001b[0m\n\u001b[0;32m    245\u001b[0m         val_cls \u001b[38;5;241m=\u001b[39m val\u001b[38;5;241m.\u001b[39m\u001b[38;5;18m__class__\u001b[39m\u001b[38;5;241m.\u001b[39m\u001b[38;5;18m__name__\u001b[39m\n\u001b[0;32m    246\u001b[0m         err \u001b[38;5;241m=\u001b[39m (\n\u001b[0;32m    247\u001b[0m             \u001b[38;5;124mf\u001b[39m\u001b[38;5;124m\"\u001b[39m\u001b[38;5;124mLength of \u001b[39m\u001b[38;5;132;01m{\u001b[39;00mval_cls\u001b[38;5;132;01m}\u001b[39;00m\u001b[38;5;124m vectors must match length of `data`\u001b[39m\u001b[38;5;124m\"\u001b[39m\n\u001b[0;32m    248\u001b[0m             \u001b[38;5;124mf\u001b[39m\u001b[38;5;124m\"\u001b[39m\u001b[38;5;124m when both are used, but `data` has length \u001b[39m\u001b[38;5;132;01m{\u001b[39;00m\u001b[38;5;28mlen\u001b[39m(data)\u001b[38;5;132;01m}\u001b[39;00m\u001b[38;5;124m\"\u001b[39m\n\u001b[0;32m    249\u001b[0m             \u001b[38;5;124mf\u001b[39m\u001b[38;5;124m\"\u001b[39m\u001b[38;5;124m and the vector passed to `\u001b[39m\u001b[38;5;132;01m{\u001b[39;00mkey\u001b[38;5;132;01m}\u001b[39;00m\u001b[38;5;124m` has length \u001b[39m\u001b[38;5;132;01m{\u001b[39;00m\u001b[38;5;28mlen\u001b[39m(val)\u001b[38;5;132;01m}\u001b[39;00m\u001b[38;5;124m.\u001b[39m\u001b[38;5;124m\"\u001b[39m\n\u001b[0;32m    250\u001b[0m         )\n\u001b[1;32m--> 251\u001b[0m         \u001b[38;5;28;01mraise\u001b[39;00m \u001b[38;5;167;01mValueError\u001b[39;00m(err)\n\u001b[0;32m    253\u001b[0m plot_data[key] \u001b[38;5;241m=\u001b[39m val\n\u001b[0;32m    255\u001b[0m \u001b[38;5;66;03m# Try to infer the original name using pandas-like metadata\u001b[39;00m\n",
      "\u001b[1;31mValueError\u001b[0m: Length of list vectors must match length of `data` when both are used, but `data` has length 19 and the vector passed to `y` has length 1."
     ]
    },
    {
     "data": {
      "text/plain": [
       "<Figure size 2000x500 with 0 Axes>"
      ]
     },
     "metadata": {},
     "output_type": "display_data"
    }
   ],
   "source": [
    "plt.figure(figsize=(20, 5))\n",
    "ax1 = sns.barplot(df_duree, x='genres', y=)\n",
    "plt.title(\"Moyenne et médiane des durées de films par genres\")\n",
    "plt.xlabel(\"\")\n",
    "plt.ylabel(\"Durée (en min)\")\n",
    "plt.show()"
   ]
  },
  {
   "cell_type": "code",
   "execution_count": null,
   "metadata": {},
   "outputs": [],
   "source": []
  },
  {
   "cell_type": "code",
   "execution_count": 91,
   "metadata": {},
   "outputs": [
    {
     "data": {
      "text/plain": [
       "genres\n",
       "Action             4.690799\n",
       "Adventure          4.902280\n",
       "Animation          4.955057\n",
       "Comedy             4.562074\n",
       "Crime              4.720948\n",
       "Documentary        4.279540\n",
       "Drama              4.451121\n",
       "Family             5.123360\n",
       "Fantasy            4.828169\n",
       "History            5.020793\n",
       "Horror             4.126790\n",
       "Music              4.776853\n",
       "Mystery            4.923906\n",
       "Romance            4.787447\n",
       "Science Fiction    4.515883\n",
       "TV Movie           4.794360\n",
       "Thriller           4.720657\n",
       "War                5.050449\n",
       "Western            3.867103\n",
       "Name: vote_average, dtype: float64"
      ]
     },
     "execution_count": 91,
     "metadata": {},
     "output_type": "execute_result"
    }
   ],
   "source": [
    "#Note moyenne des films par genre:\n",
    "df_tmdb.groupby('genres')['vote_average'].mean()"
   ]
  },
  {
   "cell_type": "code",
   "execution_count": 72,
   "metadata": {},
   "outputs": [
    {
     "data": {
      "text/plain": [
       "genres\n",
       "Action             231.024201\n",
       "Adventure          385.531045\n",
       "Animation          120.084068\n",
       "Comedy              86.054704\n",
       "Crime              140.796131\n",
       "Documentary          7.967847\n",
       "Drama               72.688875\n",
       "Family             177.735714\n",
       "Fantasy            284.670856\n",
       "History            101.643533\n",
       "Horror              93.831561\n",
       "Music               37.313523\n",
       "Mystery            165.340959\n",
       "Romance             93.607737\n",
       "Science Fiction    316.413011\n",
       "TV Movie            17.383988\n",
       "Thriller           177.124885\n",
       "War                113.692011\n",
       "Western             51.926248\n",
       "Name: vote_count, dtype: float64"
      ]
     },
     "execution_count": 72,
     "metadata": {},
     "output_type": "execute_result"
    }
   ],
   "source": [
    "#Nombre de votants moyen par genre:\n",
    "df_tmdb.groupby('genres')['vote_count'].mean()"
   ]
  },
  {
   "cell_type": "code",
   "execution_count": null,
   "metadata": {},
   "outputs": [],
   "source": [
    "df_tmdb2.to_csv('../gitignore/tmdb_final.csv', sep= ',', index = False)"
   ]
  }
 ],
 "metadata": {
  "kernelspec": {
   "display_name": "base",
   "language": "python",
   "name": "python3"
  },
  "language_info": {
   "codemirror_mode": {
    "name": "ipython",
    "version": 3
   },
   "file_extension": ".py",
   "mimetype": "text/x-python",
   "name": "python",
   "nbconvert_exporter": "python",
   "pygments_lexer": "ipython3",
   "version": "3.12.4"
  }
 },
 "nbformat": 4,
 "nbformat_minor": 2
}
