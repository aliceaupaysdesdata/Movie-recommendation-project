{
 "cells": [
  {
   "cell_type": "markdown",
   "metadata": {},
   "source": [
    "# Exploration et Nettoyage de la Table `title.principals`"
   ]
  },
  {
   "cell_type": "markdown",
   "metadata": {},
   "source": [
    "## Analyse globale de la table"
   ]
  },
  {
   "cell_type": "code",
   "execution_count": 1,
   "metadata": {},
   "outputs": [],
   "source": [
    "import matplotlib.pyplot as plt\n",
    "import seaborn as sns\n",
    "import pandas as pd"
   ]
  },
  {
   "cell_type": "code",
   "execution_count": 2,
   "metadata": {},
   "outputs": [],
   "source": [
    "# Importation du DataSet :\n",
    "df_title_principals = pd.read_csv('../gitignore/title.principals.tsv', sep= '\\t')"
   ]
  },
  {
   "cell_type": "code",
   "execution_count": null,
   "metadata": {},
   "outputs": [
    {
     "name": "stdout",
     "output_type": "stream",
     "text": [
      "<class 'pandas.core.frame.DataFrame'>\n",
      "RangeIndex: 89216353 entries, 0 to 89216352\n",
      "Data columns (total 6 columns):\n",
      " #   Column      Dtype \n",
      "---  ------      ----- \n",
      " 0   tconst      object\n",
      " 1   ordering    int64 \n",
      " 2   nconst      object\n",
      " 3   category    object\n",
      " 4   job         object\n",
      " 5   characters  object\n",
      "dtypes: int64(1), object(5)\n",
      "memory usage: 4.0+ GB\n"
     ]
    }
   ],
   "source": [
    "df_title_principals.info()"
   ]
  },
  {
   "cell_type": "code",
   "execution_count": null,
   "metadata": {},
   "outputs": [
    {
     "data": {
      "text/html": [
       "<div>\n",
       "<style scoped>\n",
       "    .dataframe tbody tr th:only-of-type {\n",
       "        vertical-align: middle;\n",
       "    }\n",
       "\n",
       "    .dataframe tbody tr th {\n",
       "        vertical-align: top;\n",
       "    }\n",
       "\n",
       "    .dataframe thead th {\n",
       "        text-align: right;\n",
       "    }\n",
       "</style>\n",
       "<table border=\"1\" class=\"dataframe\">\n",
       "  <thead>\n",
       "    <tr style=\"text-align: right;\">\n",
       "      <th></th>\n",
       "      <th>ordering</th>\n",
       "    </tr>\n",
       "  </thead>\n",
       "  <tbody>\n",
       "    <tr>\n",
       "      <th>count</th>\n",
       "      <td>8.921635e+07</td>\n",
       "    </tr>\n",
       "    <tr>\n",
       "      <th>mean</th>\n",
       "      <td>7.005962e+00</td>\n",
       "    </tr>\n",
       "    <tr>\n",
       "      <th>std</th>\n",
       "      <td>5.152561e+00</td>\n",
       "    </tr>\n",
       "    <tr>\n",
       "      <th>min</th>\n",
       "      <td>1.000000e+00</td>\n",
       "    </tr>\n",
       "    <tr>\n",
       "      <th>25%</th>\n",
       "      <td>3.000000e+00</td>\n",
       "    </tr>\n",
       "    <tr>\n",
       "      <th>50%</th>\n",
       "      <td>6.000000e+00</td>\n",
       "    </tr>\n",
       "    <tr>\n",
       "      <th>75%</th>\n",
       "      <td>1.000000e+01</td>\n",
       "    </tr>\n",
       "    <tr>\n",
       "      <th>max</th>\n",
       "      <td>7.500000e+01</td>\n",
       "    </tr>\n",
       "  </tbody>\n",
       "</table>\n",
       "</div>"
      ],
      "text/plain": [
       "           ordering\n",
       "count  8.921635e+07\n",
       "mean   7.005962e+00\n",
       "std    5.152561e+00\n",
       "min    1.000000e+00\n",
       "25%    3.000000e+00\n",
       "50%    6.000000e+00\n",
       "75%    1.000000e+01\n",
       "max    7.500000e+01"
      ]
     },
     "execution_count": 17,
     "metadata": {},
     "output_type": "execute_result"
    }
   ],
   "source": [
    "df_title_principals.describe()"
   ]
  },
  {
   "cell_type": "code",
   "execution_count": null,
   "metadata": {},
   "outputs": [
    {
     "data": {
      "text/html": [
       "<div>\n",
       "<style scoped>\n",
       "    .dataframe tbody tr th:only-of-type {\n",
       "        vertical-align: middle;\n",
       "    }\n",
       "\n",
       "    .dataframe tbody tr th {\n",
       "        vertical-align: top;\n",
       "    }\n",
       "\n",
       "    .dataframe thead th {\n",
       "        text-align: right;\n",
       "    }\n",
       "</style>\n",
       "<table border=\"1\" class=\"dataframe\">\n",
       "  <thead>\n",
       "    <tr style=\"text-align: right;\">\n",
       "      <th></th>\n",
       "      <th>tconst</th>\n",
       "      <th>ordering</th>\n",
       "      <th>nconst</th>\n",
       "      <th>category</th>\n",
       "      <th>job</th>\n",
       "      <th>characters</th>\n",
       "    </tr>\n",
       "  </thead>\n",
       "  <tbody>\n",
       "    <tr>\n",
       "      <th>0</th>\n",
       "      <td>tt0000001</td>\n",
       "      <td>1</td>\n",
       "      <td>nm1588970</td>\n",
       "      <td>self</td>\n",
       "      <td>\\N</td>\n",
       "      <td>[\"Self\"]</td>\n",
       "    </tr>\n",
       "    <tr>\n",
       "      <th>1</th>\n",
       "      <td>tt0000001</td>\n",
       "      <td>2</td>\n",
       "      <td>nm0005690</td>\n",
       "      <td>director</td>\n",
       "      <td>\\N</td>\n",
       "      <td>\\N</td>\n",
       "    </tr>\n",
       "    <tr>\n",
       "      <th>2</th>\n",
       "      <td>tt0000001</td>\n",
       "      <td>3</td>\n",
       "      <td>nm0005690</td>\n",
       "      <td>producer</td>\n",
       "      <td>producer</td>\n",
       "      <td>\\N</td>\n",
       "    </tr>\n",
       "  </tbody>\n",
       "</table>\n",
       "</div>"
      ],
      "text/plain": [
       "      tconst  ordering     nconst  category       job characters\n",
       "0  tt0000001         1  nm1588970      self        \\N   [\"Self\"]\n",
       "1  tt0000001         2  nm0005690  director        \\N         \\N\n",
       "2  tt0000001         3  nm0005690  producer  producer         \\N"
      ]
     },
     "execution_count": 18,
     "metadata": {},
     "output_type": "execute_result"
    }
   ],
   "source": [
    "df_title_principals.head(3)"
   ]
  },
  {
   "cell_type": "markdown",
   "metadata": {},
   "source": [
    "## Analyse exploratoire de la Table `title.principals`"
   ]
  },
  {
   "cell_type": "markdown",
   "metadata": {},
   "source": [
    "### Analyse exploratoire :\n",
    "#### Vérifications de base :\n",
    "- **Taille de la table** : **89 216 353** lignes  et **6** colonnes.\n",
    "\n",
    "- **Types de données** : Une colonne entière : **ordering (int64)**\n",
    ", Cinq colonnes objets : **tconst, nconst, category, job, characters**\n",
    "\n",
    "- **Valeurs manquantes (Valeur '\\N')** : Valeurs manquantes dans 'job' : **72515501 (81.28%)** / Valeurs manquantes dans 'characters' : **45987058 (51.55%)**\n",
    "  - ***Colonne 'job'*** : Avec 81% de données manquantes, pas utile pour toutes les analyses. voir pour statut **optionnel**\n",
    "  - ***Colonne 'Character'***: plus complète (>50% de valeurs renseignées). **Pertinente** pour l'analyse des personnages et rôles."
   ]
  },
  {
   "cell_type": "code",
   "execution_count": null,
   "metadata": {},
   "outputs": [
    {
     "data": {
      "text/plain": [
       "tconst        object\n",
       "ordering       int64\n",
       "nconst        object\n",
       "category      object\n",
       "job           object\n",
       "characters    object\n",
       "dtype: object"
      ]
     },
     "execution_count": 19,
     "metadata": {},
     "output_type": "execute_result"
    }
   ],
   "source": [
    "# Taille de la Table\n",
    "df_title_principals.dtypes"
   ]
  },
  {
   "cell_type": "markdown",
   "metadata": {},
   "source": [
    "### Suppression de la colonne 'ordering' inutilisée"
   ]
  },
  {
   "cell_type": "code",
   "execution_count": 3,
   "metadata": {},
   "outputs": [],
   "source": [
    "# Suppression de la colonne 'ordering' :\n",
    "df_title_principals = df_title_principals.drop(columns = 'ordering')"
   ]
  },
  {
   "cell_type": "markdown",
   "metadata": {},
   "source": [
    "### Normalisation des valeurs manquantes '/N' dans 'job' et 'characters'\n",
    "\n",
    "- **Remplacement des valeurs '\\N'** dans `job` et `characters` par des valeurs nulles ou une chaîne vide pour faciliter l’analyse."
   ]
  },
  {
   "cell_type": "code",
   "execution_count": null,
   "metadata": {},
   "outputs": [
    {
     "name": "stdout",
     "output_type": "stream",
     "text": [
      "Valeurs manquantes dans 'job' : 72515501 (81.28%)\n",
      "Valeurs manquantes dans 'characters' : 45987058 (51.55%)\n"
     ]
    }
   ],
   "source": [
    "# Valeurs manquantes : Analyse des colonnes 'jobs' et 'characters' (qui contiennent des valeurs '\\N')\n",
    "manquant_job = (df_title_principals['job'] == '\\\\N').sum()\n",
    "manquant_character = (df_title_principals['characters'] == '\\\\N').sum()\n",
    "\n",
    "# Proportions de valeurs manquantes\n",
    "total_lignes = len(df_title_principals)\n",
    "pourcentage_manquant_job = (manquant_job / total_lignes) * 100\n",
    "pourcentage_manquant_character = (manquant_character / total_lignes) * 100\n",
    "\n",
    "print(f\"Valeurs manquantes dans 'job' : {manquant_job} ({pourcentage_manquant_job:.2f}%)\")\n",
    "print(f\"Valeurs manquantes dans 'characters' : {manquant_character} ({pourcentage_manquant_character:.2f}%)\")"
   ]
  },
  {
   "cell_type": "code",
   "execution_count": 4,
   "metadata": {},
   "outputs": [],
   "source": [
    "# Remplacement des valeurs manquantes > colonne 'job' :\n",
    "df_title_principals['job'] = df_title_principals['job'].replace('\\\\N', pd.NA)"
   ]
  },
  {
   "cell_type": "code",
   "execution_count": 5,
   "metadata": {},
   "outputs": [],
   "source": [
    "# Remplacement des valeurs manquantes > colonne 'characters' :\n",
    "df_title_principals['characters'] = df_title_principals['characters'].replace('\\\\N', pd.NA)"
   ]
  },
  {
   "cell_type": "code",
   "execution_count": null,
   "metadata": {},
   "outputs": [
    {
     "data": {
      "text/html": [
       "<div>\n",
       "<style scoped>\n",
       "    .dataframe tbody tr th:only-of-type {\n",
       "        vertical-align: middle;\n",
       "    }\n",
       "\n",
       "    .dataframe tbody tr th {\n",
       "        vertical-align: top;\n",
       "    }\n",
       "\n",
       "    .dataframe thead th {\n",
       "        text-align: right;\n",
       "    }\n",
       "</style>\n",
       "<table border=\"1\" class=\"dataframe\">\n",
       "  <thead>\n",
       "    <tr style=\"text-align: right;\">\n",
       "      <th></th>\n",
       "      <th>tconst</th>\n",
       "      <th>nconst</th>\n",
       "      <th>category</th>\n",
       "      <th>job</th>\n",
       "      <th>characters</th>\n",
       "    </tr>\n",
       "  </thead>\n",
       "  <tbody>\n",
       "    <tr>\n",
       "      <th>0</th>\n",
       "      <td>tt0000001</td>\n",
       "      <td>nm1588970</td>\n",
       "      <td>self</td>\n",
       "      <td>&lt;NA&gt;</td>\n",
       "      <td>[\"Self\"]</td>\n",
       "    </tr>\n",
       "    <tr>\n",
       "      <th>1</th>\n",
       "      <td>tt0000001</td>\n",
       "      <td>nm0005690</td>\n",
       "      <td>director</td>\n",
       "      <td>&lt;NA&gt;</td>\n",
       "      <td>&lt;NA&gt;</td>\n",
       "    </tr>\n",
       "    <tr>\n",
       "      <th>2</th>\n",
       "      <td>tt0000001</td>\n",
       "      <td>nm0005690</td>\n",
       "      <td>producer</td>\n",
       "      <td>producer</td>\n",
       "      <td>&lt;NA&gt;</td>\n",
       "    </tr>\n",
       "    <tr>\n",
       "      <th>3</th>\n",
       "      <td>tt0000001</td>\n",
       "      <td>nm0374658</td>\n",
       "      <td>cinematographer</td>\n",
       "      <td>director of photography</td>\n",
       "      <td>&lt;NA&gt;</td>\n",
       "    </tr>\n",
       "    <tr>\n",
       "      <th>4</th>\n",
       "      <td>tt0000002</td>\n",
       "      <td>nm0721526</td>\n",
       "      <td>director</td>\n",
       "      <td>&lt;NA&gt;</td>\n",
       "      <td>&lt;NA&gt;</td>\n",
       "    </tr>\n",
       "  </tbody>\n",
       "</table>\n",
       "</div>"
      ],
      "text/plain": [
       "      tconst     nconst         category                      job characters\n",
       "0  tt0000001  nm1588970             self                     <NA>   [\"Self\"]\n",
       "1  tt0000001  nm0005690         director                     <NA>       <NA>\n",
       "2  tt0000001  nm0005690         producer                 producer       <NA>\n",
       "3  tt0000001  nm0374658  cinematographer  director of photography       <NA>\n",
       "4  tt0000002  nm0721526         director                     <NA>       <NA>"
      ]
     },
     "execution_count": 24,
     "metadata": {},
     "output_type": "execute_result"
    }
   ],
   "source": [
    "df_title_principals.head()"
   ]
  },
  {
   "cell_type": "markdown",
   "metadata": {},
   "source": [
    "#### Statistiques descriptives :\n",
    "- **Distribution des catégories (`category`)** : Identification des rôles les plus fréquents (acteur, réalisateur, etc.).\n",
    "\n",
    "     - **Actor et Actress** : Utilisables pour identifier les acteurs / actrices = **essentielles pour le moteur de recherche**\n",
    "     - **Director** : Permet aux utilisateurs de rechercher des films en fonction du réalisateur = **essentiel pour le moteur de recherche**\n",
    "     - **Self** : correspond aux personnes apparaissant en tant qu'elles-mêmes, souvent dans les documentaires = **utile pour le moteur de recherche**\n",
    "     - **writer** : scénariste = **utile pour les infos films**\n",
    "     - **director** : Réalisateur = **utile pour les infos films**\n",
    "     - **Producer** : Producteur = **utile pour les infos films**\n",
    "\n",
    "- **Analyse des personnages (`characters`)** : Extraction des personnages les plus populaires ou récurrents.\n",
    "\n",
    "- **Vérification de la diversité des postes (`job`)** : Analyse textuelle pour regrouper les titres similaires."
   ]
  },
  {
   "cell_type": "markdown",
   "metadata": {},
   "source": [
    "### Synthèse de l'analyse de la table `title.principals` :\n",
    "\n",
    "La table `title.principals` sert de lien entre les films (via `tconst`) et les personnes (via `nconst`) qui ont participé à leur production ou à leur distribution. Elle permet d'explorer les catégories de travail (acteurs, réalisateurs, producteurs, etc.) et les rôles spécifiques joués par chaque personne.\n",
    "\n",
    "| **Colonne**   | **Type**   | **Description**                                                             | **Conservation** |\n",
    "|---------------|------------|-----------------------------------------------------------------------------|------------------|\n",
    "| `tconst`      | string     | Identifiant unique alphanumérique du titre (film ou série).                 | Oui              |\n",
    "| `ordering`    | integer    | Numéro unique pour différencier les lignes pour un titre donné.             | Non              |\n",
    "| `nconst`      | string     | Identifiant unique alphanumérique de la personne.                          | Oui              |\n",
    "| `category`    | string     | Catégorie de travail de la personne pour le titre (acteur, réalisateur…).  | Oui              |\n",
    "| `job`         | string     | Titre précis du poste occupé si renseigné (sinon '\\N').                   | Oui              |\n",
    "| `characters`  | string     | Nom du personnage joué si renseigné (sinon '\\N').                         | Oui              |\n",
    "\n",
    "---\n",
    "\n",
    "### Utilisation prévue :\n",
    "Cette table est essentielle pour :\n",
    "- Identifier les contributions des individus dans des projets spécifiques.\n",
    "- Étudier les relations entre titres, professions, et personnages.\n",
    "- Créer des rapports sur les acteurs les plus populaires ou les réalisateurs les plus prolifiques.\n",
    "\n",
    "---\n",
    "\n",
    "### Résumé des transformations et choix de colonnes :\n",
    "#### Colonnes conservées :\n",
    "- `tconst` : Nécessaire pour le lien avec d'autres tables liées aux films.\n",
    "- `nconst` : Permet d’identifier les personnes dans la base de données.\n",
    "- `category` : Crucial pour connaître le rôle professionnel de chaque personne.\n",
    "- `job` : Fournit un niveau de détail supplémentaire sur le poste occupé.\n",
    "- `characters` : Important pour des analyses sur les rôles joués par les acteurs.\n",
    "\n",
    "#### Colonnes non conservées :\n",
    "- `ordering` : Redondant pour cette analyse et peu utile en pratique.\n",
    "\n",
    "---"
   ]
  },
  {
   "cell_type": "markdown",
   "metadata": {},
   "source": [
    "## Nettoyage de la Table `title.principals`"
   ]
  },
  {
   "cell_type": "markdown",
   "metadata": {},
   "source": [
    "### Colonne des catégories (`category`)"
   ]
  },
  {
   "cell_type": "code",
   "execution_count": null,
   "metadata": {},
   "outputs": [
    {
     "name": "stdout",
     "output_type": "stream",
     "text": [
      "category\n",
      "actor                  21335705\n",
      "actress                15996680\n",
      "self                   12816065\n",
      "writer                 10738282\n",
      "director                7697978\n",
      "producer                6743121\n",
      "editor                  4708732\n",
      "cinematographer         3594914\n",
      "composer                2910416\n",
      "production_designer     1078929\n",
      "casting_director        1049804\n",
      "archive_footage          536848\n",
      "archive_sound              8879\n",
      "Name: count, dtype: int64\n"
     ]
    }
   ],
   "source": [
    "# Distribution des Catégories\n",
    "distribution_categories = df_title_principals['category'].value_counts()\n",
    "print(distribution_categories)"
   ]
  },
  {
   "cell_type": "markdown",
   "metadata": {},
   "source": [
    "**Arbitrage** Pour alléger la base de données : \n",
    "\n",
    "- Nous conservons `'actor', 'actress', 'self', 'writer', director', 'producer', 'editor', 'cinematographer', 'composer'` et supprimons les autres catégories."
   ]
  },
  {
   "cell_type": "code",
   "execution_count": 6,
   "metadata": {},
   "outputs": [],
   "source": [
    "# Suppression des valeurs inutilisées dans 'category'\n",
    "categories_a_supprimer = ['production_designer', 'casting_director', 'archive_footage', 'archive_sound']\n",
    "df_title_principals = df_title_principals[~df_title_principals['category'].isin(categories_a_supprimer)]"
   ]
  },
  {
   "cell_type": "code",
   "execution_count": 7,
   "metadata": {},
   "outputs": [
    {
     "data": {
      "text/plain": [
       "category\n",
       "actor              21335705\n",
       "actress            15996680\n",
       "self               12816065\n",
       "writer             10738282\n",
       "director            7697978\n",
       "producer            6743121\n",
       "editor              4708732\n",
       "cinematographer     3594914\n",
       "composer            2910416\n",
       "Name: count, dtype: int64"
      ]
     },
     "execution_count": 7,
     "metadata": {},
     "output_type": "execute_result"
    }
   ],
   "source": [
    "df_title_principals['category'].value_counts()"
   ]
  },
  {
   "cell_type": "code",
   "execution_count": 8,
   "metadata": {},
   "outputs": [],
   "source": [
    "df_title_principals = df_title_principals.reset_index(drop=True)"
   ]
  },
  {
   "cell_type": "markdown",
   "metadata": {},
   "source": [
    "### Création d'un dataframe informations Acteurs / Actrices / Self"
   ]
  },
  {
   "cell_type": "code",
   "execution_count": 19,
   "metadata": {},
   "outputs": [],
   "source": [
    "# Filtrer les lignes où 'category' est 'actor', 'actress' ou 'self'\n",
    "df_acteurs = df_title_principals[df_title_principals['category'].isin(['actor', 'actress', 'self'])]"
   ]
  },
  {
   "cell_type": "code",
   "execution_count": 20,
   "metadata": {},
   "outputs": [
    {
     "name": "stderr",
     "output_type": "stream",
     "text": [
      "C:\\Users\\jpvt\\AppData\\Local\\Temp\\ipykernel_16240\\3237406497.py:3: SettingWithCopyWarning: \n",
      "A value is trying to be set on a copy of a slice from a DataFrame.\n",
      "Try using .loc[row_indexer,col_indexer] = value instead\n",
      "\n",
      "See the caveats in the documentation: https://pandas.pydata.org/pandas-docs/stable/user_guide/indexing.html#returning-a-view-versus-a-copy\n",
      "  df_acteurs['characters'] = df_acteurs['characters'].str.replace(r'[\\[\\]\"]', '', regex=True)\n"
     ]
    },
    {
     "data": {
      "text/html": [
       "<div>\n",
       "<style scoped>\n",
       "    .dataframe tbody tr th:only-of-type {\n",
       "        vertical-align: middle;\n",
       "    }\n",
       "\n",
       "    .dataframe tbody tr th {\n",
       "        vertical-align: top;\n",
       "    }\n",
       "\n",
       "    .dataframe thead th {\n",
       "        text-align: right;\n",
       "    }\n",
       "</style>\n",
       "<table border=\"1\" class=\"dataframe\">\n",
       "  <thead>\n",
       "    <tr style=\"text-align: right;\">\n",
       "      <th></th>\n",
       "      <th>tconst</th>\n",
       "      <th>nconst</th>\n",
       "      <th>category</th>\n",
       "      <th>job</th>\n",
       "      <th>characters</th>\n",
       "    </tr>\n",
       "  </thead>\n",
       "  <tbody>\n",
       "    <tr>\n",
       "      <th>26715570</th>\n",
       "      <td>tt1486649</td>\n",
       "      <td>nm3560379</td>\n",
       "      <td>actress</td>\n",
       "      <td>&lt;NA&gt;</td>\n",
       "      <td>Barbara</td>\n",
       "    </tr>\n",
       "    <tr>\n",
       "      <th>49739327</th>\n",
       "      <td>tt30474198</td>\n",
       "      <td>nm15609490</td>\n",
       "      <td>actress</td>\n",
       "      <td>&lt;NA&gt;</td>\n",
       "      <td>&lt;NA&gt;</td>\n",
       "    </tr>\n",
       "    <tr>\n",
       "      <th>14573868</th>\n",
       "      <td>tt11257350</td>\n",
       "      <td>nm4250596</td>\n",
       "      <td>actress</td>\n",
       "      <td>&lt;NA&gt;</td>\n",
       "      <td>Mehtap</td>\n",
       "    </tr>\n",
       "    <tr>\n",
       "      <th>54060294</th>\n",
       "      <td>tt33372021</td>\n",
       "      <td>nm15528898</td>\n",
       "      <td>actor</td>\n",
       "      <td>&lt;NA&gt;</td>\n",
       "      <td>Shruthi</td>\n",
       "    </tr>\n",
       "    <tr>\n",
       "      <th>55228983</th>\n",
       "      <td>tt34557855</td>\n",
       "      <td>nm4970831</td>\n",
       "      <td>actress</td>\n",
       "      <td>&lt;NA&gt;</td>\n",
       "      <td>&lt;NA&gt;</td>\n",
       "    </tr>\n",
       "    <tr>\n",
       "      <th>66941268</th>\n",
       "      <td>tt7443728</td>\n",
       "      <td>nm1214700</td>\n",
       "      <td>actress</td>\n",
       "      <td>&lt;NA&gt;</td>\n",
       "      <td>Marina Hernández</td>\n",
       "    </tr>\n",
       "    <tr>\n",
       "      <th>46659278</th>\n",
       "      <td>tt28479891</td>\n",
       "      <td>nm0729592</td>\n",
       "      <td>actor</td>\n",
       "      <td>&lt;NA&gt;</td>\n",
       "      <td>&lt;NA&gt;</td>\n",
       "    </tr>\n",
       "    <tr>\n",
       "      <th>67635553</th>\n",
       "      <td>tt7674628</td>\n",
       "      <td>nm1958346</td>\n",
       "      <td>actor</td>\n",
       "      <td>&lt;NA&gt;</td>\n",
       "      <td>Aleksei</td>\n",
       "    </tr>\n",
       "    <tr>\n",
       "      <th>37871124</th>\n",
       "      <td>tt21409976</td>\n",
       "      <td>nm6550878</td>\n",
       "      <td>self</td>\n",
       "      <td>&lt;NA&gt;</td>\n",
       "      <td>Self</td>\n",
       "    </tr>\n",
       "    <tr>\n",
       "      <th>14589720</th>\n",
       "      <td>tt11261080</td>\n",
       "      <td>nm11121521</td>\n",
       "      <td>actress</td>\n",
       "      <td>&lt;NA&gt;</td>\n",
       "      <td>Mother</td>\n",
       "    </tr>\n",
       "  </tbody>\n",
       "</table>\n",
       "</div>"
      ],
      "text/plain": [
       "              tconst      nconst category   job        characters\n",
       "26715570   tt1486649   nm3560379  actress  <NA>           Barbara\n",
       "49739327  tt30474198  nm15609490  actress  <NA>              <NA>\n",
       "14573868  tt11257350   nm4250596  actress  <NA>            Mehtap\n",
       "54060294  tt33372021  nm15528898    actor  <NA>           Shruthi\n",
       "55228983  tt34557855   nm4970831  actress  <NA>              <NA>\n",
       "66941268   tt7443728   nm1214700  actress  <NA>  Marina Hernández\n",
       "46659278  tt28479891   nm0729592    actor  <NA>              <NA>\n",
       "67635553   tt7674628   nm1958346    actor  <NA>           Aleksei\n",
       "37871124  tt21409976   nm6550878     self  <NA>              Self\n",
       "14589720  tt11261080  nm11121521  actress  <NA>            Mother"
      ]
     },
     "execution_count": 20,
     "metadata": {},
     "output_type": "execute_result"
    }
   ],
   "source": [
    "# Normaliser l'affichage de la colonne 'characters'\n",
    "# Supprimer les crochets et les guillemets de la colonne\n",
    "df_acteurs['characters'] = df_acteurs['characters'].str.replace(r'[\\[\\]\"]', '', regex=True)\n",
    "df_acteurs.sample(10)"
   ]
  },
  {
   "cell_type": "code",
   "execution_count": 21,
   "metadata": {},
   "outputs": [],
   "source": [
    "df_acteurs = df_acteurs.reset_index(drop=True)"
   ]
  },
  {
   "cell_type": "code",
   "execution_count": 22,
   "metadata": {},
   "outputs": [
    {
     "data": {
      "text/html": [
       "<div>\n",
       "<style scoped>\n",
       "    .dataframe tbody tr th:only-of-type {\n",
       "        vertical-align: middle;\n",
       "    }\n",
       "\n",
       "    .dataframe tbody tr th {\n",
       "        vertical-align: top;\n",
       "    }\n",
       "\n",
       "    .dataframe thead th {\n",
       "        text-align: right;\n",
       "    }\n",
       "</style>\n",
       "<table border=\"1\" class=\"dataframe\">\n",
       "  <thead>\n",
       "    <tr style=\"text-align: right;\">\n",
       "      <th></th>\n",
       "      <th>tconst</th>\n",
       "      <th>nconst</th>\n",
       "      <th>category</th>\n",
       "      <th>job</th>\n",
       "      <th>characters</th>\n",
       "    </tr>\n",
       "  </thead>\n",
       "  <tbody>\n",
       "    <tr>\n",
       "      <th>30223079</th>\n",
       "      <td>tt28021026</td>\n",
       "      <td>nm5156947</td>\n",
       "      <td>actress</td>\n",
       "      <td>&lt;NA&gt;</td>\n",
       "      <td>&lt;NA&gt;</td>\n",
       "    </tr>\n",
       "    <tr>\n",
       "      <th>37130400</th>\n",
       "      <td>tt3543504</td>\n",
       "      <td>nm6299232</td>\n",
       "      <td>actor</td>\n",
       "      <td>&lt;NA&gt;</td>\n",
       "      <td>&lt;NA&gt;</td>\n",
       "    </tr>\n",
       "    <tr>\n",
       "      <th>3758339</th>\n",
       "      <td>tt0575703</td>\n",
       "      <td>nm0358460</td>\n",
       "      <td>actor</td>\n",
       "      <td>&lt;NA&gt;</td>\n",
       "      <td>Dad</td>\n",
       "    </tr>\n",
       "    <tr>\n",
       "      <th>34029175</th>\n",
       "      <td>tt3165012</td>\n",
       "      <td>nm0625529</td>\n",
       "      <td>actress</td>\n",
       "      <td>&lt;NA&gt;</td>\n",
       "      <td>Karen Vick</td>\n",
       "    </tr>\n",
       "    <tr>\n",
       "      <th>32867786</th>\n",
       "      <td>tt3037206</td>\n",
       "      <td>nm2408329</td>\n",
       "      <td>self</td>\n",
       "      <td>&lt;NA&gt;</td>\n",
       "      <td>Self</td>\n",
       "    </tr>\n",
       "    <tr>\n",
       "      <th>923658</th>\n",
       "      <td>tt0110075</td>\n",
       "      <td>nm0503292</td>\n",
       "      <td>actor</td>\n",
       "      <td>&lt;NA&gt;</td>\n",
       "      <td>Ruudi</td>\n",
       "    </tr>\n",
       "    <tr>\n",
       "      <th>41161401</th>\n",
       "      <td>tt5657754</td>\n",
       "      <td>nm0137390</td>\n",
       "      <td>actor</td>\n",
       "      <td>&lt;NA&gt;</td>\n",
       "      <td>Narrator</td>\n",
       "    </tr>\n",
       "    <tr>\n",
       "      <th>37841202</th>\n",
       "      <td>tt3905330</td>\n",
       "      <td>nm1846933</td>\n",
       "      <td>actress</td>\n",
       "      <td>&lt;NA&gt;</td>\n",
       "      <td>&lt;NA&gt;</td>\n",
       "    </tr>\n",
       "    <tr>\n",
       "      <th>47329399</th>\n",
       "      <td>tt8603930</td>\n",
       "      <td>nm0157385</td>\n",
       "      <td>actress</td>\n",
       "      <td>&lt;NA&gt;</td>\n",
       "      <td>Nobita's Mom (1979-2005)</td>\n",
       "    </tr>\n",
       "    <tr>\n",
       "      <th>35085888</th>\n",
       "      <td>tt32543902</td>\n",
       "      <td>nm14474015</td>\n",
       "      <td>actor</td>\n",
       "      <td>&lt;NA&gt;</td>\n",
       "      <td>&lt;NA&gt;</td>\n",
       "    </tr>\n",
       "  </tbody>\n",
       "</table>\n",
       "</div>"
      ],
      "text/plain": [
       "              tconst      nconst category   job                characters\n",
       "30223079  tt28021026   nm5156947  actress  <NA>                      <NA>\n",
       "37130400   tt3543504   nm6299232    actor  <NA>                      <NA>\n",
       "3758339    tt0575703   nm0358460    actor  <NA>                       Dad\n",
       "34029175   tt3165012   nm0625529  actress  <NA>                Karen Vick\n",
       "32867786   tt3037206   nm2408329     self  <NA>                      Self\n",
       "923658     tt0110075   nm0503292    actor  <NA>                     Ruudi\n",
       "41161401   tt5657754   nm0137390    actor  <NA>                  Narrator\n",
       "37841202   tt3905330   nm1846933  actress  <NA>                      <NA>\n",
       "47329399   tt8603930   nm0157385  actress  <NA>  Nobita's Mom (1979-2005)\n",
       "35085888  tt32543902  nm14474015    actor  <NA>                      <NA>"
      ]
     },
     "execution_count": 22,
     "metadata": {},
     "output_type": "execute_result"
    }
   ],
   "source": [
    "df_acteurs.sample(10)"
   ]
  },
  {
   "cell_type": "code",
   "execution_count": 23,
   "metadata": {},
   "outputs": [
    {
     "data": {
      "text/html": [
       "<div>\n",
       "<style scoped>\n",
       "    .dataframe tbody tr th:only-of-type {\n",
       "        vertical-align: middle;\n",
       "    }\n",
       "\n",
       "    .dataframe tbody tr th {\n",
       "        vertical-align: top;\n",
       "    }\n",
       "\n",
       "    .dataframe thead th {\n",
       "        text-align: right;\n",
       "    }\n",
       "</style>\n",
       "<table border=\"1\" class=\"dataframe\">\n",
       "  <thead>\n",
       "    <tr style=\"text-align: right;\">\n",
       "      <th></th>\n",
       "      <th>tconst</th>\n",
       "      <th>nconst</th>\n",
       "      <th>category</th>\n",
       "      <th>job</th>\n",
       "      <th>characters</th>\n",
       "    </tr>\n",
       "  </thead>\n",
       "  <tbody>\n",
       "    <tr>\n",
       "      <th>1</th>\n",
       "      <td>tt0000005</td>\n",
       "      <td>nm0443482</td>\n",
       "      <td>actor</td>\n",
       "      <td>&lt;NA&gt;</td>\n",
       "      <td>Blacksmith</td>\n",
       "    </tr>\n",
       "    <tr>\n",
       "      <th>2</th>\n",
       "      <td>tt0000005</td>\n",
       "      <td>nm0653042</td>\n",
       "      <td>actor</td>\n",
       "      <td>&lt;NA&gt;</td>\n",
       "      <td>Assistant</td>\n",
       "    </tr>\n",
       "    <tr>\n",
       "      <th>3</th>\n",
       "      <td>tt0000007</td>\n",
       "      <td>nm0179163</td>\n",
       "      <td>actor</td>\n",
       "      <td>&lt;NA&gt;</td>\n",
       "      <td>&lt;NA&gt;</td>\n",
       "    </tr>\n",
       "    <tr>\n",
       "      <th>4</th>\n",
       "      <td>tt0000007</td>\n",
       "      <td>nm0183947</td>\n",
       "      <td>actor</td>\n",
       "      <td>&lt;NA&gt;</td>\n",
       "      <td>&lt;NA&gt;</td>\n",
       "    </tr>\n",
       "    <tr>\n",
       "      <th>6</th>\n",
       "      <td>tt0000009</td>\n",
       "      <td>nm0063086</td>\n",
       "      <td>actress</td>\n",
       "      <td>&lt;NA&gt;</td>\n",
       "      <td>Miss Geraldine Holbrook (Miss Jerry)</td>\n",
       "    </tr>\n",
       "    <tr>\n",
       "      <th>...</th>\n",
       "      <td>...</td>\n",
       "      <td>...</td>\n",
       "      <td>...</td>\n",
       "      <td>...</td>\n",
       "      <td>...</td>\n",
       "    </tr>\n",
       "    <tr>\n",
       "      <th>50148445</th>\n",
       "      <td>tt9916880</td>\n",
       "      <td>nm2676923</td>\n",
       "      <td>actress</td>\n",
       "      <td>&lt;NA&gt;</td>\n",
       "      <td>Sour Susan</td>\n",
       "    </tr>\n",
       "    <tr>\n",
       "      <th>50148446</th>\n",
       "      <td>tt9916880</td>\n",
       "      <td>nm2676923</td>\n",
       "      <td>actress</td>\n",
       "      <td>&lt;NA&gt;</td>\n",
       "      <td>Goody-Goody Gordon</td>\n",
       "    </tr>\n",
       "    <tr>\n",
       "      <th>50148447</th>\n",
       "      <td>tt9916880</td>\n",
       "      <td>nm2676923</td>\n",
       "      <td>actress</td>\n",
       "      <td>&lt;NA&gt;</td>\n",
       "      <td>Singing Soraya</td>\n",
       "    </tr>\n",
       "    <tr>\n",
       "      <th>50148448</th>\n",
       "      <td>tt9916880</td>\n",
       "      <td>nm1469295</td>\n",
       "      <td>actress</td>\n",
       "      <td>&lt;NA&gt;</td>\n",
       "      <td>Perfect Peter</td>\n",
       "    </tr>\n",
       "    <tr>\n",
       "      <th>50148449</th>\n",
       "      <td>tt9916880</td>\n",
       "      <td>nm1469295</td>\n",
       "      <td>actress</td>\n",
       "      <td>&lt;NA&gt;</td>\n",
       "      <td>Lazy Linda</td>\n",
       "    </tr>\n",
       "  </tbody>\n",
       "</table>\n",
       "<p>48570800 rows × 5 columns</p>\n",
       "</div>"
      ],
      "text/plain": [
       "             tconst     nconst category   job  \\\n",
       "1         tt0000005  nm0443482    actor  <NA>   \n",
       "2         tt0000005  nm0653042    actor  <NA>   \n",
       "3         tt0000007  nm0179163    actor  <NA>   \n",
       "4         tt0000007  nm0183947    actor  <NA>   \n",
       "6         tt0000009  nm0063086  actress  <NA>   \n",
       "...             ...        ...      ...   ...   \n",
       "50148445  tt9916880  nm2676923  actress  <NA>   \n",
       "50148446  tt9916880  nm2676923  actress  <NA>   \n",
       "50148447  tt9916880  nm2676923  actress  <NA>   \n",
       "50148448  tt9916880  nm1469295  actress  <NA>   \n",
       "50148449  tt9916880  nm1469295  actress  <NA>   \n",
       "\n",
       "                                    characters  \n",
       "1                                   Blacksmith  \n",
       "2                                    Assistant  \n",
       "3                                         <NA>  \n",
       "4                                         <NA>  \n",
       "6         Miss Geraldine Holbrook (Miss Jerry)  \n",
       "...                                        ...  \n",
       "50148445                            Sour Susan  \n",
       "50148446                    Goody-Goody Gordon  \n",
       "50148447                        Singing Soraya  \n",
       "50148448                         Perfect Peter  \n",
       "50148449                            Lazy Linda  \n",
       "\n",
       "[48570800 rows x 5 columns]"
      ]
     },
     "execution_count": 23,
     "metadata": {},
     "output_type": "execute_result"
    }
   ],
   "source": [
    "df_acteurs[df_acteurs['tconst'].duplicated(keep=False)]"
   ]
  },
  {
   "cell_type": "code",
   "execution_count": 23,
   "metadata": {},
   "outputs": [],
   "source": [
    "df_acteurs = df_acteurs.drop(columns=['job'])"
   ]
  },
  {
   "cell_type": "code",
   "execution_count": 24,
   "metadata": {},
   "outputs": [
    {
     "data": {
      "text/html": [
       "<div>\n",
       "<style scoped>\n",
       "    .dataframe tbody tr th:only-of-type {\n",
       "        vertical-align: middle;\n",
       "    }\n",
       "\n",
       "    .dataframe tbody tr th {\n",
       "        vertical-align: top;\n",
       "    }\n",
       "\n",
       "    .dataframe thead th {\n",
       "        text-align: right;\n",
       "    }\n",
       "</style>\n",
       "<table border=\"1\" class=\"dataframe\">\n",
       "  <thead>\n",
       "    <tr style=\"text-align: right;\">\n",
       "      <th></th>\n",
       "      <th>tconst</th>\n",
       "      <th>nconst</th>\n",
       "      <th>category</th>\n",
       "      <th>characters</th>\n",
       "    </tr>\n",
       "  </thead>\n",
       "  <tbody>\n",
       "    <tr>\n",
       "      <th>3298557</th>\n",
       "      <td>tt0517847</td>\n",
       "      <td>nm1168795</td>\n",
       "      <td>self</td>\n",
       "      <td>Self</td>\n",
       "    </tr>\n",
       "    <tr>\n",
       "      <th>49850869</th>\n",
       "      <td>tt9766910</td>\n",
       "      <td>nm9191439</td>\n",
       "      <td>self</td>\n",
       "      <td>Self - Co-Host</td>\n",
       "    </tr>\n",
       "    <tr>\n",
       "      <th>33789895</th>\n",
       "      <td>tt31392743</td>\n",
       "      <td>nm0775657</td>\n",
       "      <td>self</td>\n",
       "      <td>Self - Chancellor</td>\n",
       "    </tr>\n",
       "    <tr>\n",
       "      <th>49399143</th>\n",
       "      <td>tt9546694</td>\n",
       "      <td>nm10425173</td>\n",
       "      <td>self</td>\n",
       "      <td>Self</td>\n",
       "    </tr>\n",
       "    <tr>\n",
       "      <th>34678981</th>\n",
       "      <td>tt32258926</td>\n",
       "      <td>nm12282849</td>\n",
       "      <td>self</td>\n",
       "      <td>Self</td>\n",
       "    </tr>\n",
       "    <tr>\n",
       "      <th>4285856</th>\n",
       "      <td>tt0643582</td>\n",
       "      <td>nm0446011</td>\n",
       "      <td>actor</td>\n",
       "      <td>Howie Mann</td>\n",
       "    </tr>\n",
       "    <tr>\n",
       "      <th>19488066</th>\n",
       "      <td>tt15680920</td>\n",
       "      <td>nm0866336</td>\n",
       "      <td>actress</td>\n",
       "      <td>Séraphine</td>\n",
       "    </tr>\n",
       "    <tr>\n",
       "      <th>41412783</th>\n",
       "      <td>tt5779288</td>\n",
       "      <td>nm0467191</td>\n",
       "      <td>actress</td>\n",
       "      <td>Margo Lynley Spencer</td>\n",
       "    </tr>\n",
       "    <tr>\n",
       "      <th>7112211</th>\n",
       "      <td>tt1013131</td>\n",
       "      <td>nm0808401</td>\n",
       "      <td>actor</td>\n",
       "      <td>Brownie</td>\n",
       "    </tr>\n",
       "    <tr>\n",
       "      <th>1694805</th>\n",
       "      <td>tt0238994</td>\n",
       "      <td>nm0662443</td>\n",
       "      <td>actress</td>\n",
       "      <td>Anya</td>\n",
       "    </tr>\n",
       "  </tbody>\n",
       "</table>\n",
       "</div>"
      ],
      "text/plain": [
       "              tconst      nconst category            characters\n",
       "3298557    tt0517847   nm1168795     self                  Self\n",
       "49850869   tt9766910   nm9191439     self        Self - Co-Host\n",
       "33789895  tt31392743   nm0775657     self     Self - Chancellor\n",
       "49399143   tt9546694  nm10425173     self                  Self\n",
       "34678981  tt32258926  nm12282849     self                  Self\n",
       "4285856    tt0643582   nm0446011    actor            Howie Mann\n",
       "19488066  tt15680920   nm0866336  actress             Séraphine\n",
       "41412783   tt5779288   nm0467191  actress  Margo Lynley Spencer\n",
       "7112211    tt1013131   nm0808401    actor               Brownie\n",
       "1694805    tt0238994   nm0662443  actress                  Anya"
      ]
     },
     "execution_count": 24,
     "metadata": {},
     "output_type": "execute_result"
    }
   ],
   "source": [
    "df_acteurs.sample(10)"
   ]
  },
  {
   "cell_type": "code",
   "execution_count": 25,
   "metadata": {},
   "outputs": [],
   "source": [
    "# Renommer la colonne Characters\n",
    "df_acteurs = df_acteurs.rename(columns={'characters': 'rôle'})"
   ]
  },
  {
   "cell_type": "code",
   "execution_count": 26,
   "metadata": {},
   "outputs": [],
   "source": [
    "# Conserver 'Self' et enlever tout ce qui suit dans la colonne 'category'\n",
    "df_acteurs['rôle'] = df_acteurs['rôle'].replace(r'^Self.*', 'Self', regex=True)"
   ]
  },
  {
   "cell_type": "code",
   "execution_count": 27,
   "metadata": {},
   "outputs": [],
   "source": [
    "# Remplacer Self par Soi-même dans rôles\n",
    "df_acteurs['rôle'] = df_acteurs['rôle'].replace('Self', 'soi-même')"
   ]
  },
  {
   "cell_type": "code",
   "execution_count": 30,
   "metadata": {},
   "outputs": [],
   "source": [
    "# Renommer la colonne catégorie\n",
    "df_acteurs = df_acteurs.rename(columns={'category': 'catégorie'})"
   ]
  },
  {
   "cell_type": "code",
   "execution_count": 31,
   "metadata": {},
   "outputs": [
    {
     "data": {
      "text/html": [
       "<div>\n",
       "<style scoped>\n",
       "    .dataframe tbody tr th:only-of-type {\n",
       "        vertical-align: middle;\n",
       "    }\n",
       "\n",
       "    .dataframe tbody tr th {\n",
       "        vertical-align: top;\n",
       "    }\n",
       "\n",
       "    .dataframe thead th {\n",
       "        text-align: right;\n",
       "    }\n",
       "</style>\n",
       "<table border=\"1\" class=\"dataframe\">\n",
       "  <thead>\n",
       "    <tr style=\"text-align: right;\">\n",
       "      <th></th>\n",
       "      <th>tconst</th>\n",
       "      <th>nconst</th>\n",
       "      <th>catégorie</th>\n",
       "      <th>rôle</th>\n",
       "    </tr>\n",
       "  </thead>\n",
       "  <tbody>\n",
       "    <tr>\n",
       "      <th>11402368</th>\n",
       "      <td>tt11837146</td>\n",
       "      <td>nm14320716</td>\n",
       "      <td>actress</td>\n",
       "      <td>Mangai</td>\n",
       "    </tr>\n",
       "    <tr>\n",
       "      <th>1728017</th>\n",
       "      <td>tt0245144</td>\n",
       "      <td>nm0091392</td>\n",
       "      <td>actress</td>\n",
       "      <td>&lt;NA&gt;</td>\n",
       "    </tr>\n",
       "    <tr>\n",
       "      <th>7217669</th>\n",
       "      <td>tt10171524</td>\n",
       "      <td>nm1319934</td>\n",
       "      <td>self</td>\n",
       "      <td>soi-même</td>\n",
       "    </tr>\n",
       "    <tr>\n",
       "      <th>41033193</th>\n",
       "      <td>tt5598214</td>\n",
       "      <td>nm2758480</td>\n",
       "      <td>actress</td>\n",
       "      <td>&lt;NA&gt;</td>\n",
       "    </tr>\n",
       "    <tr>\n",
       "      <th>46675505</th>\n",
       "      <td>tt8318898</td>\n",
       "      <td>nm9333925</td>\n",
       "      <td>actress</td>\n",
       "      <td>Coffee Shop Customer</td>\n",
       "    </tr>\n",
       "    <tr>\n",
       "      <th>26246177</th>\n",
       "      <td>tt2271591</td>\n",
       "      <td>nm0663832</td>\n",
       "      <td>self</td>\n",
       "      <td>soi-même</td>\n",
       "    </tr>\n",
       "    <tr>\n",
       "      <th>22895243</th>\n",
       "      <td>tt1916433</td>\n",
       "      <td>nm3980269</td>\n",
       "      <td>actor</td>\n",
       "      <td>Yasuhiru Sugimoto</td>\n",
       "    </tr>\n",
       "    <tr>\n",
       "      <th>727537</th>\n",
       "      <td>tt0087592</td>\n",
       "      <td>nm0935939</td>\n",
       "      <td>actress</td>\n",
       "      <td>Beach Girl Teaser</td>\n",
       "    </tr>\n",
       "    <tr>\n",
       "      <th>11872336</th>\n",
       "      <td>tt1204536</td>\n",
       "      <td>nm0272401</td>\n",
       "      <td>self</td>\n",
       "      <td>soi-même</td>\n",
       "    </tr>\n",
       "    <tr>\n",
       "      <th>25661807</th>\n",
       "      <td>tt22016616</td>\n",
       "      <td>nm8383099</td>\n",
       "      <td>actor</td>\n",
       "      <td>&lt;NA&gt;</td>\n",
       "    </tr>\n",
       "  </tbody>\n",
       "</table>\n",
       "</div>"
      ],
      "text/plain": [
       "              tconst      nconst catégorie                  rôle\n",
       "11402368  tt11837146  nm14320716   actress                Mangai\n",
       "1728017    tt0245144   nm0091392   actress                  <NA>\n",
       "7217669   tt10171524   nm1319934      self              soi-même\n",
       "41033193   tt5598214   nm2758480   actress                  <NA>\n",
       "46675505   tt8318898   nm9333925   actress  Coffee Shop Customer\n",
       "26246177   tt2271591   nm0663832      self              soi-même\n",
       "22895243   tt1916433   nm3980269     actor     Yasuhiru Sugimoto\n",
       "727537     tt0087592   nm0935939   actress     Beach Girl Teaser\n",
       "11872336   tt1204536   nm0272401      self              soi-même\n",
       "25661807  tt22016616   nm8383099     actor                  <NA>"
      ]
     },
     "execution_count": 31,
     "metadata": {},
     "output_type": "execute_result"
    }
   ],
   "source": [
    "df_acteurs.sample(10)"
   ]
  },
  {
   "cell_type": "markdown",
   "metadata": {},
   "source": [
    "#### Export de la table des acteurs\n",
    "\n",
    "- Cette table sera utilisée pour les informations 'affichage'."
   ]
  },
  {
   "cell_type": "code",
   "execution_count": 32,
   "metadata": {},
   "outputs": [],
   "source": [
    "# Export Table Acteurs\n",
    "df_acteurs.to_csv('../gitignore/info_casting_acteurs.tsv', sep='\\t', index=False)"
   ]
  },
  {
   "cell_type": "markdown",
   "metadata": {},
   "source": [
    "### Création d'un dataframe informations `Equipe du Film`"
   ]
  },
  {
   "cell_type": "code",
   "execution_count": 9,
   "metadata": {},
   "outputs": [
    {
     "data": {
      "text/plain": [
       "category\n",
       "actor              21335705\n",
       "actress            15996680\n",
       "self               12816065\n",
       "writer             10738282\n",
       "director            7697978\n",
       "producer            6743121\n",
       "editor              4708732\n",
       "cinematographer     3594914\n",
       "composer            2910416\n",
       "Name: count, dtype: int64"
      ]
     },
     "execution_count": 9,
     "metadata": {},
     "output_type": "execute_result"
    }
   ],
   "source": [
    "df_title_principals['category'].value_counts()"
   ]
  },
  {
   "cell_type": "code",
   "execution_count": 10,
   "metadata": {},
   "outputs": [],
   "source": [
    "# Filtrer les lignes où 'category' pour l'équipe du film\n",
    "df_équipe_film = df_title_principals[df_title_principals['category'].isin(['writer', 'director', 'producer','editor', 'cinematographer', 'composer' ])]"
   ]
  },
  {
   "cell_type": "code",
   "execution_count": 11,
   "metadata": {},
   "outputs": [
    {
     "data": {
      "text/plain": [
       "category\n",
       "writer             10738282\n",
       "director            7697978\n",
       "producer            6743121\n",
       "editor              4708732\n",
       "cinematographer     3594914\n",
       "composer            2910416\n",
       "Name: count, dtype: int64"
      ]
     },
     "execution_count": 11,
     "metadata": {},
     "output_type": "execute_result"
    }
   ],
   "source": [
    "df_équipe_film['category'].value_counts()"
   ]
  },
  {
   "cell_type": "code",
   "execution_count": 12,
   "metadata": {},
   "outputs": [
    {
     "data": {
      "text/html": [
       "<div>\n",
       "<style scoped>\n",
       "    .dataframe tbody tr th:only-of-type {\n",
       "        vertical-align: middle;\n",
       "    }\n",
       "\n",
       "    .dataframe tbody tr th {\n",
       "        vertical-align: top;\n",
       "    }\n",
       "\n",
       "    .dataframe thead th {\n",
       "        text-align: right;\n",
       "    }\n",
       "</style>\n",
       "<table border=\"1\" class=\"dataframe\">\n",
       "  <thead>\n",
       "    <tr style=\"text-align: right;\">\n",
       "      <th></th>\n",
       "      <th>tconst</th>\n",
       "      <th>nconst</th>\n",
       "      <th>category</th>\n",
       "      <th>job</th>\n",
       "      <th>characters</th>\n",
       "    </tr>\n",
       "  </thead>\n",
       "  <tbody>\n",
       "    <tr>\n",
       "      <th>1</th>\n",
       "      <td>tt0000001</td>\n",
       "      <td>nm0005690</td>\n",
       "      <td>director</td>\n",
       "      <td>&lt;NA&gt;</td>\n",
       "      <td>&lt;NA&gt;</td>\n",
       "    </tr>\n",
       "    <tr>\n",
       "      <th>2</th>\n",
       "      <td>tt0000001</td>\n",
       "      <td>nm0005690</td>\n",
       "      <td>producer</td>\n",
       "      <td>producer</td>\n",
       "      <td>&lt;NA&gt;</td>\n",
       "    </tr>\n",
       "    <tr>\n",
       "      <th>3</th>\n",
       "      <td>tt0000001</td>\n",
       "      <td>nm0374658</td>\n",
       "      <td>cinematographer</td>\n",
       "      <td>director of photography</td>\n",
       "      <td>&lt;NA&gt;</td>\n",
       "    </tr>\n",
       "    <tr>\n",
       "      <th>4</th>\n",
       "      <td>tt0000002</td>\n",
       "      <td>nm0721526</td>\n",
       "      <td>director</td>\n",
       "      <td>&lt;NA&gt;</td>\n",
       "      <td>&lt;NA&gt;</td>\n",
       "    </tr>\n",
       "    <tr>\n",
       "      <th>5</th>\n",
       "      <td>tt0000002</td>\n",
       "      <td>nm1335271</td>\n",
       "      <td>composer</td>\n",
       "      <td>&lt;NA&gt;</td>\n",
       "      <td>&lt;NA&gt;</td>\n",
       "    </tr>\n",
       "  </tbody>\n",
       "</table>\n",
       "</div>"
      ],
      "text/plain": [
       "      tconst     nconst         category                      job characters\n",
       "1  tt0000001  nm0005690         director                     <NA>       <NA>\n",
       "2  tt0000001  nm0005690         producer                 producer       <NA>\n",
       "3  tt0000001  nm0374658  cinematographer  director of photography       <NA>\n",
       "4  tt0000002  nm0721526         director                     <NA>       <NA>\n",
       "5  tt0000002  nm1335271         composer                     <NA>       <NA>"
      ]
     },
     "execution_count": 12,
     "metadata": {},
     "output_type": "execute_result"
    }
   ],
   "source": [
    "df_équipe_film.head()"
   ]
  },
  {
   "cell_type": "code",
   "execution_count": 13,
   "metadata": {},
   "outputs": [],
   "source": [
    "# Suppression de la colonne 'Characters'\"Exploration - episodes.ipynb\"\n",
    "df_équipe_film = df_équipe_film.drop(columns= 'characters')"
   ]
  },
  {
   "cell_type": "code",
   "execution_count": 14,
   "metadata": {},
   "outputs": [],
   "source": [
    "# Renommer les colonnes\n",
    "df_équipe_film = df_équipe_film.rename(columns={'category': 'catégorie'})\n",
    "df_équipe_film = df_équipe_film.rename(columns={'job': 'poste'})"
   ]
  },
  {
   "cell_type": "code",
   "execution_count": 16,
   "metadata": {},
   "outputs": [],
   "source": [
    "# Export Table Equipe du film\n",
    "df_équipe_film.to_csv('../gitignore/info_équipe_film.tsv', sep='\\t', index=False)"
   ]
  },
  {
   "cell_type": "markdown",
   "metadata": {},
   "source": [
    "### Fin du Nettoyage :\n",
    "\n",
    "- L'analyse se fera avec les 2 tables créées : `Info acteurs` et `Info équipe film`"
   ]
  }
 ],
 "metadata": {
  "kernelspec": {
   "display_name": "base",
   "language": "python",
   "name": "python3"
  },
  "language_info": {
   "codemirror_mode": {
    "name": "ipython",
    "version": 3
   },
   "file_extension": ".py",
   "mimetype": "text/x-python",
   "name": "python",
   "nbconvert_exporter": "python",
   "pygments_lexer": "ipython3",
   "version": "3.12.4"
  }
 },
 "nbformat": 4,
 "nbformat_minor": 2
}
