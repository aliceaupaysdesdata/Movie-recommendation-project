{
 "cells": [
  {
   "cell_type": "markdown",
   "metadata": {},
   "source": [
    "## Exploration Table title.principals"
   ]
  },
  {
   "cell_type": "markdown",
   "metadata": {},
   "source": [
    "### Analyse globale de la table"
   ]
  },
  {
   "cell_type": "code",
   "execution_count": 32,
   "metadata": {},
   "outputs": [],
   "source": [
    "import matplotlib.pyplot as plt\n",
    "import seaborn as sns\n",
    "import pandas as pd\n",
    "import ast"
   ]
  },
  {
   "cell_type": "code",
   "execution_count": null,
   "metadata": {},
   "outputs": [],
   "source": [
    "# Importation du DataSet :\n",
    "df_title_principals = pd.read_csv('../gitignore/title.principals.tsv', sep= '\\t')"
   ]
  },
  {
   "cell_type": "code",
   "execution_count": 7,
   "metadata": {},
   "outputs": [
    {
     "name": "stdout",
     "output_type": "stream",
     "text": [
      "<class 'pandas.core.frame.DataFrame'>\n",
      "RangeIndex: 89216353 entries, 0 to 89216352\n",
      "Data columns (total 6 columns):\n",
      " #   Column      Dtype \n",
      "---  ------      ----- \n",
      " 0   tconst      object\n",
      " 1   ordering    int64 \n",
      " 2   nconst      object\n",
      " 3   category    object\n",
      " 4   job         object\n",
      " 5   characters  object\n",
      "dtypes: int64(1), object(5)\n",
      "memory usage: 4.0+ GB\n"
     ]
    }
   ],
   "source": [
    "df_title_principals.info()"
   ]
  },
  {
   "cell_type": "code",
   "execution_count": 8,
   "metadata": {},
   "outputs": [
    {
     "data": {
      "text/html": [
       "<div>\n",
       "<style scoped>\n",
       "    .dataframe tbody tr th:only-of-type {\n",
       "        vertical-align: middle;\n",
       "    }\n",
       "\n",
       "    .dataframe tbody tr th {\n",
       "        vertical-align: top;\n",
       "    }\n",
       "\n",
       "    .dataframe thead th {\n",
       "        text-align: right;\n",
       "    }\n",
       "</style>\n",
       "<table border=\"1\" class=\"dataframe\">\n",
       "  <thead>\n",
       "    <tr style=\"text-align: right;\">\n",
       "      <th></th>\n",
       "      <th>ordering</th>\n",
       "    </tr>\n",
       "  </thead>\n",
       "  <tbody>\n",
       "    <tr>\n",
       "      <th>count</th>\n",
       "      <td>8.921635e+07</td>\n",
       "    </tr>\n",
       "    <tr>\n",
       "      <th>mean</th>\n",
       "      <td>7.005962e+00</td>\n",
       "    </tr>\n",
       "    <tr>\n",
       "      <th>std</th>\n",
       "      <td>5.152561e+00</td>\n",
       "    </tr>\n",
       "    <tr>\n",
       "      <th>min</th>\n",
       "      <td>1.000000e+00</td>\n",
       "    </tr>\n",
       "    <tr>\n",
       "      <th>25%</th>\n",
       "      <td>3.000000e+00</td>\n",
       "    </tr>\n",
       "    <tr>\n",
       "      <th>50%</th>\n",
       "      <td>6.000000e+00</td>\n",
       "    </tr>\n",
       "    <tr>\n",
       "      <th>75%</th>\n",
       "      <td>1.000000e+01</td>\n",
       "    </tr>\n",
       "    <tr>\n",
       "      <th>max</th>\n",
       "      <td>7.500000e+01</td>\n",
       "    </tr>\n",
       "  </tbody>\n",
       "</table>\n",
       "</div>"
      ],
      "text/plain": [
       "           ordering\n",
       "count  8.921635e+07\n",
       "mean   7.005962e+00\n",
       "std    5.152561e+00\n",
       "min    1.000000e+00\n",
       "25%    3.000000e+00\n",
       "50%    6.000000e+00\n",
       "75%    1.000000e+01\n",
       "max    7.500000e+01"
      ]
     },
     "execution_count": 8,
     "metadata": {},
     "output_type": "execute_result"
    }
   ],
   "source": [
    "df_title_principals.describe()"
   ]
  },
  {
   "cell_type": "code",
   "execution_count": 9,
   "metadata": {},
   "outputs": [
    {
     "data": {
      "text/html": [
       "<div>\n",
       "<style scoped>\n",
       "    .dataframe tbody tr th:only-of-type {\n",
       "        vertical-align: middle;\n",
       "    }\n",
       "\n",
       "    .dataframe tbody tr th {\n",
       "        vertical-align: top;\n",
       "    }\n",
       "\n",
       "    .dataframe thead th {\n",
       "        text-align: right;\n",
       "    }\n",
       "</style>\n",
       "<table border=\"1\" class=\"dataframe\">\n",
       "  <thead>\n",
       "    <tr style=\"text-align: right;\">\n",
       "      <th></th>\n",
       "      <th>tconst</th>\n",
       "      <th>ordering</th>\n",
       "      <th>nconst</th>\n",
       "      <th>category</th>\n",
       "      <th>job</th>\n",
       "      <th>characters</th>\n",
       "    </tr>\n",
       "  </thead>\n",
       "  <tbody>\n",
       "    <tr>\n",
       "      <th>0</th>\n",
       "      <td>tt0000001</td>\n",
       "      <td>1</td>\n",
       "      <td>nm1588970</td>\n",
       "      <td>self</td>\n",
       "      <td>\\N</td>\n",
       "      <td>[\"Self\"]</td>\n",
       "    </tr>\n",
       "    <tr>\n",
       "      <th>1</th>\n",
       "      <td>tt0000001</td>\n",
       "      <td>2</td>\n",
       "      <td>nm0005690</td>\n",
       "      <td>director</td>\n",
       "      <td>\\N</td>\n",
       "      <td>\\N</td>\n",
       "    </tr>\n",
       "    <tr>\n",
       "      <th>2</th>\n",
       "      <td>tt0000001</td>\n",
       "      <td>3</td>\n",
       "      <td>nm0005690</td>\n",
       "      <td>producer</td>\n",
       "      <td>producer</td>\n",
       "      <td>\\N</td>\n",
       "    </tr>\n",
       "  </tbody>\n",
       "</table>\n",
       "</div>"
      ],
      "text/plain": [
       "      tconst  ordering     nconst  category       job characters\n",
       "0  tt0000001         1  nm1588970      self        \\N   [\"Self\"]\n",
       "1  tt0000001         2  nm0005690  director        \\N         \\N\n",
       "2  tt0000001         3  nm0005690  producer  producer         \\N"
      ]
     },
     "execution_count": 9,
     "metadata": {},
     "output_type": "execute_result"
    }
   ],
   "source": [
    "df_title_principals.head(3)"
   ]
  },
  {
   "cell_type": "markdown",
   "metadata": {},
   "source": [
    "## Résumé et Analyse Exploratoire de la Table `title.principals`\n",
    "\n",
    "### Description de la table `title.principals` :\n",
    "La table `title.principals` sert de lien entre les films (via `tconst`) et les personnes (via `nconst`) qui ont participé à leur production ou à leur distribution. Elle permet d'explorer les catégories de travail (acteurs, réalisateurs, producteurs, etc.) et les rôles spécifiques joués par chaque personne.\n",
    "\n",
    "| **Colonne**   | **Type**   | **Description**                                                             | **Conservation** |\n",
    "|---------------|------------|-----------------------------------------------------------------------------|------------------|\n",
    "| `tconst`      | string     | Identifiant unique alphanumérique du titre (film ou série).                 | Oui              |\n",
    "| `ordering`    | integer    | Numéro unique pour différencier les lignes pour un titre donné.             | Non              |\n",
    "| `nconst`      | string     | Identifiant unique alphanumérique de la personne.                          | Oui              |\n",
    "| `category`    | string     | Catégorie de travail de la personne pour le titre (acteur, réalisateur…).  | Oui              |\n",
    "| `job`         | string     | Titre précis du poste occupé si renseigné (sinon '\\N').                   | Oui              |\n",
    "| `characters`  | string     | Nom du personnage joué si renseigné (sinon '\\N').                         | Oui              |\n",
    "\n",
    "---\n",
    "\n",
    "### Utilisation prévue :\n",
    "Cette table est essentielle pour :\n",
    "- Identifier les contributions des individus dans des projets spécifiques.\n",
    "- Étudier les relations entre titres, professions, et personnages.\n",
    "- Créer des rapports sur les acteurs les plus populaires ou les réalisateurs les plus prolifiques.\n",
    "\n",
    "---\n",
    "\n",
    "### Résumé des transformations et choix de colonnes :\n",
    "#### Colonnes conservées :\n",
    "- `tconst` : Nécessaire pour le lien avec d'autres tables liées aux films.\n",
    "- `nconst` : Permet d’identifier les personnes dans la base de données.\n",
    "- `category` : Crucial pour connaître le rôle professionnel de chaque personne.\n",
    "- `job` : Fournit un niveau de détail supplémentaire sur le poste occupé.\n",
    "- `characters` : Important pour des analyses sur les rôles joués par les acteurs.\n",
    "\n",
    "#### Colonnes non conservées :\n",
    "- `ordering` : Redondant pour cette analyse et peu utile en pratique.\n",
    "\n",
    "---"
   ]
  },
  {
   "cell_type": "markdown",
   "metadata": {},
   "source": [
    "### Analyse exploratoire :\n",
    "#### Vérifications de base :\n",
    "- **Taille de la table** : **89 216 353** lignes  et **6** colonnes.\n",
    "\n",
    "- **Types de données** : Une colonne entière : **ordering (int64)**\n",
    ", Cinq colonnes objets : **tconst, nconst, category, job, characters**\n",
    "\n",
    "- **Valeurs manquantes (Valeur '\\N')** : Valeurs manquantes dans 'job' : **72515501 (81.28%)** / Valeurs manquantes dans 'characters' : **45987058 (51.55%)**\n",
    "  - ***Colonne 'job'*** : Avec 81% de données manquantes, pas utile pour toutes les analyses. voir pour statut **optionnel**\n",
    "  - ***Colonne 'Character'***: plus complète (>50% de valeurs renseignées). **Pertinente** pour l'analyse des personnages et rôles."
   ]
  },
  {
   "cell_type": "code",
   "execution_count": 20,
   "metadata": {},
   "outputs": [
    {
     "data": {
      "text/plain": [
       "tconst        object\n",
       "nconst        object\n",
       "category      object\n",
       "job           object\n",
       "characters    object\n",
       "dtype: object"
      ]
     },
     "execution_count": 20,
     "metadata": {},
     "output_type": "execute_result"
    }
   ],
   "source": [
    "# Taille de la Table\n",
    "df_title_principals.dtypes"
   ]
  },
  {
   "cell_type": "markdown",
   "metadata": {},
   "source": [
    "### Suppression de la colonne 'ordering' inutilisée"
   ]
  },
  {
   "cell_type": "code",
   "execution_count": 13,
   "metadata": {},
   "outputs": [],
   "source": [
    "# Suppression de la colonne 'ordering' :\n",
    "df_title_principals = df_title_principals.drop(columns = 'ordering')"
   ]
  },
  {
   "cell_type": "markdown",
   "metadata": {},
   "source": [
    "### Normalisation des valeurs manquantes '/N' dans 'job' et 'characters'\n",
    "\n",
    "- **Remplacement des valeurs '\\N'** dans `job` et `characters` par des valeurs nulles ou une chaîne vide pour faciliter l’analyse."
   ]
  },
  {
   "cell_type": "code",
   "execution_count": 12,
   "metadata": {},
   "outputs": [
    {
     "name": "stdout",
     "output_type": "stream",
     "text": [
      "Valeurs manquantes dans 'job' : 72515501 (81.28%)\n",
      "Valeurs manquantes dans 'characters' : 45987058 (51.55%)\n"
     ]
    }
   ],
   "source": [
    "# Valeurs manquantes : Analyse des colonnes 'jobs' et 'characters' (qui contiennent des valeurs '\\N')\n",
    "manquant_job = (df_title_principals['job'] == '\\\\N').sum()\n",
    "manquant_character = (df_title_principals['characters'] == '\\\\N').sum()\n",
    "\n",
    "# Proportions de valeurs manquantes\n",
    "total_lignes = len(df_title_principals)\n",
    "pourcentage_manquant_job = (manquant_job / total_lignes) * 100\n",
    "pourcentage_manquant_character = (manquant_character / total_lignes) * 100\n",
    "\n",
    "print(f\"Valeurs manquantes dans 'job' : {manquant_job} ({pourcentage_manquant_job:.2f}%)\")\n",
    "print(f\"Valeurs manquantes dans 'characters' : {manquant_character} ({pourcentage_manquant_character:.2f}%)\")"
   ]
  },
  {
   "cell_type": "code",
   "execution_count": 16,
   "metadata": {},
   "outputs": [],
   "source": [
    "# Remplacement des valeurs manquantes > colonne 'job' :\n",
    "df_title_principals['job'] = df_title_principals['job'].replace('\\\\N', pd.NA)"
   ]
  },
  {
   "cell_type": "code",
   "execution_count": null,
   "metadata": {},
   "outputs": [],
   "source": [
    "# Remplacement des valeurs manquantes > colonne 'characters' :\n",
    "df_title_principals['characters'] = df_title_principals['characters'].replace('\\\\N', pd.NA)"
   ]
  },
  {
   "cell_type": "code",
   "execution_count": 23,
   "metadata": {},
   "outputs": [
    {
     "data": {
      "text/html": [
       "<div>\n",
       "<style scoped>\n",
       "    .dataframe tbody tr th:only-of-type {\n",
       "        vertical-align: middle;\n",
       "    }\n",
       "\n",
       "    .dataframe tbody tr th {\n",
       "        vertical-align: top;\n",
       "    }\n",
       "\n",
       "    .dataframe thead th {\n",
       "        text-align: right;\n",
       "    }\n",
       "</style>\n",
       "<table border=\"1\" class=\"dataframe\">\n",
       "  <thead>\n",
       "    <tr style=\"text-align: right;\">\n",
       "      <th></th>\n",
       "      <th>tconst</th>\n",
       "      <th>nconst</th>\n",
       "      <th>category</th>\n",
       "      <th>job</th>\n",
       "      <th>characters</th>\n",
       "    </tr>\n",
       "  </thead>\n",
       "  <tbody>\n",
       "    <tr>\n",
       "      <th>0</th>\n",
       "      <td>tt0000001</td>\n",
       "      <td>nm1588970</td>\n",
       "      <td>self</td>\n",
       "      <td>&lt;NA&gt;</td>\n",
       "      <td>[\"Self\"]</td>\n",
       "    </tr>\n",
       "    <tr>\n",
       "      <th>1</th>\n",
       "      <td>tt0000001</td>\n",
       "      <td>nm0005690</td>\n",
       "      <td>director</td>\n",
       "      <td>&lt;NA&gt;</td>\n",
       "      <td>&lt;NA&gt;</td>\n",
       "    </tr>\n",
       "    <tr>\n",
       "      <th>2</th>\n",
       "      <td>tt0000001</td>\n",
       "      <td>nm0005690</td>\n",
       "      <td>producer</td>\n",
       "      <td>producer</td>\n",
       "      <td>&lt;NA&gt;</td>\n",
       "    </tr>\n",
       "    <tr>\n",
       "      <th>3</th>\n",
       "      <td>tt0000001</td>\n",
       "      <td>nm0374658</td>\n",
       "      <td>cinematographer</td>\n",
       "      <td>director of photography</td>\n",
       "      <td>&lt;NA&gt;</td>\n",
       "    </tr>\n",
       "    <tr>\n",
       "      <th>4</th>\n",
       "      <td>tt0000002</td>\n",
       "      <td>nm0721526</td>\n",
       "      <td>director</td>\n",
       "      <td>&lt;NA&gt;</td>\n",
       "      <td>&lt;NA&gt;</td>\n",
       "    </tr>\n",
       "  </tbody>\n",
       "</table>\n",
       "</div>"
      ],
      "text/plain": [
       "      tconst     nconst         category                      job characters\n",
       "0  tt0000001  nm1588970             self                     <NA>   [\"Self\"]\n",
       "1  tt0000001  nm0005690         director                     <NA>       <NA>\n",
       "2  tt0000001  nm0005690         producer                 producer       <NA>\n",
       "3  tt0000001  nm0374658  cinematographer  director of photography       <NA>\n",
       "4  tt0000002  nm0721526         director                     <NA>       <NA>"
      ]
     },
     "execution_count": 23,
     "metadata": {},
     "output_type": "execute_result"
    }
   ],
   "source": [
    "df_title_principals.head()"
   ]
  },
  {
   "cell_type": "markdown",
   "metadata": {},
   "source": [
    "#### Statistiques descriptives :\n",
    "- **Distribution des catégories (`category`)** : Identification des rôles les plus fréquents (acteur, réalisateur, etc.).\n",
    "\n",
    "     - **Actor et Actress** : Utilisables pour identifier les acteurs / actrices = **essentielles pour le moteur de recherche**\n",
    "     - **Director** : Permet aux utilisateurs de rechercher des films en fonction du réalisateur = **essentiel pour le moteur de recherche**\n",
    "     - **Self** : correspond aux personnes apparaissant en tant qu'elles-mêmes, souvent dans les documentaires = **utile pour le moteur de recherche**\n",
    "     - **writer** : scénariste = **utile pour les infos films**\n",
    "     - **director** : Réalisateur = **utile pour les infos films**\n",
    "     - **Producer** : Producteur = **utile pour les infos films**\n",
    "\n",
    "- **Analyse des personnages (`characters`)** : Extraction des personnages les plus populaires ou récurrents.\n",
    "\n",
    "- **Vérification de la diversité des postes (`job`)** : Analyse textuelle pour regrouper les titres similaires."
   ]
  },
  {
   "cell_type": "markdown",
   "metadata": {},
   "source": [
    "**Distribution des catégories (`category`)**"
   ]
  },
  {
   "cell_type": "code",
   "execution_count": 21,
   "metadata": {},
   "outputs": [
    {
     "name": "stdout",
     "output_type": "stream",
     "text": [
      "category\n",
      "actor                  21335705\n",
      "actress                15996680\n",
      "self                   12816065\n",
      "writer                 10738282\n",
      "director                7697978\n",
      "producer                6743121\n",
      "editor                  4708732\n",
      "cinematographer         3594914\n",
      "composer                2910416\n",
      "production_designer     1078929\n",
      "casting_director        1049804\n",
      "archive_footage          536848\n",
      "archive_sound              8879\n",
      "Name: count, dtype: int64\n"
     ]
    }
   ],
   "source": [
    "# Distribution des Catégories\n",
    "distribution_categories = df_title_principals['category'].value_counts()\n",
    "print(distribution_categories)"
   ]
  },
  {
   "cell_type": "code",
   "execution_count": 24,
   "metadata": {},
   "outputs": [
    {
     "data": {
      "image/png": "[encoded data removed]",
      "text/plain": [
       "<Figure size 1000x600 with 1 Axes>"
      ]
     },
     "metadata": {},
     "output_type": "display_data"
    }
   ],
   "source": [
    "# Visualisation de la distribution des Catégories\n",
    "plt.figure(figsize=(10, 6))\n",
    "sns.countplot(data=df_title_principals, x='category', order=df_title_principals['category'].value_counts().index)\n",
    "plt.xticks(rotation=90)\n",
    "plt.title('Distribution des Catégories (Rôles) dans title.principals')\n",
    "plt.xlabel('Catégorie')\n",
    "plt.ylabel('Fréquence')\n",
    "plt.show()"
   ]
  },
  {
   "cell_type": "markdown",
   "metadata": {},
   "source": [
    "**Arbitrage** Pour alléger la base de données : Nous conservons 'actor', 'actress', 'self', 'writer', director' et supprimons les autres catégories."
   ]
  },
  {
   "cell_type": "code",
   "execution_count": 25,
   "metadata": {},
   "outputs": [],
   "source": [
    "# Suppression des valeurs inutilisées dans 'category'\n",
    "categories_a_supprimer = ['editor', 'cinematographer', 'composer', 'production_designer', 'casting_director', 'archive_footage', 'archive_sound']\n",
    "df_title_principals = df_title_principals[~df_title_principals['category'].isin(categories_a_supprimer)]"
   ]
  },
  {
   "cell_type": "code",
   "execution_count": 27,
   "metadata": {},
   "outputs": [
    {
     "data": {
      "text/plain": [
       "category\n",
       "actor       21335705\n",
       "actress     15996680\n",
       "self        12816065\n",
       "writer      10738282\n",
       "director     7697978\n",
       "producer     6743121\n",
       "Name: count, dtype: int64"
      ]
     },
     "execution_count": 27,
     "metadata": {},
     "output_type": "execute_result"
    }
   ],
   "source": [
    "df_title_principals['category'].value_counts()"
   ]
  },
  {
   "cell_type": "code",
   "execution_count": 29,
   "metadata": {},
   "outputs": [
    {
     "data": {
      "image/png": "[encoded data removed]",
      "text/plain": [
       "<Figure size 1000x600 with 1 Axes>"
      ]
     },
     "metadata": {},
     "output_type": "display_data"
    }
   ],
   "source": [
    "# Visualisation de la distribution des Catégories\n",
    "plt.figure(figsize=(10, 6))\n",
    "sns.countplot(data=df_title_principals, x='category', order=df_title_principals['category'].value_counts().index)\n",
    "plt.xticks(rotation=90)\n",
    "plt.title('Distribution des Catégories (Rôles) dans title.principals')\n",
    "plt.xlabel('Catégorie')\n",
    "plt.ylabel('Fréquence')\n",
    "plt.show()"
   ]
  },
  {
   "cell_type": "markdown",
   "metadata": {},
   "source": [
    "**Nettoyage et Normalisation de la colonne 'characters'**"
   ]
  },
  {
   "cell_type": "markdown",
   "metadata": {},
   "source": [
    "**Arbitrage** : Nous devons donc **exploser** la colonne 'characters'"
   ]
  },
  {
   "cell_type": "code",
   "execution_count": null,
   "metadata": {},
   "outputs": [],
   "source": [
    "import ast\n",
    "\n",
    "# Utilisation d'ast.literal_eval pour convertir les chaînes représentant des listes en objets réels\n",
    "df_title_principals['characters'] = df_title_principals['characters'].apply(\n",
    "    lambda x: ast.literal_eval(x) if pd.notna(x) else x\n",
    ")"
   ]
  },
  {
   "cell_type": "code",
   "execution_count": null,
   "metadata": {},
   "outputs": [],
   "source": [
    "# explode de la colonne 'characters'\n",
    "df_exploded = df_title_principals.explode('characters', ignore_index=True)\n",
    "\n",
    "# Vérification après explosion :\n",
    "print(df_exploded.sample(10))\n",
    "\n",
    "# Comparatif Avant / Après explosion du nombre de lignes :\n",
    "print(f\"Nombre de lignes avant explosion : {len(df_title_principals)}\")\n",
    "print(f\"Nombre de lignes après explosion : {len(df_exploded)}\")"
   ]
  },
  {
   "cell_type": "code",
   "execution_count": null,
   "metadata": {},
   "outputs": [],
   "source": [
    "# Uniformisation des valeurs \"Self - etc.\" en \"Self'\n",
    "df_exploded['characters'] = df_exploded['characters'].str.replace(r'Self.*', 'Self', regex=True)"
   ]
  },
  {
   "cell_type": "code",
   "execution_count": null,
   "metadata": {},
   "outputs": [],
   "source": [
    "# export de 'title.principals_final.tsv' :\n",
    "df_exploded.to_csv('../gitignore/title.principals_final.tsv', sep='\\t', index=False)"
   ]
  },
  {
   "cell_type": "markdown",
   "metadata": {},
   "source": [
    "### Recommandations pour l’intégration :\n",
    "\n",
    "1. Joindre avec `name.basics` via `nconst` pour enrichir les données avec les noms et professions principales.\n",
    "2. Joindre avec `title.basics` via `tconst` pour associer les informations sur les titres (genre, année, etc.)."
   ]
  }
 ],
 "metadata": {
  "kernelspec": {
   "display_name": "base",
   "language": "python",
   "name": "python3"
  },
  "language_info": {
   "codemirror_mode": {
    "name": "ipython",
    "version": 3
   },
   "file_extension": ".py",
   "mimetype": "text/x-python",
   "name": "python",
   "nbconvert_exporter": "python",
   "pygments_lexer": "ipython3",
   "version": "3.12.4"
  }
 },
 "nbformat": 4,
 "nbformat_minor": 2
}
