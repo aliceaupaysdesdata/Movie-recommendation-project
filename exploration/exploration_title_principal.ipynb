{
 "cells": [
  {
   "cell_type": "markdown",
   "metadata": {},
   "source": [
    "# Exploration et Nettoyage de la Table `title.principals`"
   ]
  },
  {
   "cell_type": "markdown",
   "metadata": {},
   "source": [
    "## Analyse globale de la table"
   ]
  },
  {
   "cell_type": "code",
   "execution_count": 1,
   "metadata": {},
   "outputs": [],
   "source": [
    "import matplotlib.pyplot as plt\n",
    "import seaborn as sns\n",
    "import pandas as pd"
   ]
  },
  {
   "cell_type": "code",
   "execution_count": 2,
   "metadata": {},
   "outputs": [],
   "source": [
    "# Importation du DataSet :\n",
    "df_title_principals = pd.read_csv('../gitignore/title.principals.tsv', sep= '\\t')"
   ]
  },
  {
   "cell_type": "code",
   "execution_count": 3,
   "metadata": {},
   "outputs": [
    {
     "name": "stdout",
     "output_type": "stream",
     "text": [
      "<class 'pandas.core.frame.DataFrame'>\n",
      "RangeIndex: 89216353 entries, 0 to 89216352\n",
      "Data columns (total 6 columns):\n",
      " #   Column      Dtype \n",
      "---  ------      ----- \n",
      " 0   tconst      object\n",
      " 1   ordering    int64 \n",
      " 2   nconst      object\n",
      " 3   category    object\n",
      " 4   job         object\n",
      " 5   characters  object\n",
      "dtypes: int64(1), object(5)\n",
      "memory usage: 4.0+ GB\n"
     ]
    }
   ],
   "source": [
    "df_title_principals.info()"
   ]
  },
  {
   "cell_type": "code",
   "execution_count": 4,
   "metadata": {},
   "outputs": [
    {
     "data": {
      "text/html": [
       "<div>\n",
       "<style scoped>\n",
       "    .dataframe tbody tr th:only-of-type {\n",
       "        vertical-align: middle;\n",
       "    }\n",
       "\n",
       "    .dataframe tbody tr th {\n",
       "        vertical-align: top;\n",
       "    }\n",
       "\n",
       "    .dataframe thead th {\n",
       "        text-align: right;\n",
       "    }\n",
       "</style>\n",
       "<table border=\"1\" class=\"dataframe\">\n",
       "  <thead>\n",
       "    <tr style=\"text-align: right;\">\n",
       "      <th></th>\n",
       "      <th>ordering</th>\n",
       "    </tr>\n",
       "  </thead>\n",
       "  <tbody>\n",
       "    <tr>\n",
       "      <th>count</th>\n",
       "      <td>8.921635e+07</td>\n",
       "    </tr>\n",
       "    <tr>\n",
       "      <th>mean</th>\n",
       "      <td>7.005962e+00</td>\n",
       "    </tr>\n",
       "    <tr>\n",
       "      <th>std</th>\n",
       "      <td>5.152561e+00</td>\n",
       "    </tr>\n",
       "    <tr>\n",
       "      <th>min</th>\n",
       "      <td>1.000000e+00</td>\n",
       "    </tr>\n",
       "    <tr>\n",
       "      <th>25%</th>\n",
       "      <td>3.000000e+00</td>\n",
       "    </tr>\n",
       "    <tr>\n",
       "      <th>50%</th>\n",
       "      <td>6.000000e+00</td>\n",
       "    </tr>\n",
       "    <tr>\n",
       "      <th>75%</th>\n",
       "      <td>1.000000e+01</td>\n",
       "    </tr>\n",
       "    <tr>\n",
       "      <th>max</th>\n",
       "      <td>7.500000e+01</td>\n",
       "    </tr>\n",
       "  </tbody>\n",
       "</table>\n",
       "</div>"
      ],
      "text/plain": [
       "           ordering\n",
       "count  8.921635e+07\n",
       "mean   7.005962e+00\n",
       "std    5.152561e+00\n",
       "min    1.000000e+00\n",
       "25%    3.000000e+00\n",
       "50%    6.000000e+00\n",
       "75%    1.000000e+01\n",
       "max    7.500000e+01"
      ]
     },
     "execution_count": 4,
     "metadata": {},
     "output_type": "execute_result"
    }
   ],
   "source": [
    "df_title_principals.describe()"
   ]
  },
  {
   "cell_type": "code",
   "execution_count": 5,
   "metadata": {},
   "outputs": [
    {
     "data": {
      "text/html": [
       "<div>\n",
       "<style scoped>\n",
       "    .dataframe tbody tr th:only-of-type {\n",
       "        vertical-align: middle;\n",
       "    }\n",
       "\n",
       "    .dataframe tbody tr th {\n",
       "        vertical-align: top;\n",
       "    }\n",
       "\n",
       "    .dataframe thead th {\n",
       "        text-align: right;\n",
       "    }\n",
       "</style>\n",
       "<table border=\"1\" class=\"dataframe\">\n",
       "  <thead>\n",
       "    <tr style=\"text-align: right;\">\n",
       "      <th></th>\n",
       "      <th>tconst</th>\n",
       "      <th>ordering</th>\n",
       "      <th>nconst</th>\n",
       "      <th>category</th>\n",
       "      <th>job</th>\n",
       "      <th>characters</th>\n",
       "    </tr>\n",
       "  </thead>\n",
       "  <tbody>\n",
       "    <tr>\n",
       "      <th>0</th>\n",
       "      <td>tt0000001</td>\n",
       "      <td>1</td>\n",
       "      <td>nm1588970</td>\n",
       "      <td>self</td>\n",
       "      <td>\\N</td>\n",
       "      <td>[\"Self\"]</td>\n",
       "    </tr>\n",
       "    <tr>\n",
       "      <th>1</th>\n",
       "      <td>tt0000001</td>\n",
       "      <td>2</td>\n",
       "      <td>nm0005690</td>\n",
       "      <td>director</td>\n",
       "      <td>\\N</td>\n",
       "      <td>\\N</td>\n",
       "    </tr>\n",
       "    <tr>\n",
       "      <th>2</th>\n",
       "      <td>tt0000001</td>\n",
       "      <td>3</td>\n",
       "      <td>nm0005690</td>\n",
       "      <td>producer</td>\n",
       "      <td>producer</td>\n",
       "      <td>\\N</td>\n",
       "    </tr>\n",
       "  </tbody>\n",
       "</table>\n",
       "</div>"
      ],
      "text/plain": [
       "      tconst  ordering     nconst  category       job characters\n",
       "0  tt0000001         1  nm1588970      self        \\N   [\"Self\"]\n",
       "1  tt0000001         2  nm0005690  director        \\N         \\N\n",
       "2  tt0000001         3  nm0005690  producer  producer         \\N"
      ]
     },
     "execution_count": 5,
     "metadata": {},
     "output_type": "execute_result"
    }
   ],
   "source": [
    "df_title_principals.head(3)"
   ]
  },
  {
   "cell_type": "markdown",
   "metadata": {},
   "source": [
    "## Analyse exploratoire de la Table `title.principals`"
   ]
  },
  {
   "cell_type": "markdown",
   "metadata": {},
   "source": [
    "### Analyse exploratoire :\n",
    "#### Vérifications de base :\n",
    "- **Taille de la table** : **89 216 353** lignes  et **6** colonnes.\n",
    "\n",
    "- **Types de données** : Une colonne entière : **ordering (int64)**\n",
    ", Cinq colonnes objets : **tconst, nconst, category, job, characters**\n",
    "\n",
    "- **Valeurs manquantes (Valeur '\\N')** : Valeurs manquantes dans 'job' : **72515501 (81.28%)** / Valeurs manquantes dans 'characters' : **45987058 (51.55%)**\n",
    "  - ***Colonne 'job'*** : Avec 81% de données manquantes, pas utile pour toutes les analyses. voir pour statut **optionnel**\n",
    "  - ***Colonne 'Character'***: plus complète (>50% de valeurs renseignées). **Pertinente** pour l'analyse des personnages et rôles."
   ]
  },
  {
   "cell_type": "code",
   "execution_count": 6,
   "metadata": {},
   "outputs": [
    {
     "data": {
      "text/plain": [
       "tconst        object\n",
       "ordering       int64\n",
       "nconst        object\n",
       "category      object\n",
       "job           object\n",
       "characters    object\n",
       "dtype: object"
      ]
     },
     "execution_count": 6,
     "metadata": {},
     "output_type": "execute_result"
    }
   ],
   "source": [
    "# Taille de la Table\n",
    "df_title_principals.dtypes"
   ]
  },
  {
   "cell_type": "markdown",
   "metadata": {},
   "source": [
    "### Suppression de la colonne 'ordering' inutilisée"
   ]
  },
  {
   "cell_type": "code",
   "execution_count": 7,
   "metadata": {},
   "outputs": [],
   "source": [
    "# Suppression de la colonne 'ordering' :\n",
    "df_title_principals = df_title_principals.drop(columns = 'ordering')"
   ]
  },
  {
   "cell_type": "markdown",
   "metadata": {},
   "source": [
    "### Normalisation des valeurs manquantes '/N' dans 'job' et 'characters'\n",
    "\n",
    "- **Remplacement des valeurs '\\N'** dans `job` et `characters` par des valeurs nulles ou une chaîne vide pour faciliter l’analyse."
   ]
  },
  {
   "cell_type": "code",
   "execution_count": 8,
   "metadata": {},
   "outputs": [
    {
     "name": "stdout",
     "output_type": "stream",
     "text": [
      "Valeurs manquantes dans 'job' : 72515501 (81.28%)\n",
      "Valeurs manquantes dans 'characters' : 45987058 (51.55%)\n"
     ]
    }
   ],
   "source": [
    "# Valeurs manquantes : Analyse des colonnes 'jobs' et 'characters' (qui contiennent des valeurs '\\N')\n",
    "manquant_job = (df_title_principals['job'] == '\\\\N').sum()\n",
    "manquant_character = (df_title_principals['characters'] == '\\\\N').sum()\n",
    "\n",
    "# Proportions de valeurs manquantes\n",
    "total_lignes = len(df_title_principals)\n",
    "pourcentage_manquant_job = (manquant_job / total_lignes) * 100\n",
    "pourcentage_manquant_character = (manquant_character / total_lignes) * 100\n",
    "\n",
    "print(f\"Valeurs manquantes dans 'job' : {manquant_job} ({pourcentage_manquant_job:.2f}%)\")\n",
    "print(f\"Valeurs manquantes dans 'characters' : {manquant_character} ({pourcentage_manquant_character:.2f}%)\")"
   ]
  },
  {
   "cell_type": "code",
   "execution_count": 9,
   "metadata": {},
   "outputs": [],
   "source": [
    "# Remplacement des valeurs manquantes > colonne 'job' :\n",
    "df_title_principals['job'] = df_title_principals['job'].replace('\\\\N', pd.NA)"
   ]
  },
  {
   "cell_type": "code",
   "execution_count": 10,
   "metadata": {},
   "outputs": [],
   "source": [
    "# Remplacement des valeurs manquantes > colonne 'characters' :\n",
    "df_title_principals['characters'] = df_title_principals['characters'].replace('\\\\N', pd.NA)"
   ]
  },
  {
   "cell_type": "code",
   "execution_count": 11,
   "metadata": {},
   "outputs": [
    {
     "data": {
      "text/html": [
       "<div>\n",
       "<style scoped>\n",
       "    .dataframe tbody tr th:only-of-type {\n",
       "        vertical-align: middle;\n",
       "    }\n",
       "\n",
       "    .dataframe tbody tr th {\n",
       "        vertical-align: top;\n",
       "    }\n",
       "\n",
       "    .dataframe thead th {\n",
       "        text-align: right;\n",
       "    }\n",
       "</style>\n",
       "<table border=\"1\" class=\"dataframe\">\n",
       "  <thead>\n",
       "    <tr style=\"text-align: right;\">\n",
       "      <th></th>\n",
       "      <th>tconst</th>\n",
       "      <th>nconst</th>\n",
       "      <th>category</th>\n",
       "      <th>job</th>\n",
       "      <th>characters</th>\n",
       "    </tr>\n",
       "  </thead>\n",
       "  <tbody>\n",
       "    <tr>\n",
       "      <th>0</th>\n",
       "      <td>tt0000001</td>\n",
       "      <td>nm1588970</td>\n",
       "      <td>self</td>\n",
       "      <td>&lt;NA&gt;</td>\n",
       "      <td>[\"Self\"]</td>\n",
       "    </tr>\n",
       "    <tr>\n",
       "      <th>1</th>\n",
       "      <td>tt0000001</td>\n",
       "      <td>nm0005690</td>\n",
       "      <td>director</td>\n",
       "      <td>&lt;NA&gt;</td>\n",
       "      <td>&lt;NA&gt;</td>\n",
       "    </tr>\n",
       "    <tr>\n",
       "      <th>2</th>\n",
       "      <td>tt0000001</td>\n",
       "      <td>nm0005690</td>\n",
       "      <td>producer</td>\n",
       "      <td>producer</td>\n",
       "      <td>&lt;NA&gt;</td>\n",
       "    </tr>\n",
       "    <tr>\n",
       "      <th>3</th>\n",
       "      <td>tt0000001</td>\n",
       "      <td>nm0374658</td>\n",
       "      <td>cinematographer</td>\n",
       "      <td>director of photography</td>\n",
       "      <td>&lt;NA&gt;</td>\n",
       "    </tr>\n",
       "    <tr>\n",
       "      <th>4</th>\n",
       "      <td>tt0000002</td>\n",
       "      <td>nm0721526</td>\n",
       "      <td>director</td>\n",
       "      <td>&lt;NA&gt;</td>\n",
       "      <td>&lt;NA&gt;</td>\n",
       "    </tr>\n",
       "  </tbody>\n",
       "</table>\n",
       "</div>"
      ],
      "text/plain": [
       "      tconst     nconst         category                      job characters\n",
       "0  tt0000001  nm1588970             self                     <NA>   [\"Self\"]\n",
       "1  tt0000001  nm0005690         director                     <NA>       <NA>\n",
       "2  tt0000001  nm0005690         producer                 producer       <NA>\n",
       "3  tt0000001  nm0374658  cinematographer  director of photography       <NA>\n",
       "4  tt0000002  nm0721526         director                     <NA>       <NA>"
      ]
     },
     "execution_count": 11,
     "metadata": {},
     "output_type": "execute_result"
    }
   ],
   "source": [
    "df_title_principals.head()"
   ]
  },
  {
   "cell_type": "markdown",
   "metadata": {},
   "source": [
    "#### Statistiques descriptives :\n",
    "- **Distribution des catégories (`category`)** : Identification des rôles les plus fréquents (acteur, réalisateur, etc.).\n",
    "\n",
    "     - **Actor et Actress** : Utilisables pour identifier les acteurs / actrices = **essentielles pour le moteur de recherche**\n",
    "     - **Director** : Permet aux utilisateurs de rechercher des films en fonction du réalisateur = **essentiel pour le moteur de recherche**\n",
    "     - **Self** : correspond aux personnes apparaissant en tant qu'elles-mêmes, souvent dans les documentaires = **utile pour le moteur de recherche**\n",
    "     - **writer** : scénariste = **utile pour les infos films**\n",
    "     - **director** : Réalisateur = **utile pour les infos films**\n",
    "     - **Producer** : Producteur = **utile pour les infos films**\n",
    "\n",
    "- **Analyse des personnages (`characters`)** : Extraction des personnages les plus populaires ou récurrents.\n",
    "\n",
    "- **Vérification de la diversité des postes (`job`)** : Analyse textuelle pour regrouper les titres similaires."
   ]
  },
  {
   "cell_type": "markdown",
   "metadata": {},
   "source": [
    "### Synthèse de l'analyse de la table `title.principals` :\n",
    "\n",
    "La table `title.principals` sert de lien entre les films (via `tconst`) et les personnes (via `nconst`) qui ont participé à leur production ou à leur distribution. Elle permet d'explorer les catégories de travail (acteurs, réalisateurs, producteurs, etc.) et les rôles spécifiques joués par chaque personne.\n",
    "\n",
    "| **Colonne**   | **Type**   | **Description**                                                             | **Conservation** |\n",
    "|---------------|------------|-----------------------------------------------------------------------------|------------------|\n",
    "| `tconst`      | string     | Identifiant unique alphanumérique du titre (film ou série).                 | Oui              |\n",
    "| `ordering`    | integer    | Numéro unique pour différencier les lignes pour un titre donné.             | Non              |\n",
    "| `nconst`      | string     | Identifiant unique alphanumérique de la personne.                          | Oui              |\n",
    "| `category`    | string     | Catégorie de travail de la personne pour le titre (acteur, réalisateur…).  | Oui              |\n",
    "| `job`         | string     | Titre précis du poste occupé si renseigné (sinon '\\N').                   | Oui              |\n",
    "| `characters`  | string     | Nom du personnage joué si renseigné (sinon '\\N').                         | Oui              |\n",
    "\n",
    "---\n",
    "\n",
    "### Utilisation prévue :\n",
    "Cette table est essentielle pour :\n",
    "- Identifier les contributions des individus dans des projets spécifiques.\n",
    "- Étudier les relations entre titres, professions, et personnages.\n",
    "- Créer des rapports sur les acteurs les plus populaires ou les réalisateurs les plus prolifiques.\n",
    "\n",
    "---\n",
    "\n",
    "### Résumé des transformations et choix de colonnes :\n",
    "#### Colonnes conservées :\n",
    "- `tconst` : Nécessaire pour le lien avec d'autres tables liées aux films.\n",
    "- `nconst` : Permet d’identifier les personnes dans la base de données.\n",
    "- `category` : Crucial pour connaître le rôle professionnel de chaque personne.\n",
    "- `job` : Fournit un niveau de détail supplémentaire sur le poste occupé.\n",
    "- `characters` : Important pour des analyses sur les rôles joués par les acteurs.\n",
    "\n",
    "#### Colonnes non conservées :\n",
    "- `ordering` : Redondant pour cette analyse et peu utile en pratique.\n",
    "\n",
    "---"
   ]
  },
  {
   "cell_type": "markdown",
   "metadata": {},
   "source": [
    "## Nettoyage de la Table `title.principals`"
   ]
  },
  {
   "cell_type": "markdown",
   "metadata": {},
   "source": [
    "### Colonne des catégories (`category`)"
   ]
  },
  {
   "cell_type": "code",
   "execution_count": 12,
   "metadata": {},
   "outputs": [
    {
     "name": "stdout",
     "output_type": "stream",
     "text": [
      "category\n",
      "actor                  21335705\n",
      "actress                15996680\n",
      "self                   12816065\n",
      "writer                 10738282\n",
      "director                7697978\n",
      "producer                6743121\n",
      "editor                  4708732\n",
      "cinematographer         3594914\n",
      "composer                2910416\n",
      "production_designer     1078929\n",
      "casting_director        1049804\n",
      "archive_footage          536848\n",
      "archive_sound              8879\n",
      "Name: count, dtype: int64\n"
     ]
    }
   ],
   "source": [
    "# Distribution des Catégories\n",
    "distribution_categories = df_title_principals['category'].value_counts()\n",
    "print(distribution_categories)"
   ]
  },
  {
   "cell_type": "markdown",
   "metadata": {},
   "source": [
    "**Arbitrage** Pour alléger la base de données : Nous conservons 'actor', 'actress', 'self', 'writer', director' et supprimons les autres catégories."
   ]
  },
  {
   "cell_type": "code",
   "execution_count": 13,
   "metadata": {},
   "outputs": [],
   "source": [
    "# Suppression des valeurs inutilisées dans 'category'\n",
    "categories_a_supprimer = ['editor', 'cinematographer', 'composer', 'production_designer', 'casting_director', 'archive_footage', 'archive_sound']\n",
    "df_title_principals = df_title_principals[~df_title_principals['category'].isin(categories_a_supprimer)]"
   ]
  },
  {
   "cell_type": "code",
   "execution_count": 14,
   "metadata": {},
   "outputs": [
    {
     "data": {
      "image/png": "[encoded data removed]",
      "text/plain": [
       "<Figure size 1000x600 with 1 Axes>"
      ]
     },
     "metadata": {},
     "output_type": "display_data"
    }
   ],
   "source": [
    "# Visualisation de la distribution des Catégories\n",
    "plt.figure(figsize=(10, 6))\n",
    "sns.countplot(data=df_title_principals, x='category', order=df_title_principals['category'].value_counts().index)\n",
    "plt.xticks(rotation=90)\n",
    "plt.title('Distribution des Catégories (Rôles) dans title.principals')\n",
    "plt.xlabel('Catégorie')\n",
    "plt.ylabel('Fréquence')\n",
    "plt.show()"
   ]
  },
  {
   "cell_type": "code",
   "execution_count": 15,
   "metadata": {},
   "outputs": [
    {
     "data": {
      "text/plain": [
       "category\n",
       "actor       21335705\n",
       "actress     15996680\n",
       "self        12816065\n",
       "writer      10738282\n",
       "director     7697978\n",
       "producer     6743121\n",
       "Name: count, dtype: int64"
      ]
     },
     "execution_count": 15,
     "metadata": {},
     "output_type": "execute_result"
    }
   ],
   "source": [
    "df_title_principals['category'].value_counts()"
   ]
  },
  {
   "cell_type": "code",
   "execution_count": 16,
   "metadata": {},
   "outputs": [
    {
     "data": {
      "image/png": "[encoded data removed]",
      "text/plain": [
       "<Figure size 1000x600 with 1 Axes>"
      ]
     },
     "metadata": {},
     "output_type": "display_data"
    }
   ],
   "source": [
    "# Visualisation de la distribution des Catégories\n",
    "plt.figure(figsize=(10, 6))\n",
    "sns.countplot(data=df_title_principals, x='category', order=df_title_principals['category'].value_counts().index)\n",
    "plt.xticks(rotation=90)\n",
    "plt.title('Distribution des Catégories (Rôles) dans title.principals')\n",
    "plt.xlabel('Catégorie')\n",
    "plt.ylabel('Fréquence')\n",
    "plt.show()"
   ]
  },
  {
   "cell_type": "code",
   "execution_count": 17,
   "metadata": {},
   "outputs": [],
   "source": [
    "df_title_principals = df_title_principals.reset_index(drop=True)"
   ]
  },
  {
   "cell_type": "code",
   "execution_count": 18,
   "metadata": {},
   "outputs": [
    {
     "data": {
      "text/plain": [
       "category\n",
       "actor       21335705\n",
       "actress     15996680\n",
       "self        12816065\n",
       "writer      10738282\n",
       "director     7697978\n",
       "producer     6743121\n",
       "Name: count, dtype: int64"
      ]
     },
     "execution_count": 18,
     "metadata": {},
     "output_type": "execute_result"
    }
   ],
   "source": [
    "df_title_principals['category'].value_counts()"
   ]
  },
  {
   "cell_type": "markdown",
   "metadata": {},
   "source": [
    "- Création d'un dataframe avec uniquement Acteurs / Actrices / Self"
   ]
  },
  {
   "cell_type": "code",
   "execution_count": 19,
   "metadata": {},
   "outputs": [],
   "source": [
    "# Filtrer les lignes où 'category' est 'actor', 'actress' ou 'self'\n",
    "df_acteurs = df_title_principals[df_title_principals['category'].isin(['actor', 'actress', 'self'])]"
   ]
  },
  {
   "cell_type": "code",
   "execution_count": 20,
   "metadata": {},
   "outputs": [
    {
     "name": "stderr",
     "output_type": "stream",
     "text": [
      "C:\\Users\\jpvt\\AppData\\Local\\Temp\\ipykernel_16240\\3237406497.py:3: SettingWithCopyWarning: \n",
      "A value is trying to be set on a copy of a slice from a DataFrame.\n",
      "Try using .loc[row_indexer,col_indexer] = value instead\n",
      "\n",
      "See the caveats in the documentation: https://pandas.pydata.org/pandas-docs/stable/user_guide/indexing.html#returning-a-view-versus-a-copy\n",
      "  df_acteurs['characters'] = df_acteurs['characters'].str.replace(r'[\\[\\]\"]', '', regex=True)\n"
     ]
    },
    {
     "data": {
      "text/html": [
       "<div>\n",
       "<style scoped>\n",
       "    .dataframe tbody tr th:only-of-type {\n",
       "        vertical-align: middle;\n",
       "    }\n",
       "\n",
       "    .dataframe tbody tr th {\n",
       "        vertical-align: top;\n",
       "    }\n",
       "\n",
       "    .dataframe thead th {\n",
       "        text-align: right;\n",
       "    }\n",
       "</style>\n",
       "<table border=\"1\" class=\"dataframe\">\n",
       "  <thead>\n",
       "    <tr style=\"text-align: right;\">\n",
       "      <th></th>\n",
       "      <th>tconst</th>\n",
       "      <th>nconst</th>\n",
       "      <th>category</th>\n",
       "      <th>job</th>\n",
       "      <th>characters</th>\n",
       "    </tr>\n",
       "  </thead>\n",
       "  <tbody>\n",
       "    <tr>\n",
       "      <th>26715570</th>\n",
       "      <td>tt1486649</td>\n",
       "      <td>nm3560379</td>\n",
       "      <td>actress</td>\n",
       "      <td>&lt;NA&gt;</td>\n",
       "      <td>Barbara</td>\n",
       "    </tr>\n",
       "    <tr>\n",
       "      <th>49739327</th>\n",
       "      <td>tt30474198</td>\n",
       "      <td>nm15609490</td>\n",
       "      <td>actress</td>\n",
       "      <td>&lt;NA&gt;</td>\n",
       "      <td>&lt;NA&gt;</td>\n",
       "    </tr>\n",
       "    <tr>\n",
       "      <th>14573868</th>\n",
       "      <td>tt11257350</td>\n",
       "      <td>nm4250596</td>\n",
       "      <td>actress</td>\n",
       "      <td>&lt;NA&gt;</td>\n",
       "      <td>Mehtap</td>\n",
       "    </tr>\n",
       "    <tr>\n",
       "      <th>54060294</th>\n",
       "      <td>tt33372021</td>\n",
       "      <td>nm15528898</td>\n",
       "      <td>actor</td>\n",
       "      <td>&lt;NA&gt;</td>\n",
       "      <td>Shruthi</td>\n",
       "    </tr>\n",
       "    <tr>\n",
       "      <th>55228983</th>\n",
       "      <td>tt34557855</td>\n",
       "      <td>nm4970831</td>\n",
       "      <td>actress</td>\n",
       "      <td>&lt;NA&gt;</td>\n",
       "      <td>&lt;NA&gt;</td>\n",
       "    </tr>\n",
       "    <tr>\n",
       "      <th>66941268</th>\n",
       "      <td>tt7443728</td>\n",
       "      <td>nm1214700</td>\n",
       "      <td>actress</td>\n",
       "      <td>&lt;NA&gt;</td>\n",
       "      <td>Marina Hernández</td>\n",
       "    </tr>\n",
       "    <tr>\n",
       "      <th>46659278</th>\n",
       "      <td>tt28479891</td>\n",
       "      <td>nm0729592</td>\n",
       "      <td>actor</td>\n",
       "      <td>&lt;NA&gt;</td>\n",
       "      <td>&lt;NA&gt;</td>\n",
       "    </tr>\n",
       "    <tr>\n",
       "      <th>67635553</th>\n",
       "      <td>tt7674628</td>\n",
       "      <td>nm1958346</td>\n",
       "      <td>actor</td>\n",
       "      <td>&lt;NA&gt;</td>\n",
       "      <td>Aleksei</td>\n",
       "    </tr>\n",
       "    <tr>\n",
       "      <th>37871124</th>\n",
       "      <td>tt21409976</td>\n",
       "      <td>nm6550878</td>\n",
       "      <td>self</td>\n",
       "      <td>&lt;NA&gt;</td>\n",
       "      <td>Self</td>\n",
       "    </tr>\n",
       "    <tr>\n",
       "      <th>14589720</th>\n",
       "      <td>tt11261080</td>\n",
       "      <td>nm11121521</td>\n",
       "      <td>actress</td>\n",
       "      <td>&lt;NA&gt;</td>\n",
       "      <td>Mother</td>\n",
       "    </tr>\n",
       "  </tbody>\n",
       "</table>\n",
       "</div>"
      ],
      "text/plain": [
       "              tconst      nconst category   job        characters\n",
       "26715570   tt1486649   nm3560379  actress  <NA>           Barbara\n",
       "49739327  tt30474198  nm15609490  actress  <NA>              <NA>\n",
       "14573868  tt11257350   nm4250596  actress  <NA>            Mehtap\n",
       "54060294  tt33372021  nm15528898    actor  <NA>           Shruthi\n",
       "55228983  tt34557855   nm4970831  actress  <NA>              <NA>\n",
       "66941268   tt7443728   nm1214700  actress  <NA>  Marina Hernández\n",
       "46659278  tt28479891   nm0729592    actor  <NA>              <NA>\n",
       "67635553   tt7674628   nm1958346    actor  <NA>           Aleksei\n",
       "37871124  tt21409976   nm6550878     self  <NA>              Self\n",
       "14589720  tt11261080  nm11121521  actress  <NA>            Mother"
      ]
     },
     "execution_count": 20,
     "metadata": {},
     "output_type": "execute_result"
    }
   ],
   "source": [
    "# Normaliser l'affichage de la colonne 'characters'\n",
    "# Supprimer les crochets et les guillemets de la colonne\n",
    "df_acteurs['characters'] = df_acteurs['characters'].str.replace(r'[\\[\\]\"]', '', regex=True)\n",
    "df_acteurs.sample(10)"
   ]
  },
  {
   "cell_type": "code",
   "execution_count": 21,
   "metadata": {},
   "outputs": [],
   "source": [
    "df_acteurs = df_acteurs.reset_index(drop=True)"
   ]
  },
  {
   "cell_type": "code",
   "execution_count": 22,
   "metadata": {},
   "outputs": [
    {
     "data": {
      "text/html": [
       "<div>\n",
       "<style scoped>\n",
       "    .dataframe tbody tr th:only-of-type {\n",
       "        vertical-align: middle;\n",
       "    }\n",
       "\n",
       "    .dataframe tbody tr th {\n",
       "        vertical-align: top;\n",
       "    }\n",
       "\n",
       "    .dataframe thead th {\n",
       "        text-align: right;\n",
       "    }\n",
       "</style>\n",
       "<table border=\"1\" class=\"dataframe\">\n",
       "  <thead>\n",
       "    <tr style=\"text-align: right;\">\n",
       "      <th></th>\n",
       "      <th>tconst</th>\n",
       "      <th>nconst</th>\n",
       "      <th>category</th>\n",
       "      <th>job</th>\n",
       "      <th>characters</th>\n",
       "    </tr>\n",
       "  </thead>\n",
       "  <tbody>\n",
       "    <tr>\n",
       "      <th>30223079</th>\n",
       "      <td>tt28021026</td>\n",
       "      <td>nm5156947</td>\n",
       "      <td>actress</td>\n",
       "      <td>&lt;NA&gt;</td>\n",
       "      <td>&lt;NA&gt;</td>\n",
       "    </tr>\n",
       "    <tr>\n",
       "      <th>37130400</th>\n",
       "      <td>tt3543504</td>\n",
       "      <td>nm6299232</td>\n",
       "      <td>actor</td>\n",
       "      <td>&lt;NA&gt;</td>\n",
       "      <td>&lt;NA&gt;</td>\n",
       "    </tr>\n",
       "    <tr>\n",
       "      <th>3758339</th>\n",
       "      <td>tt0575703</td>\n",
       "      <td>nm0358460</td>\n",
       "      <td>actor</td>\n",
       "      <td>&lt;NA&gt;</td>\n",
       "      <td>Dad</td>\n",
       "    </tr>\n",
       "    <tr>\n",
       "      <th>34029175</th>\n",
       "      <td>tt3165012</td>\n",
       "      <td>nm0625529</td>\n",
       "      <td>actress</td>\n",
       "      <td>&lt;NA&gt;</td>\n",
       "      <td>Karen Vick</td>\n",
       "    </tr>\n",
       "    <tr>\n",
       "      <th>32867786</th>\n",
       "      <td>tt3037206</td>\n",
       "      <td>nm2408329</td>\n",
       "      <td>self</td>\n",
       "      <td>&lt;NA&gt;</td>\n",
       "      <td>Self</td>\n",
       "    </tr>\n",
       "    <tr>\n",
       "      <th>923658</th>\n",
       "      <td>tt0110075</td>\n",
       "      <td>nm0503292</td>\n",
       "      <td>actor</td>\n",
       "      <td>&lt;NA&gt;</td>\n",
       "      <td>Ruudi</td>\n",
       "    </tr>\n",
       "    <tr>\n",
       "      <th>41161401</th>\n",
       "      <td>tt5657754</td>\n",
       "      <td>nm0137390</td>\n",
       "      <td>actor</td>\n",
       "      <td>&lt;NA&gt;</td>\n",
       "      <td>Narrator</td>\n",
       "    </tr>\n",
       "    <tr>\n",
       "      <th>37841202</th>\n",
       "      <td>tt3905330</td>\n",
       "      <td>nm1846933</td>\n",
       "      <td>actress</td>\n",
       "      <td>&lt;NA&gt;</td>\n",
       "      <td>&lt;NA&gt;</td>\n",
       "    </tr>\n",
       "    <tr>\n",
       "      <th>47329399</th>\n",
       "      <td>tt8603930</td>\n",
       "      <td>nm0157385</td>\n",
       "      <td>actress</td>\n",
       "      <td>&lt;NA&gt;</td>\n",
       "      <td>Nobita's Mom (1979-2005)</td>\n",
       "    </tr>\n",
       "    <tr>\n",
       "      <th>35085888</th>\n",
       "      <td>tt32543902</td>\n",
       "      <td>nm14474015</td>\n",
       "      <td>actor</td>\n",
       "      <td>&lt;NA&gt;</td>\n",
       "      <td>&lt;NA&gt;</td>\n",
       "    </tr>\n",
       "  </tbody>\n",
       "</table>\n",
       "</div>"
      ],
      "text/plain": [
       "              tconst      nconst category   job                characters\n",
       "30223079  tt28021026   nm5156947  actress  <NA>                      <NA>\n",
       "37130400   tt3543504   nm6299232    actor  <NA>                      <NA>\n",
       "3758339    tt0575703   nm0358460    actor  <NA>                       Dad\n",
       "34029175   tt3165012   nm0625529  actress  <NA>                Karen Vick\n",
       "32867786   tt3037206   nm2408329     self  <NA>                      Self\n",
       "923658     tt0110075   nm0503292    actor  <NA>                     Ruudi\n",
       "41161401   tt5657754   nm0137390    actor  <NA>                  Narrator\n",
       "37841202   tt3905330   nm1846933  actress  <NA>                      <NA>\n",
       "47329399   tt8603930   nm0157385  actress  <NA>  Nobita's Mom (1979-2005)\n",
       "35085888  tt32543902  nm14474015    actor  <NA>                      <NA>"
      ]
     },
     "execution_count": 22,
     "metadata": {},
     "output_type": "execute_result"
    }
   ],
   "source": [
    "df_acteurs.sample(10)"
   ]
  },
  {
   "cell_type": "code",
   "execution_count": 23,
   "metadata": {},
   "outputs": [
    {
     "data": {
      "text/html": [
       "<div>\n",
       "<style scoped>\n",
       "    .dataframe tbody tr th:only-of-type {\n",
       "        vertical-align: middle;\n",
       "    }\n",
       "\n",
       "    .dataframe tbody tr th {\n",
       "        vertical-align: top;\n",
       "    }\n",
       "\n",
       "    .dataframe thead th {\n",
       "        text-align: right;\n",
       "    }\n",
       "</style>\n",
       "<table border=\"1\" class=\"dataframe\">\n",
       "  <thead>\n",
       "    <tr style=\"text-align: right;\">\n",
       "      <th></th>\n",
       "      <th>tconst</th>\n",
       "      <th>nconst</th>\n",
       "      <th>category</th>\n",
       "      <th>job</th>\n",
       "      <th>characters</th>\n",
       "    </tr>\n",
       "  </thead>\n",
       "  <tbody>\n",
       "    <tr>\n",
       "      <th>1</th>\n",
       "      <td>tt0000005</td>\n",
       "      <td>nm0443482</td>\n",
       "      <td>actor</td>\n",
       "      <td>&lt;NA&gt;</td>\n",
       "      <td>Blacksmith</td>\n",
       "    </tr>\n",
       "    <tr>\n",
       "      <th>2</th>\n",
       "      <td>tt0000005</td>\n",
       "      <td>nm0653042</td>\n",
       "      <td>actor</td>\n",
       "      <td>&lt;NA&gt;</td>\n",
       "      <td>Assistant</td>\n",
       "    </tr>\n",
       "    <tr>\n",
       "      <th>3</th>\n",
       "      <td>tt0000007</td>\n",
       "      <td>nm0179163</td>\n",
       "      <td>actor</td>\n",
       "      <td>&lt;NA&gt;</td>\n",
       "      <td>&lt;NA&gt;</td>\n",
       "    </tr>\n",
       "    <tr>\n",
       "      <th>4</th>\n",
       "      <td>tt0000007</td>\n",
       "      <td>nm0183947</td>\n",
       "      <td>actor</td>\n",
       "      <td>&lt;NA&gt;</td>\n",
       "      <td>&lt;NA&gt;</td>\n",
       "    </tr>\n",
       "    <tr>\n",
       "      <th>6</th>\n",
       "      <td>tt0000009</td>\n",
       "      <td>nm0063086</td>\n",
       "      <td>actress</td>\n",
       "      <td>&lt;NA&gt;</td>\n",
       "      <td>Miss Geraldine Holbrook (Miss Jerry)</td>\n",
       "    </tr>\n",
       "    <tr>\n",
       "      <th>...</th>\n",
       "      <td>...</td>\n",
       "      <td>...</td>\n",
       "      <td>...</td>\n",
       "      <td>...</td>\n",
       "      <td>...</td>\n",
       "    </tr>\n",
       "    <tr>\n",
       "      <th>50148445</th>\n",
       "      <td>tt9916880</td>\n",
       "      <td>nm2676923</td>\n",
       "      <td>actress</td>\n",
       "      <td>&lt;NA&gt;</td>\n",
       "      <td>Sour Susan</td>\n",
       "    </tr>\n",
       "    <tr>\n",
       "      <th>50148446</th>\n",
       "      <td>tt9916880</td>\n",
       "      <td>nm2676923</td>\n",
       "      <td>actress</td>\n",
       "      <td>&lt;NA&gt;</td>\n",
       "      <td>Goody-Goody Gordon</td>\n",
       "    </tr>\n",
       "    <tr>\n",
       "      <th>50148447</th>\n",
       "      <td>tt9916880</td>\n",
       "      <td>nm2676923</td>\n",
       "      <td>actress</td>\n",
       "      <td>&lt;NA&gt;</td>\n",
       "      <td>Singing Soraya</td>\n",
       "    </tr>\n",
       "    <tr>\n",
       "      <th>50148448</th>\n",
       "      <td>tt9916880</td>\n",
       "      <td>nm1469295</td>\n",
       "      <td>actress</td>\n",
       "      <td>&lt;NA&gt;</td>\n",
       "      <td>Perfect Peter</td>\n",
       "    </tr>\n",
       "    <tr>\n",
       "      <th>50148449</th>\n",
       "      <td>tt9916880</td>\n",
       "      <td>nm1469295</td>\n",
       "      <td>actress</td>\n",
       "      <td>&lt;NA&gt;</td>\n",
       "      <td>Lazy Linda</td>\n",
       "    </tr>\n",
       "  </tbody>\n",
       "</table>\n",
       "<p>48570800 rows × 5 columns</p>\n",
       "</div>"
      ],
      "text/plain": [
       "             tconst     nconst category   job  \\\n",
       "1         tt0000005  nm0443482    actor  <NA>   \n",
       "2         tt0000005  nm0653042    actor  <NA>   \n",
       "3         tt0000007  nm0179163    actor  <NA>   \n",
       "4         tt0000007  nm0183947    actor  <NA>   \n",
       "6         tt0000009  nm0063086  actress  <NA>   \n",
       "...             ...        ...      ...   ...   \n",
       "50148445  tt9916880  nm2676923  actress  <NA>   \n",
       "50148446  tt9916880  nm2676923  actress  <NA>   \n",
       "50148447  tt9916880  nm2676923  actress  <NA>   \n",
       "50148448  tt9916880  nm1469295  actress  <NA>   \n",
       "50148449  tt9916880  nm1469295  actress  <NA>   \n",
       "\n",
       "                                    characters  \n",
       "1                                   Blacksmith  \n",
       "2                                    Assistant  \n",
       "3                                         <NA>  \n",
       "4                                         <NA>  \n",
       "6         Miss Geraldine Holbrook (Miss Jerry)  \n",
       "...                                        ...  \n",
       "50148445                            Sour Susan  \n",
       "50148446                    Goody-Goody Gordon  \n",
       "50148447                        Singing Soraya  \n",
       "50148448                         Perfect Peter  \n",
       "50148449                            Lazy Linda  \n",
       "\n",
       "[48570800 rows x 5 columns]"
      ]
     },
     "execution_count": 23,
     "metadata": {},
     "output_type": "execute_result"
    }
   ],
   "source": [
    "df_acteurs[df_acteurs['tconst'].duplicated(keep=False)]"
   ]
  },
  {
   "cell_type": "code",
   "execution_count": 25,
   "metadata": {},
   "outputs": [],
   "source": [
    "df_acteurs = df_acteurs.drop(columns=['job'])"
   ]
  },
  {
   "cell_type": "code",
   "execution_count": 35,
   "metadata": {},
   "outputs": [
    {
     "data": {
      "text/html": [
       "<div>\n",
       "<style scoped>\n",
       "    .dataframe tbody tr th:only-of-type {\n",
       "        vertical-align: middle;\n",
       "    }\n",
       "\n",
       "    .dataframe tbody tr th {\n",
       "        vertical-align: top;\n",
       "    }\n",
       "\n",
       "    .dataframe thead th {\n",
       "        text-align: right;\n",
       "    }\n",
       "</style>\n",
       "<table border=\"1\" class=\"dataframe\">\n",
       "  <thead>\n",
       "    <tr style=\"text-align: right;\">\n",
       "      <th></th>\n",
       "      <th>tconst</th>\n",
       "      <th>nconst</th>\n",
       "      <th>category</th>\n",
       "      <th>rôle</th>\n",
       "    </tr>\n",
       "  </thead>\n",
       "  <tbody>\n",
       "    <tr>\n",
       "      <th>45881201</th>\n",
       "      <td>tt7938942</td>\n",
       "      <td>nm0142389</td>\n",
       "      <td>actress</td>\n",
       "      <td>Angela Falla</td>\n",
       "    </tr>\n",
       "    <tr>\n",
       "      <th>16822128</th>\n",
       "      <td>tt14401260</td>\n",
       "      <td>nm1422099</td>\n",
       "      <td>actress</td>\n",
       "      <td>&lt;NA&gt;</td>\n",
       "    </tr>\n",
       "    <tr>\n",
       "      <th>49922053</th>\n",
       "      <td>tt9802428</td>\n",
       "      <td>nm10069795</td>\n",
       "      <td>actor</td>\n",
       "      <td>Jack</td>\n",
       "    </tr>\n",
       "    <tr>\n",
       "      <th>26342291</th>\n",
       "      <td>tt22807840</td>\n",
       "      <td>nm2406271</td>\n",
       "      <td>soi-même</td>\n",
       "      <td>Self</td>\n",
       "    </tr>\n",
       "    <tr>\n",
       "      <th>20636055</th>\n",
       "      <td>tt16444882</td>\n",
       "      <td>nm0372718</td>\n",
       "      <td>soi-même</td>\n",
       "      <td>Self - Presenter</td>\n",
       "    </tr>\n",
       "    <tr>\n",
       "      <th>24178493</th>\n",
       "      <td>tt20765682</td>\n",
       "      <td>nm2178631</td>\n",
       "      <td>soi-même</td>\n",
       "      <td>Self</td>\n",
       "    </tr>\n",
       "    <tr>\n",
       "      <th>20826837</th>\n",
       "      <td>tt1663599</td>\n",
       "      <td>nm3926288</td>\n",
       "      <td>soi-même</td>\n",
       "      <td>Self</td>\n",
       "    </tr>\n",
       "    <tr>\n",
       "      <th>44887136</th>\n",
       "      <td>tt7444886</td>\n",
       "      <td>nm9319236</td>\n",
       "      <td>soi-même</td>\n",
       "      <td>Self</td>\n",
       "    </tr>\n",
       "    <tr>\n",
       "      <th>22714394</th>\n",
       "      <td>tt18933230</td>\n",
       "      <td>nm8258019</td>\n",
       "      <td>actor</td>\n",
       "      <td>Choi Woo Hyuk</td>\n",
       "    </tr>\n",
       "    <tr>\n",
       "      <th>38989410</th>\n",
       "      <td>tt4509208</td>\n",
       "      <td>nm4361152</td>\n",
       "      <td>actor</td>\n",
       "      <td>Quinn</td>\n",
       "    </tr>\n",
       "  </tbody>\n",
       "</table>\n",
       "</div>"
      ],
      "text/plain": [
       "              tconst      nconst  category              rôle\n",
       "45881201   tt7938942   nm0142389   actress      Angela Falla\n",
       "16822128  tt14401260   nm1422099   actress              <NA>\n",
       "49922053   tt9802428  nm10069795     actor              Jack\n",
       "26342291  tt22807840   nm2406271  soi-même              Self\n",
       "20636055  tt16444882   nm0372718  soi-même  Self - Presenter\n",
       "24178493  tt20765682   nm2178631  soi-même              Self\n",
       "20826837   tt1663599   nm3926288  soi-même              Self\n",
       "44887136   tt7444886   nm9319236  soi-même              Self\n",
       "22714394  tt18933230   nm8258019     actor     Choi Woo Hyuk\n",
       "38989410   tt4509208   nm4361152     actor             Quinn"
      ]
     },
     "execution_count": 35,
     "metadata": {},
     "output_type": "execute_result"
    }
   ],
   "source": [
    "df_acteurs.sample(10)"
   ]
  },
  {
   "cell_type": "code",
   "execution_count": null,
   "metadata": {},
   "outputs": [],
   "source": [
    "# Renommer la colonne Characters\n",
    "df_acteurs = df_acteurs.rename(columns={'characters': 'rôle'})"
   ]
  },
  {
   "cell_type": "code",
   "execution_count": null,
   "metadata": {},
   "outputs": [],
   "source": [
    "# Conserver 'Self' et enlever tout ce qui suit dans la colonne 'category'\n",
    "df_acteurs['rôle'] = df_acteurs['rôle'].replace(r'^Self.*', 'Self', regex=True)"
   ]
  },
  {
   "cell_type": "code",
   "execution_count": 38,
   "metadata": {},
   "outputs": [],
   "source": [
    "# Remplacer Self par Soi-même dans rôles\n",
    "df_acteurs['rôle'] = df_acteurs['rôle'].replace('Self', 'soi-même')"
   ]
  },
  {
   "cell_type": "code",
   "execution_count": 40,
   "metadata": {},
   "outputs": [
    {
     "data": {
      "text/html": [
       "<div>\n",
       "<style scoped>\n",
       "    .dataframe tbody tr th:only-of-type {\n",
       "        vertical-align: middle;\n",
       "    }\n",
       "\n",
       "    .dataframe tbody tr th {\n",
       "        vertical-align: top;\n",
       "    }\n",
       "\n",
       "    .dataframe thead th {\n",
       "        text-align: right;\n",
       "    }\n",
       "</style>\n",
       "<table border=\"1\" class=\"dataframe\">\n",
       "  <thead>\n",
       "    <tr style=\"text-align: right;\">\n",
       "      <th></th>\n",
       "      <th>tconst</th>\n",
       "      <th>nconst</th>\n",
       "      <th>category</th>\n",
       "      <th>rôle</th>\n",
       "    </tr>\n",
       "  </thead>\n",
       "  <tbody>\n",
       "    <tr>\n",
       "      <th>43323936</th>\n",
       "      <td>tt6699116</td>\n",
       "      <td>nm2291777</td>\n",
       "      <td>soi-même</td>\n",
       "      <td>soi-même</td>\n",
       "    </tr>\n",
       "    <tr>\n",
       "      <th>23117916</th>\n",
       "      <td>tt19414336</td>\n",
       "      <td>nm0103522</td>\n",
       "      <td>soi-même</td>\n",
       "      <td>soi-même</td>\n",
       "    </tr>\n",
       "    <tr>\n",
       "      <th>39040181</th>\n",
       "      <td>tt4535932</td>\n",
       "      <td>nm1801973</td>\n",
       "      <td>actress</td>\n",
       "      <td>Kinga Zukowska</td>\n",
       "    </tr>\n",
       "    <tr>\n",
       "      <th>48031155</th>\n",
       "      <td>tt8912794</td>\n",
       "      <td>nm1441419</td>\n",
       "      <td>actress</td>\n",
       "      <td>Marta Gutierrez</td>\n",
       "    </tr>\n",
       "    <tr>\n",
       "      <th>13251903</th>\n",
       "      <td>tt12673738</td>\n",
       "      <td>nm5246787</td>\n",
       "      <td>actor</td>\n",
       "      <td>&lt;NA&gt;</td>\n",
       "    </tr>\n",
       "    <tr>\n",
       "      <th>47310859</th>\n",
       "      <td>tt8596620</td>\n",
       "      <td>nm0291940</td>\n",
       "      <td>actress</td>\n",
       "      <td>Clarice Ribeiro</td>\n",
       "    </tr>\n",
       "    <tr>\n",
       "      <th>17798523</th>\n",
       "      <td>tt14840216</td>\n",
       "      <td>nm3045633</td>\n",
       "      <td>soi-même</td>\n",
       "      <td>soi-même</td>\n",
       "    </tr>\n",
       "    <tr>\n",
       "      <th>20578297</th>\n",
       "      <td>tt16416716</td>\n",
       "      <td>nm4159450</td>\n",
       "      <td>actor</td>\n",
       "      <td>Dad</td>\n",
       "    </tr>\n",
       "    <tr>\n",
       "      <th>3789910</th>\n",
       "      <td>tt0579404</td>\n",
       "      <td>nm0141581</td>\n",
       "      <td>actress</td>\n",
       "      <td>Carlotta Beck</td>\n",
       "    </tr>\n",
       "    <tr>\n",
       "      <th>23726440</th>\n",
       "      <td>tt20198262</td>\n",
       "      <td>nm7999005</td>\n",
       "      <td>actor</td>\n",
       "      <td>Anthony Zulueta</td>\n",
       "    </tr>\n",
       "  </tbody>\n",
       "</table>\n",
       "</div>"
      ],
      "text/plain": [
       "              tconst     nconst  category             rôle\n",
       "43323936   tt6699116  nm2291777  soi-même         soi-même\n",
       "23117916  tt19414336  nm0103522  soi-même         soi-même\n",
       "39040181   tt4535932  nm1801973   actress   Kinga Zukowska\n",
       "48031155   tt8912794  nm1441419   actress  Marta Gutierrez\n",
       "13251903  tt12673738  nm5246787     actor             <NA>\n",
       "47310859   tt8596620  nm0291940   actress  Clarice Ribeiro\n",
       "17798523  tt14840216  nm3045633  soi-même         soi-même\n",
       "20578297  tt16416716  nm4159450     actor              Dad\n",
       "3789910    tt0579404  nm0141581   actress    Carlotta Beck\n",
       "23726440  tt20198262  nm7999005     actor  Anthony Zulueta"
      ]
     },
     "execution_count": 40,
     "metadata": {},
     "output_type": "execute_result"
    }
   ],
   "source": [
    "df_acteurs.sample(10)"
   ]
  },
  {
   "cell_type": "markdown",
   "metadata": {},
   "source": [
    "#### Export de la table des acteurs"
   ]
  },
  {
   "cell_type": "markdown",
   "metadata": {},
   "source": [
    "# J'en suis là"
   ]
  },
  {
   "cell_type": "code",
   "execution_count": 41,
   "metadata": {},
   "outputs": [],
   "source": [
    "# Export Table Acteurs\n",
    "df_acteurs.to_csv('../gitignore/info_casting_acteurs.tsv', sep='\\t', index=False)"
   ]
  },
  {
   "cell_type": "code",
   "execution_count": 1,
   "metadata": {},
   "outputs": [],
   "source": [
    "import pandas as pd\n",
    "# Import Point d'Etape\n",
    "df_title_principals = pd.read_csv('../gitignore/title.principals.tsv', sep= '\\t')"
   ]
  },
  {
   "cell_type": "code",
   "execution_count": null,
   "metadata": {},
   "outputs": [],
   "source": []
  },
  {
   "cell_type": "markdown",
   "metadata": {},
   "source": [
    "**A FAIRE** : \n",
    "\n",
    "title.principals : UNIQUEMENT pour l’info\n",
    "on a déjà fait la sélection sur les acteurs, director, self, writers, producteurs → une seule ligne par films avec une colonne : \n",
    "- 1 colonne avec les acteurs, actrices, self, \n",
    "- 1 colonne directors, \n",
    "- 1 colonne writers,\n",
    "- 1 colonne producteurs,\n",
    "- editor, cinematographer, composer : viré."
   ]
  },
  {
   "cell_type": "markdown",
   "metadata": {},
   "source": [
    "### Colonne des personnages (`characters`)"
   ]
  },
  {
   "cell_type": "markdown",
   "metadata": {},
   "source": [
    "**Arbitrage** : Nous devons donc **exploser** la colonne 'characters'"
   ]
  },
  {
   "cell_type": "code",
   "execution_count": 17,
   "metadata": {},
   "outputs": [],
   "source": [
    "import ast\n",
    "\n",
    "# Utilisation d'ast.literal_eval pour convertir les chaînes représentant des listes en objets réels\n",
    "df_title_principals['characters'] = df_title_principals['characters'].apply(\n",
    "    lambda x: ast.literal_eval(x) if pd.notna(x) else x\n",
    ")"
   ]
  },
  {
   "cell_type": "code",
   "execution_count": 18,
   "metadata": {},
   "outputs": [
    {
     "ename": "MemoryError",
     "evalue": "Unable to allocate 575. MiB for an array with shape (1, 75327836) and data type object",
     "output_type": "error",
     "traceback": [
      "\u001b[1;31m---------------------------------------------------------------------------\u001b[0m",
      "\u001b[1;31mMemoryError\u001b[0m                               Traceback (most recent call last)",
      "Cell \u001b[1;32mIn[18], line 2\u001b[0m\n\u001b[0;32m      1\u001b[0m \u001b[38;5;66;03m# explode de la colonne 'characters'\u001b[39;00m\n\u001b[1;32m----> 2\u001b[0m df_exploded \u001b[38;5;241m=\u001b[39m df_title_principals\u001b[38;5;241m.\u001b[39mexplode(\u001b[38;5;124m'\u001b[39m\u001b[38;5;124mcharacters\u001b[39m\u001b[38;5;124m'\u001b[39m, ignore_index\u001b[38;5;241m=\u001b[39m\u001b[38;5;28;01mTrue\u001b[39;00m)\n\u001b[0;32m      4\u001b[0m \u001b[38;5;66;03m# Vérification après explosion :\u001b[39;00m\n\u001b[0;32m      5\u001b[0m \u001b[38;5;28mprint\u001b[39m(df_exploded\u001b[38;5;241m.\u001b[39msample(\u001b[38;5;241m10\u001b[39m))\n",
      "File \u001b[1;32md:\\BigPapaProject\\Anaconda\\Lib\\site-packages\\pandas\\core\\frame.py:9854\u001b[0m, in \u001b[0;36mDataFrame.explode\u001b[1;34m(self, column, ignore_index)\u001b[0m\n\u001b[0;32m   9852\u001b[0m             \u001b[38;5;28;01mraise\u001b[39;00m \u001b[38;5;167;01mValueError\u001b[39;00m(\u001b[38;5;124m\"\u001b[39m\u001b[38;5;124mcolumns must have matching element counts\u001b[39m\u001b[38;5;124m\"\u001b[39m)\n\u001b[0;32m   9853\u001b[0m     result \u001b[38;5;241m=\u001b[39m DataFrame({c: df[c]\u001b[38;5;241m.\u001b[39mexplode() \u001b[38;5;28;01mfor\u001b[39;00m c \u001b[38;5;129;01min\u001b[39;00m columns})\n\u001b[1;32m-> 9854\u001b[0m result \u001b[38;5;241m=\u001b[39m df\u001b[38;5;241m.\u001b[39mdrop(columns, axis\u001b[38;5;241m=\u001b[39m\u001b[38;5;241m1\u001b[39m)\u001b[38;5;241m.\u001b[39mjoin(result)\n\u001b[0;32m   9855\u001b[0m \u001b[38;5;28;01mif\u001b[39;00m ignore_index:\n\u001b[0;32m   9856\u001b[0m     result\u001b[38;5;241m.\u001b[39mindex \u001b[38;5;241m=\u001b[39m default_index(\u001b[38;5;28mlen\u001b[39m(result))\n",
      "File \u001b[1;32md:\\BigPapaProject\\Anaconda\\Lib\\site-packages\\pandas\\core\\frame.py:10757\u001b[0m, in \u001b[0;36mDataFrame.join\u001b[1;34m(self, other, on, how, lsuffix, rsuffix, sort, validate)\u001b[0m\n\u001b[0;32m  10747\u001b[0m     \u001b[38;5;28;01mif\u001b[39;00m how \u001b[38;5;241m==\u001b[39m \u001b[38;5;124m\"\u001b[39m\u001b[38;5;124mcross\u001b[39m\u001b[38;5;124m\"\u001b[39m:\n\u001b[0;32m  10748\u001b[0m         \u001b[38;5;28;01mreturn\u001b[39;00m merge(\n\u001b[0;32m  10749\u001b[0m             \u001b[38;5;28mself\u001b[39m,\n\u001b[0;32m  10750\u001b[0m             other,\n\u001b[1;32m   (...)\u001b[0m\n\u001b[0;32m  10755\u001b[0m             validate\u001b[38;5;241m=\u001b[39mvalidate,\n\u001b[0;32m  10756\u001b[0m         )\n\u001b[1;32m> 10757\u001b[0m     \u001b[38;5;28;01mreturn\u001b[39;00m merge(\n\u001b[0;32m  10758\u001b[0m         \u001b[38;5;28mself\u001b[39m,\n\u001b[0;32m  10759\u001b[0m         other,\n\u001b[0;32m  10760\u001b[0m         left_on\u001b[38;5;241m=\u001b[39mon,\n\u001b[0;32m  10761\u001b[0m         how\u001b[38;5;241m=\u001b[39mhow,\n\u001b[0;32m  10762\u001b[0m         left_index\u001b[38;5;241m=\u001b[39mon \u001b[38;5;129;01mis\u001b[39;00m \u001b[38;5;28;01mNone\u001b[39;00m,\n\u001b[0;32m  10763\u001b[0m         right_index\u001b[38;5;241m=\u001b[39m\u001b[38;5;28;01mTrue\u001b[39;00m,\n\u001b[0;32m  10764\u001b[0m         suffixes\u001b[38;5;241m=\u001b[39m(lsuffix, rsuffix),\n\u001b[0;32m  10765\u001b[0m         sort\u001b[38;5;241m=\u001b[39msort,\n\u001b[0;32m  10766\u001b[0m         validate\u001b[38;5;241m=\u001b[39mvalidate,\n\u001b[0;32m  10767\u001b[0m     )\n\u001b[0;32m  10768\u001b[0m \u001b[38;5;28;01melse\u001b[39;00m:\n\u001b[0;32m  10769\u001b[0m     \u001b[38;5;28;01mif\u001b[39;00m on \u001b[38;5;129;01mis\u001b[39;00m \u001b[38;5;129;01mnot\u001b[39;00m \u001b[38;5;28;01mNone\u001b[39;00m:\n",
      "File \u001b[1;32md:\\BigPapaProject\\Anaconda\\Lib\\site-packages\\pandas\\core\\reshape\\merge.py:184\u001b[0m, in \u001b[0;36mmerge\u001b[1;34m(left, right, how, on, left_on, right_on, left_index, right_index, sort, suffixes, copy, indicator, validate)\u001b[0m\n\u001b[0;32m    169\u001b[0m \u001b[38;5;28;01melse\u001b[39;00m:\n\u001b[0;32m    170\u001b[0m     op \u001b[38;5;241m=\u001b[39m _MergeOperation(\n\u001b[0;32m    171\u001b[0m         left_df,\n\u001b[0;32m    172\u001b[0m         right_df,\n\u001b[1;32m   (...)\u001b[0m\n\u001b[0;32m    182\u001b[0m         validate\u001b[38;5;241m=\u001b[39mvalidate,\n\u001b[0;32m    183\u001b[0m     )\n\u001b[1;32m--> 184\u001b[0m     \u001b[38;5;28;01mreturn\u001b[39;00m op\u001b[38;5;241m.\u001b[39mget_result(copy\u001b[38;5;241m=\u001b[39mcopy)\n",
      "File \u001b[1;32md:\\BigPapaProject\\Anaconda\\Lib\\site-packages\\pandas\\core\\reshape\\merge.py:888\u001b[0m, in \u001b[0;36m_MergeOperation.get_result\u001b[1;34m(self, copy)\u001b[0m\n\u001b[0;32m    884\u001b[0m     \u001b[38;5;28mself\u001b[39m\u001b[38;5;241m.\u001b[39mleft, \u001b[38;5;28mself\u001b[39m\u001b[38;5;241m.\u001b[39mright \u001b[38;5;241m=\u001b[39m \u001b[38;5;28mself\u001b[39m\u001b[38;5;241m.\u001b[39m_indicator_pre_merge(\u001b[38;5;28mself\u001b[39m\u001b[38;5;241m.\u001b[39mleft, \u001b[38;5;28mself\u001b[39m\u001b[38;5;241m.\u001b[39mright)\n\u001b[0;32m    886\u001b[0m join_index, left_indexer, right_indexer \u001b[38;5;241m=\u001b[39m \u001b[38;5;28mself\u001b[39m\u001b[38;5;241m.\u001b[39m_get_join_info()\n\u001b[1;32m--> 888\u001b[0m result \u001b[38;5;241m=\u001b[39m \u001b[38;5;28mself\u001b[39m\u001b[38;5;241m.\u001b[39m_reindex_and_concat(\n\u001b[0;32m    889\u001b[0m     join_index, left_indexer, right_indexer, copy\u001b[38;5;241m=\u001b[39mcopy\n\u001b[0;32m    890\u001b[0m )\n\u001b[0;32m    891\u001b[0m result \u001b[38;5;241m=\u001b[39m result\u001b[38;5;241m.\u001b[39m__finalize__(\u001b[38;5;28mself\u001b[39m, method\u001b[38;5;241m=\u001b[39m\u001b[38;5;28mself\u001b[39m\u001b[38;5;241m.\u001b[39m_merge_type)\n\u001b[0;32m    893\u001b[0m \u001b[38;5;28;01mif\u001b[39;00m \u001b[38;5;28mself\u001b[39m\u001b[38;5;241m.\u001b[39mindicator:\n",
      "File \u001b[1;32md:\\BigPapaProject\\Anaconda\\Lib\\site-packages\\pandas\\core\\reshape\\merge.py:879\u001b[0m, in \u001b[0;36m_MergeOperation._reindex_and_concat\u001b[1;34m(self, join_index, left_indexer, right_indexer, copy)\u001b[0m\n\u001b[0;32m    877\u001b[0m left\u001b[38;5;241m.\u001b[39mcolumns \u001b[38;5;241m=\u001b[39m llabels\n\u001b[0;32m    878\u001b[0m right\u001b[38;5;241m.\u001b[39mcolumns \u001b[38;5;241m=\u001b[39m rlabels\n\u001b[1;32m--> 879\u001b[0m result \u001b[38;5;241m=\u001b[39m concat([left, right], axis\u001b[38;5;241m=\u001b[39m\u001b[38;5;241m1\u001b[39m, copy\u001b[38;5;241m=\u001b[39mcopy)\n\u001b[0;32m    880\u001b[0m \u001b[38;5;28;01mreturn\u001b[39;00m result\n",
      "File \u001b[1;32md:\\BigPapaProject\\Anaconda\\Lib\\site-packages\\pandas\\core\\reshape\\concat.py:395\u001b[0m, in \u001b[0;36mconcat\u001b[1;34m(objs, axis, join, ignore_index, keys, levels, names, verify_integrity, sort, copy)\u001b[0m\n\u001b[0;32m    380\u001b[0m     copy \u001b[38;5;241m=\u001b[39m \u001b[38;5;28;01mFalse\u001b[39;00m\n\u001b[0;32m    382\u001b[0m op \u001b[38;5;241m=\u001b[39m _Concatenator(\n\u001b[0;32m    383\u001b[0m     objs,\n\u001b[0;32m    384\u001b[0m     axis\u001b[38;5;241m=\u001b[39maxis,\n\u001b[1;32m   (...)\u001b[0m\n\u001b[0;32m    392\u001b[0m     sort\u001b[38;5;241m=\u001b[39msort,\n\u001b[0;32m    393\u001b[0m )\n\u001b[1;32m--> 395\u001b[0m \u001b[38;5;28;01mreturn\u001b[39;00m op\u001b[38;5;241m.\u001b[39mget_result()\n",
      "File \u001b[1;32md:\\BigPapaProject\\Anaconda\\Lib\\site-packages\\pandas\\core\\reshape\\concat.py:684\u001b[0m, in \u001b[0;36m_Concatenator.get_result\u001b[1;34m(self)\u001b[0m\n\u001b[0;32m    680\u001b[0m             indexers[ax] \u001b[38;5;241m=\u001b[39m obj_labels\u001b[38;5;241m.\u001b[39mget_indexer(new_labels)\n\u001b[0;32m    682\u001b[0m     mgrs_indexers\u001b[38;5;241m.\u001b[39mappend((obj\u001b[38;5;241m.\u001b[39m_mgr, indexers))\n\u001b[1;32m--> 684\u001b[0m new_data \u001b[38;5;241m=\u001b[39m concatenate_managers(\n\u001b[0;32m    685\u001b[0m     mgrs_indexers, \u001b[38;5;28mself\u001b[39m\u001b[38;5;241m.\u001b[39mnew_axes, concat_axis\u001b[38;5;241m=\u001b[39m\u001b[38;5;28mself\u001b[39m\u001b[38;5;241m.\u001b[39mbm_axis, copy\u001b[38;5;241m=\u001b[39m\u001b[38;5;28mself\u001b[39m\u001b[38;5;241m.\u001b[39mcopy\n\u001b[0;32m    686\u001b[0m )\n\u001b[0;32m    687\u001b[0m \u001b[38;5;28;01mif\u001b[39;00m \u001b[38;5;129;01mnot\u001b[39;00m \u001b[38;5;28mself\u001b[39m\u001b[38;5;241m.\u001b[39mcopy \u001b[38;5;129;01mand\u001b[39;00m \u001b[38;5;129;01mnot\u001b[39;00m using_copy_on_write():\n\u001b[0;32m    688\u001b[0m     new_data\u001b[38;5;241m.\u001b[39m_consolidate_inplace()\n",
      "File \u001b[1;32md:\\BigPapaProject\\Anaconda\\Lib\\site-packages\\pandas\\core\\internals\\concat.py:131\u001b[0m, in \u001b[0;36mconcatenate_managers\u001b[1;34m(mgrs_indexers, axes, concat_axis, copy)\u001b[0m\n\u001b[0;32m    124\u001b[0m \u001b[38;5;66;03m# Assertions disabled for performance\u001b[39;00m\n\u001b[0;32m    125\u001b[0m \u001b[38;5;66;03m# for tup in mgrs_indexers:\u001b[39;00m\n\u001b[0;32m    126\u001b[0m \u001b[38;5;66;03m#    # caller is responsible for ensuring this\u001b[39;00m\n\u001b[0;32m    127\u001b[0m \u001b[38;5;66;03m#    indexers = tup[1]\u001b[39;00m\n\u001b[0;32m    128\u001b[0m \u001b[38;5;66;03m#    assert concat_axis not in indexers\u001b[39;00m\n\u001b[0;32m    130\u001b[0m \u001b[38;5;28;01mif\u001b[39;00m concat_axis \u001b[38;5;241m==\u001b[39m \u001b[38;5;241m0\u001b[39m:\n\u001b[1;32m--> 131\u001b[0m     mgrs \u001b[38;5;241m=\u001b[39m _maybe_reindex_columns_na_proxy(axes, mgrs_indexers, needs_copy)\n\u001b[0;32m    132\u001b[0m     \u001b[38;5;28;01mreturn\u001b[39;00m mgrs[\u001b[38;5;241m0\u001b[39m]\u001b[38;5;241m.\u001b[39mconcat_horizontal(mgrs, axes)\n\u001b[0;32m    134\u001b[0m \u001b[38;5;28;01mif\u001b[39;00m \u001b[38;5;28mlen\u001b[39m(mgrs_indexers) \u001b[38;5;241m>\u001b[39m \u001b[38;5;241m0\u001b[39m \u001b[38;5;129;01mand\u001b[39;00m mgrs_indexers[\u001b[38;5;241m0\u001b[39m][\u001b[38;5;241m0\u001b[39m]\u001b[38;5;241m.\u001b[39mnblocks \u001b[38;5;241m>\u001b[39m \u001b[38;5;241m0\u001b[39m:\n",
      "File \u001b[1;32md:\\BigPapaProject\\Anaconda\\Lib\\site-packages\\pandas\\core\\internals\\concat.py:230\u001b[0m, in \u001b[0;36m_maybe_reindex_columns_na_proxy\u001b[1;34m(axes, mgrs_indexers, needs_copy)\u001b[0m\n\u001b[0;32m    220\u001b[0m         mgr \u001b[38;5;241m=\u001b[39m mgr\u001b[38;5;241m.\u001b[39mreindex_indexer(\n\u001b[0;32m    221\u001b[0m             axes[i],\n\u001b[0;32m    222\u001b[0m             indexers[i],\n\u001b[1;32m   (...)\u001b[0m\n\u001b[0;32m    227\u001b[0m             use_na_proxy\u001b[38;5;241m=\u001b[39m\u001b[38;5;28;01mTrue\u001b[39;00m,  \u001b[38;5;66;03m# only relevant for i==0\u001b[39;00m\n\u001b[0;32m    228\u001b[0m         )\n\u001b[0;32m    229\u001b[0m     \u001b[38;5;28;01mif\u001b[39;00m needs_copy \u001b[38;5;129;01mand\u001b[39;00m \u001b[38;5;129;01mnot\u001b[39;00m indexers:\n\u001b[1;32m--> 230\u001b[0m         mgr \u001b[38;5;241m=\u001b[39m mgr\u001b[38;5;241m.\u001b[39mcopy()\n\u001b[0;32m    232\u001b[0m     new_mgrs\u001b[38;5;241m.\u001b[39mappend(mgr)\n\u001b[0;32m    233\u001b[0m \u001b[38;5;28;01mreturn\u001b[39;00m new_mgrs\n",
      "File \u001b[1;32md:\\BigPapaProject\\Anaconda\\Lib\\site-packages\\pandas\\core\\internals\\managers.py:593\u001b[0m, in \u001b[0;36mBaseBlockManager.copy\u001b[1;34m(self, deep)\u001b[0m\n\u001b[0;32m    590\u001b[0m     \u001b[38;5;28;01melse\u001b[39;00m:\n\u001b[0;32m    591\u001b[0m         new_axes \u001b[38;5;241m=\u001b[39m \u001b[38;5;28mlist\u001b[39m(\u001b[38;5;28mself\u001b[39m\u001b[38;5;241m.\u001b[39maxes)\n\u001b[1;32m--> 593\u001b[0m res \u001b[38;5;241m=\u001b[39m \u001b[38;5;28mself\u001b[39m\u001b[38;5;241m.\u001b[39mapply(\u001b[38;5;124m\"\u001b[39m\u001b[38;5;124mcopy\u001b[39m\u001b[38;5;124m\"\u001b[39m, deep\u001b[38;5;241m=\u001b[39mdeep)\n\u001b[0;32m    594\u001b[0m res\u001b[38;5;241m.\u001b[39maxes \u001b[38;5;241m=\u001b[39m new_axes\n\u001b[0;32m    596\u001b[0m \u001b[38;5;28;01mif\u001b[39;00m \u001b[38;5;28mself\u001b[39m\u001b[38;5;241m.\u001b[39mndim \u001b[38;5;241m>\u001b[39m \u001b[38;5;241m1\u001b[39m:\n\u001b[0;32m    597\u001b[0m     \u001b[38;5;66;03m# Avoid needing to re-compute these\u001b[39;00m\n",
      "File \u001b[1;32md:\\BigPapaProject\\Anaconda\\Lib\\site-packages\\pandas\\core\\internals\\managers.py:363\u001b[0m, in \u001b[0;36mBaseBlockManager.apply\u001b[1;34m(self, f, align_keys, **kwargs)\u001b[0m\n\u001b[0;32m    361\u001b[0m         applied \u001b[38;5;241m=\u001b[39m b\u001b[38;5;241m.\u001b[39mapply(f, \u001b[38;5;241m*\u001b[39m\u001b[38;5;241m*\u001b[39mkwargs)\n\u001b[0;32m    362\u001b[0m     \u001b[38;5;28;01melse\u001b[39;00m:\n\u001b[1;32m--> 363\u001b[0m         applied \u001b[38;5;241m=\u001b[39m \u001b[38;5;28mgetattr\u001b[39m(b, f)(\u001b[38;5;241m*\u001b[39m\u001b[38;5;241m*\u001b[39mkwargs)\n\u001b[0;32m    364\u001b[0m     result_blocks \u001b[38;5;241m=\u001b[39m extend_blocks(applied, result_blocks)\n\u001b[0;32m    366\u001b[0m out \u001b[38;5;241m=\u001b[39m \u001b[38;5;28mtype\u001b[39m(\u001b[38;5;28mself\u001b[39m)\u001b[38;5;241m.\u001b[39mfrom_blocks(result_blocks, \u001b[38;5;28mself\u001b[39m\u001b[38;5;241m.\u001b[39maxes)\n",
      "File \u001b[1;32md:\\BigPapaProject\\Anaconda\\Lib\\site-packages\\pandas\\core\\internals\\blocks.py:796\u001b[0m, in \u001b[0;36mBlock.copy\u001b[1;34m(self, deep)\u001b[0m\n\u001b[0;32m    794\u001b[0m refs: BlockValuesRefs \u001b[38;5;241m|\u001b[39m \u001b[38;5;28;01mNone\u001b[39;00m\n\u001b[0;32m    795\u001b[0m \u001b[38;5;28;01mif\u001b[39;00m deep:\n\u001b[1;32m--> 796\u001b[0m     values \u001b[38;5;241m=\u001b[39m values\u001b[38;5;241m.\u001b[39mcopy()\n\u001b[0;32m    797\u001b[0m     refs \u001b[38;5;241m=\u001b[39m \u001b[38;5;28;01mNone\u001b[39;00m\n\u001b[0;32m    798\u001b[0m \u001b[38;5;28;01melse\u001b[39;00m:\n",
      "\u001b[1;31mMemoryError\u001b[0m: Unable to allocate 575. MiB for an array with shape (1, 75327836) and data type object"
     ]
    }
   ],
   "source": [
    "# explode de la colonne 'characters'\n",
    "df_exploded = df_title_principals.explode('characters', ignore_index=True)\n",
    "\n",
    "# Vérification après explosion :\n",
    "print(df_exploded.sample(10))\n",
    "\n",
    "# Comparatif Avant / Après explosion du nombre de lignes :\n",
    "print(f\"Nombre de lignes avant explosion : {len(df_title_principals)}\")\n",
    "print(f\"Nombre de lignes après explosion : {len(df_exploded)}\")"
   ]
  },
  {
   "cell_type": "code",
   "execution_count": null,
   "metadata": {},
   "outputs": [],
   "source": [
    "# Uniformisation des valeurs \"Self - etc.\" en \"Self'\n",
    "df_exploded['characters'] = df_exploded['characters'].str.replace(r'Self.*', 'Self', regex=True)"
   ]
  },
  {
   "cell_type": "code",
   "execution_count": null,
   "metadata": {},
   "outputs": [],
   "source": [
    "# export de 'title.principals_final.tsv' :\n",
    "# df_exploded.to_csv('../gitignore/title.principals_final.tsv', sep='\\t', index=False)"
   ]
  },
  {
   "cell_type": "markdown",
   "metadata": {},
   "source": [
    "### Recommandations pour l’intégration :\n",
    "\n",
    "1. Joindre avec `name.basics` via `nconst` pour enrichir les données avec les noms et professions principales.\n",
    "2. Joindre avec `title.basics` via `tconst` pour associer les informations sur les titres (genre, année, etc.)."
   ]
  }
 ],
 "metadata": {
  "kernelspec": {
   "display_name": "base",
   "language": "python",
   "name": "python3"
  },
  "language_info": {
   "codemirror_mode": {
    "name": "ipython",
    "version": 3
   },
   "file_extension": ".py",
   "mimetype": "text/x-python",
   "name": "python",
   "nbconvert_exporter": "python",
   "pygments_lexer": "ipython3",
   "version": "3.12.4"
  }
 },
 "nbformat": 4,
 "nbformat_minor": 2
}
