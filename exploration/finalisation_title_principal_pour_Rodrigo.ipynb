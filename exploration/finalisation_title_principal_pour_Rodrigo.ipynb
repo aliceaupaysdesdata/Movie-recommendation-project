{
 "cells": [
  {
   "cell_type": "code",
   "execution_count": null,
   "metadata": {},
   "outputs": [],
   "source": [
    "import pandas as pd\n",
    "\n",
    "# Import de la table 'title.principals4.tsv' partiellement modifiée\n",
    "df_title_principals = pd.read_csv('../gitignore/title.principals4.tsv', sep= '\\t')"
   ]
  },
  {
   "cell_type": "code",
   "execution_count": null,
   "metadata": {},
   "outputs": [],
   "source": []
  },
  {
   "cell_type": "code",
   "execution_count": null,
   "metadata": {},
   "outputs": [],
   "source": []
  },
  {
   "cell_type": "code",
   "execution_count": null,
   "metadata": {},
   "outputs": [],
   "source": []
  },
  {
   "cell_type": "code",
   "execution_count": null,
   "metadata": {},
   "outputs": [],
   "source": []
  },
  {
   "cell_type": "code",
   "execution_count": 18,
   "metadata": {},
   "outputs": [],
   "source": [
    "df_title_principals['characters'].isnull().sum()"
   ]
  },
  {
   "cell_type": "code",
   "execution_count": null,
   "metadata": {},
   "outputs": [],
   "source": []
  },
  {
   "cell_type": "code",
   "execution_count": 19,
   "metadata": {},
   "outputs": [],
   "source": [
    "import ast\n",
    "\n",
    "# Utilisation d'ast.literal_eval pour convertir les chaînes représentant des listes en objets réels\n",
    "df_title_principals['characters'] = df_title_principals['characters'].apply(\n",
    "    lambda x: ast.literal_eval(x) if pd.notna(x) else x\n",
    ")\n"
   ]
  },
  {
   "cell_type": "code",
   "execution_count": 20,
   "metadata": {},
   "outputs": [],
   "source": [
    "# explode de la colonne 'characters'\n",
    "## (Syntaxe à tester)\n",
    "df_exploded = df_title_principals.explode('characters', ignore_index=True)\n",
    "\n",
    "# Vérification après explosion :\n",
    "print(df_exploded.sample(10))\n",
    "\n",
    "# Comparatif Avant / Après explosion du nombre de lignes :\n",
    "print(f\"Nombre de lignes avant explosion : {len(df_title_principals)}\")\n",
    "print(f\"Nombre de lignes après explosion : {len(df_exploded)}\")"
   ]
  },
  {
   "cell_type": "code",
   "execution_count": 21,
   "metadata": {},
   "outputs": [],
   "source": [
    "# Uniformisation des valeurs \"Self - etc.\" en \"Self'\n",
    "df_exploded['characters'] = df_exploded['characters'].str.replace(r'Self.*', 'Self', regex=True)"
   ]
  },
  {
   "cell_type": "code",
   "execution_count": 22,
   "metadata": {},
   "outputs": [],
   "source": [
    "df_exploded['characters'].sample(10)"
   ]
  },
  {
   "cell_type": "markdown",
   "metadata": {},
   "source": [
    "**Une fois l'explode effectué, Refaire une exportation 'finale' à appeler 'title.principals_final.tsv'**"
   ]
  },
  {
   "cell_type": "code",
   "execution_count": 23,
   "metadata": {},
   "outputs": [],
   "source": [
    "# export de 'title.principals_final.tsv' :\n",
    "df_exploded.to_csv('../gitignore/title.principals_final.tsv', sep='\\t', index=False)"
   ]
  }
 ],
 "metadata": {
  "kernelspec": {
   "display_name": "base",
   "language": "python",
   "name": "python3"
  },
  "language_info": {
   "codemirror_mode": {
    "name": "ipython",
    "version": 3
   },
   "file_extension": ".py",
   "mimetype": "text/x-python",
   "name": "python",
   "nbconvert_exporter": "python",
   "pygments_lexer": "ipython3",
   "version": "3.12.4"
  }
 },
 "nbformat": 4,
 "nbformat_minor": 2
}
