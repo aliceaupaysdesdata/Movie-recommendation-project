{
 "cells": [
  {
   "cell_type": "code",
   "execution_count": null,
   "metadata": {},
   "outputs": [],
   "source": [
    "import pandas as pd"
   ]
  },
  {
   "cell_type": "code",
   "execution_count": null,
   "metadata": {},
   "outputs": [],
   "source": [
    "file_path_titles = \"../gitignore/title.akas.tsv\"\n",
    "data_titles = pd.read_csv(file_path_titles, sep=\"\\t\")"
   ]
  },
  {
   "cell_type": "code",
   "execution_count": null,
   "metadata": {},
   "outputs": [],
   "source": [
    "data_titles_copy = data_titles.copy()"
   ]
  },
  {
   "cell_type": "code",
   "execution_count": null,
   "metadata": {},
   "outputs": [],
   "source": [
    "total_1 = data_titles.shape[0]\n",
    "print(f\"Total: {total_1}\")\n",
    "data_titles.nunique()"
   ]
  },
  {
   "cell_type": "code",
   "execution_count": null,
   "metadata": {},
   "outputs": [],
   "source": [
    "data_titles.sample(10)"
   ]
  },
  {
   "cell_type": "code",
   "execution_count": null,
   "metadata": {},
   "outputs": [],
   "source": [
    "regions = data_titles['region'].unique()\n",
    "print(regions)"
   ]
  },
  {
   "cell_type": "code",
   "execution_count": null,
   "metadata": {},
   "outputs": [],
   "source": [
    "langues = data_titles['language'].unique()\n",
    "print(langues)"
   ]
  },
  {
   "cell_type": "code",
   "execution_count": null,
   "metadata": {},
   "outputs": [],
   "source": [
    "data_titles_fr = data_titles[data_titles['region'] == 'FR']"
   ]
  },
  {
   "cell_type": "code",
   "execution_count": null,
   "metadata": {},
   "outputs": [],
   "source": [
    "data_titles_fr.head(200)"
   ]
  },
  {
   "cell_type": "code",
   "execution_count": null,
   "metadata": {},
   "outputs": [],
   "source": [
    "print(data_titles_fr.nunique())\n",
    "print(\"-----\")\n",
    "print(data_titles_fr.info())"
   ]
  },
  {
   "cell_type": "code",
   "execution_count": null,
   "metadata": {},
   "outputs": [],
   "source": [
    "data_titles_fr['titleId'].duplicated().sum()"
   ]
  },
  {
   "cell_type": "code",
   "execution_count": null,
   "metadata": {},
   "outputs": [],
   "source": [
    "dup = data_titles_fr[data_titles_fr.duplicated(subset='titleId', keep=False)]\n",
    "display(dup.head(10))\n",
    "display(dup.sample(10))"
   ]
  },
  {
   "cell_type": "code",
   "execution_count": null,
   "metadata": {},
   "outputs": [],
   "source": [
    "data_titles_fr[data_titles_fr['titleId'] == 'tt0070578'].head(10)"
   ]
  },
  {
   "cell_type": "code",
   "execution_count": null,
   "metadata": {},
   "outputs": [],
   "source": [
    "data_titles_fr[data_titles_fr['titleId'] == 'tt0086190'].head(10)"
   ]
  },
  {
   "cell_type": "code",
   "execution_count": null,
   "metadata": {},
   "outputs": [],
   "source": [
    "data_titles_fr[data_titles_fr['titleId'] == 'tt0095630'].head(10)"
   ]
  },
  {
   "cell_type": "code",
   "execution_count": null,
   "metadata": {},
   "outputs": [],
   "source": [
    "data_titles_fr[data_titles_fr['titleId'] == 'tt0058140'].head(10)"
   ]
  },
  {
   "cell_type": "code",
   "execution_count": null,
   "metadata": {},
   "outputs": [],
   "source": [
    "data_titles_fr[data_titles_fr['titleId'] == 'tt0058140'].head(10)"
   ]
  },
  {
   "cell_type": "code",
   "execution_count": null,
   "metadata": {},
   "outputs": [],
   "source": [
    "duplicates_count = data_titles_fr['titleId'].value_counts()\n",
    "plus_duplicate = duplicates_count.idxmax()\n",
    "max_count = duplicates_count.max()\n",
    "print(plus_duplicate)\n",
    "print(max_count)"
   ]
  },
  {
   "cell_type": "code",
   "execution_count": null,
   "metadata": {},
   "outputs": [],
   "source": [
    "data_titles_fr[data_titles_fr['titleId'] == 'tt1815106'].head(10)"
   ]
  },
  {
   "cell_type": "code",
   "execution_count": null,
   "metadata": {},
   "outputs": [],
   "source": [
    "types = data_titles['types'].unique()\n",
    "print(types)"
   ]
  },
  {
   "cell_type": "code",
   "execution_count": null,
   "metadata": {},
   "outputs": [],
   "source": [
    "# Grouper par 'titleId' et consolider les titres dupliqués dans une liste\n",
    "consolidated_titles = data_titles_fr.groupby('titleId')['title'].apply(list).reset_index()"
   ]
  },
  {
   "cell_type": "code",
   "execution_count": null,
   "metadata": {},
   "outputs": [],
   "source": [
    "# Fusionner les titres consolidés avec le dataframe d'origine, en éliminant les doublons\n",
    "data_titles_fr_unique = data_titles_fr.drop_duplicates(subset='titleId').drop(columns=['title'])\n",
    "data_titles_fr_unique = data_titles_fr_unique.merge(consolidated_titles, on='titleId', how='left')"
   ]
  },
  {
   "cell_type": "code",
   "execution_count": null,
   "metadata": {},
   "outputs": [],
   "source": [
    "data_titles_fr_unique = data_titles_fr_unique[['titleId', 'title']]"
   ]
  },
  {
   "cell_type": "code",
   "execution_count": null,
   "metadata": {},
   "outputs": [],
   "source": [
    "total_2 = data_titles_fr_unique.shape[0]\n",
    "print(f\"Total: {total_2}\")\n",
    "unique_counts = data_titles_fr_unique.drop(columns=['title']).nunique()\n",
    "print(unique_counts)\n"
   ]
  },
  {
   "cell_type": "code",
   "execution_count": null,
   "metadata": {},
   "outputs": [],
   "source": [
    "data_titles_fr_unique.sample(50)"
   ]
  },
  {
   "cell_type": "code",
   "execution_count": null,
   "metadata": {},
   "outputs": [],
   "source": [
    "export = \"../gitignore/title.akas_final.tsv\"\n",
    "data_titles_fr_unique.to_csv(export, sep=\"\\t\", index=False)"
   ]
  }
 ],
 "metadata": {
  "kernelspec": {
   "display_name": "base",
   "language": "python",
   "name": "python3"
  },
  "language_info": {
   "codemirror_mode": {
    "name": "ipython",
    "version": 3
   },
   "file_extension": ".py",
   "mimetype": "text/x-python",
   "name": "python",
   "nbconvert_exporter": "python",
   "pygments_lexer": "ipython3",
   "version": "3.12.4"
  }
 },
 "nbformat": 4,
 "nbformat_minor": 2
}
