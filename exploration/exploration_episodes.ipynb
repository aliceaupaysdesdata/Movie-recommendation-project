{
 "cells": [
  {
   "cell_type": "code",
   "execution_count": 2,
   "metadata": {},
   "outputs": [],
   "source": [
    "import pandas as pd\n",
    "import numpy as np\n",
    "import matplotlib.pyplot as plt\n",
    "\n"
   ]
  },
  {
   "cell_type": "code",
   "execution_count": 3,
   "metadata": {},
   "outputs": [],
   "source": [
    "file_path_episodes = \"../exploration/Exploration - episodes.ipynb\""
   ]
  },
  {
   "cell_type": "code",
   "execution_count": 4,
   "metadata": {},
   "outputs": [],
   "source": [
    "data_episodes = pd.read_csv(\"../gitignore/title.episode.tsv\", sep=\"\\t\")"
   ]
  },
  {
   "cell_type": "code",
   "execution_count": 5,
   "metadata": {},
   "outputs": [
    {
     "name": "stdout",
     "output_type": "stream",
     "text": [
      "Types de colonnes - Episodes:\n",
      "<class 'pandas.core.frame.DataFrame'>\n",
      "RangeIndex: 8640119 entries, 0 to 8640118\n",
      "Data columns (total 4 columns):\n",
      " #   Column         Dtype \n",
      "---  ------         ----- \n",
      " 0   tconst         object\n",
      " 1   parentTconst   object\n",
      " 2   seasonNumber   object\n",
      " 3   episodeNumber  object\n",
      "dtypes: object(4)\n",
      "memory usage: 263.7+ MB\n"
     ]
    }
   ],
   "source": [
    "# Type des colonnes\n",
    "print(\"Types de colonnes - Episodes:\")\n",
    "data_episodes.info()"
   ]
  },
  {
   "cell_type": "code",
   "execution_count": 6,
   "metadata": {},
   "outputs": [],
   "source": [
    "# Remplacent '\\N' par NaN\n",
    "data_episodes.replace(\"\\\\N\", np.nan, inplace=True)"
   ]
  },
  {
   "cell_type": "code",
   "execution_count": 7,
   "metadata": {},
   "outputs": [],
   "source": [
    "# Conversion de 'seasonNumber' et 'episodeNumber' en valeurs numériques\n",
    "data_episodes['seasonNumber'] = pd.to_numeric(data_episodes['seasonNumber'], errors='coerce')\n",
    "data_episodes['episodeNumber'] = pd.to_numeric(data_episodes['episodeNumber'], errors='coerce')"
   ]
  },
  {
   "cell_type": "code",
   "execution_count": 8,
   "metadata": {},
   "outputs": [
    {
     "name": "stdout",
     "output_type": "stream",
     "text": [
      "\n",
      "Valeurs manquantes - Episodes:\n",
      "tconst                 0\n",
      "parentTconst           0\n",
      "seasonNumber     1742759\n",
      "episodeNumber    1742759\n",
      "dtype: int64\n"
     ]
    }
   ],
   "source": [
    "# Nombre de NaN dans chaque colonne\n",
    "print(\"\\nValeurs manquantes - Episodes:\")\n",
    "print(data_episodes.isnull().sum())"
   ]
  },
  {
   "cell_type": "code",
   "execution_count": 9,
   "metadata": {},
   "outputs": [
    {
     "name": "stdout",
     "output_type": "stream",
     "text": [
      "\n",
      "Info after cleaning:\n",
      "<class 'pandas.core.frame.DataFrame'>\n",
      "RangeIndex: 8640119 entries, 0 to 8640118\n",
      "Data columns (total 4 columns):\n",
      " #   Column         Dtype  \n",
      "---  ------         -----  \n",
      " 0   tconst         object \n",
      " 1   parentTconst   object \n",
      " 2   seasonNumber   float64\n",
      " 3   episodeNumber  float64\n",
      "dtypes: float64(2), object(2)\n",
      "memory usage: 263.7+ MB\n"
     ]
    }
   ],
   "source": [
    "# Vérification\n",
    "print(\"\\nInfo after cleaning:\")\n",
    "data_episodes.info()"
   ]
  },
  {
   "cell_type": "code",
   "execution_count": 10,
   "metadata": {},
   "outputs": [
    {
     "name": "stdout",
     "output_type": "stream",
     "text": [
      "\n",
      "Échantillon de données - Episodes:\n",
      "             tconst parentTconst  seasonNumber  episodeNumber\n",
      "8115557   tt8542966    tt4855208           NaN            NaN\n",
      "5391930  tt29377994   tt28259452           1.0          142.0\n",
      "7460989   tt6733074    tt0442646           NaN            NaN\n",
      "1848400  tt13118048   tt11554102           NaN            NaN\n",
      "4252061  tt22002032   tt15506924           1.0            9.0\n",
      "5965985  tt32431600    tt5193522           NaN            NaN\n",
      "4479673  tt23545350    tt5510950           NaN            NaN\n",
      "481455   tt10090968    tt7721488           NaN            NaN\n",
      "290493    tt0793093    tt0072519           2.0           22.0\n",
      "3519968   tt1804736    tt0445867           4.0            9.0\n",
      "1818436  tt13051076    tt0104421           1.0           46.0\n",
      "1490464  tt12298564    tt0283767           NaN            NaN\n",
      "2814333  tt15319320    tt0375453           3.0           11.0\n",
      "2480464  tt14554096   tt12491492           1.0          173.0\n",
      "2860660  tt15430226    tt1772630           1.0         1187.0\n"
     ]
    }
   ],
   "source": [
    "print(\"\\nÉchantillon de données - Episodes:\")\n",
    "print(data_episodes.sample(15))\n"
   ]
  },
  {
   "cell_type": "code",
   "execution_count": 11,
   "metadata": {},
   "outputs": [
    {
     "name": "stdout",
     "output_type": "stream",
     "text": [
      "\n",
      "Statistiques descriptives - Episodes:\n",
      "           tconst parentTconst  seasonNumber  episodeNumber\n",
      "count     8640119      8640119  6.897360e+06   6.897360e+06\n",
      "unique    8640119       212285           NaN            NaN\n",
      "top     tt0031458   tt12164062           NaN            NaN\n",
      "freq            1        18593           NaN            NaN\n",
      "mean          NaN          NaN  3.779493e+00   4.246340e+02\n",
      "std           NaN          NaN  2.396600e+01   1.336387e+03\n",
      "min           NaN          NaN  1.000000e+00   0.000000e+00\n",
      "25%           NaN          NaN  1.000000e+00   7.000000e+00\n",
      "50%           NaN          NaN  1.000000e+00   2.800000e+01\n",
      "75%           NaN          NaN  3.000000e+00   1.600000e+02\n",
      "max           NaN          NaN  2.024000e+03   9.133400e+04\n",
      "\n",
      "Échantillon de données - Episodes:\n",
      "             tconst parentTconst  seasonNumber  episodeNumber\n",
      "8112100   tt8534234    tt0439917           1.0          183.0\n",
      "6251245  tt33483001   tt33482802           1.0          146.0\n",
      "912463   tt11036670   tt10886634           1.0          607.0\n",
      "5075708  tt27909740    tt0870872           7.0          127.0\n",
      "7682781   tt7371506    tt2939026           1.0          615.0\n"
     ]
    }
   ],
   "source": [
    "# Premiers aperçus des données\n",
    "# Aperçu général avec .describe() et un échantillon\n",
    "print(\"\\nStatistiques descriptives - Episodes:\")\n",
    "print(data_episodes.describe(include=\"all\"))\n",
    "\n",
    "print(\"\\nÉchantillon de données - Episodes:\")\n",
    "print(data_episodes.sample(5))"
   ]
  },
  {
   "cell_type": "code",
   "execution_count": 12,
   "metadata": {},
   "outputs": [
    {
     "name": "stdout",
     "output_type": "stream",
     "text": [
      "\n",
      "Répartition du nombre d'épisodes par titres parents :\n",
      "       episode_count\n",
      "count  212285.000000\n",
      "mean       40.700563\n",
      "std       224.447456\n",
      "min         1.000000\n",
      "25%         4.000000\n",
      "50%         8.000000\n",
      "75%        22.000000\n",
      "max     18593.000000\n"
     ]
    }
   ],
   "source": [
    "# Analyse des regroupements par titres parents\n",
    "# Regroupement par parentTconst et comptage du nombre d'épisodes par titre\n",
    "episode_counts = data_episodes.groupby('parentTconst')['tconst'].count().reset_index()\n",
    "episode_counts.rename(columns={'tconst': 'episode_count'}, inplace=True)\n",
    "\n",
    "print(\"\\nRépartition du nombre d'épisodes par titres parents :\")\n",
    "print(episode_counts.describe())"
   ]
  },
  {
   "cell_type": "code",
   "execution_count": 13,
   "metadata": {},
   "outputs": [
    {
     "name": "stdout",
     "output_type": "stream",
     "text": [
      "\n",
      "Distribution des numéros de saison\n",
      "seasonNumber\n",
      "1.0       4414387\n",
      "2.0        652614\n",
      "3.0        370820\n",
      "4.0        253316\n",
      "5.0        185557\n",
      "           ...   \n",
      "2018.0          4\n",
      "2019.0         16\n",
      "2020.0         26\n",
      "2021.0         20\n",
      "2024.0          3\n",
      "Name: count, Length: 311, dtype: int64\n"
     ]
    }
   ],
   "source": [
    "# Analyse des saisons et des épisodes\n",
    "# Distribution des numéros de saison\n",
    "print(\"\\nDistribution des numéros de saison\")\n",
    "season_counts = data_episodes['seasonNumber'].value_counts().sort_index()\n",
    "print(season_counts)"
   ]
  },
  {
   "cell_type": "code",
   "execution_count": 14,
   "metadata": {},
   "outputs": [
    {
     "data": {
      "image/png": "[encoded data removed]",
      "text/plain": [
       "<Figure size 1000x500 with 1 Axes>"
      ]
     },
     "metadata": {},
     "output_type": "display_data"
    }
   ],
   "source": [
    "filtered_season_counts = season_counts[season_counts.index < 20]\n",
    "\n",
    "plt.figure(figsize=(10, 5))\n",
    "filtered_season_counts.plot(kind='bar', color='skyblue')\n",
    "plt.title('Répartition triée des saisons (saison < 50)')\n",
    "plt.xlabel('Saison')\n",
    "plt.ylabel('Fréquence')\n",
    "plt.xticks(rotation=90)\n",
    "plt.show()\n"
   ]
  },
  {
   "cell_type": "code",
   "execution_count": 15,
   "metadata": {},
   "outputs": [
    {
     "name": "stdout",
     "output_type": "stream",
     "text": [
      "\n",
      "Distribution des numéros d'épisode\n",
      "episodeNumber\n",
      "0.0          6022\n",
      "1.0        311475\n",
      "2.0        281433\n",
      "3.0        268311\n",
      "4.0        251239\n",
      "            ...  \n",
      "72615.0         1\n",
      "77305.0         1\n",
      "79800.0         1\n",
      "80207.0         1\n",
      "91334.0         1\n",
      "Name: count, Length: 15784, dtype: int64\n"
     ]
    }
   ],
   "source": [
    "# Distribution des numéros d'épisode\n",
    "print(\"\\nDistribution des numéros d'épisode\")\n",
    "print(data_episodes['episodeNumber'].value_counts().sort_index())\n"
   ]
  },
  {
   "cell_type": "code",
   "execution_count": 23,
   "metadata": {},
   "outputs": [
    {
     "data": {
      "image/png": "[encoded data removed]",
      "text/plain": [
       "<Figure size 1000x500 with 1 Axes>"
      ]
     },
     "metadata": {},
     "output_type": "display_data"
    }
   ],
   "source": [
    "# Filter for episodes with number less than 500\n",
    "filtered_episode_counts = episode_counts[episode_counts.index < 500]\n",
    "\n",
    "# Calculate the cumulative sum\n",
    "cumulative_counts = filtered_episode_counts['episode_count'].cumsum()\n",
    "\n",
    "# Plot the cumulative distribution\n",
    "plt.figure(figsize=(10, 5))\n",
    "plt.plot(filtered_episode_counts.index, cumulative_counts, color='red')\n",
    "plt.title('Distribution cumulative des épisodes (épisode < 500)')\n",
    "plt.xlabel('Épisode')\n",
    "plt.ylabel('Fréquence Cumulative')\n",
    "plt.grid()\n",
    "plt.show()\n"
   ]
  }
 ],
 "metadata": {
  "kernelspec": {
   "display_name": "base",
   "language": "python",
   "name": "python3"
  },
  "language_info": {
   "codemirror_mode": {
    "name": "ipython",
    "version": 3
   },
   "file_extension": ".py",
   "mimetype": "text/x-python",
   "name": "python",
   "nbconvert_exporter": "python",
   "pygments_lexer": "ipython3",
   "version": "3.12.4"
  }
 },
 "nbformat": 4,
 "nbformat_minor": 2
}
