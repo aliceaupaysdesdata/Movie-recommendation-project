{
 "cells": [
  {
   "cell_type": "markdown",
   "metadata": {},
   "source": [
    "## Analyse exploratoire et nettoyage de `name.basics`\n",
    "\n",
    "### Introduction\n",
    "Les étapes suivantes visent à analyser, nettoyer et préparer la table `name.basics` pour une utilisation ultérieure. \n",
    "Nous allons examiner chaque colonne, effectuer les transformations nécessaires et proposer des recommandations pour les prochaines étapes."
   ]
  },
  {
   "cell_type": "code",
   "execution_count": 4,
   "metadata": {},
   "outputs": [],
   "source": [
    "import matplotlib.pyplot as plt\n",
    "import seaborn as sns\n",
    "import numpy as np\n",
    "import pandas as pd"
   ]
  },
  {
   "cell_type": "markdown",
   "metadata": {},
   "source": [
    "### Étape 1 : Chargement des données"
   ]
  },
  {
   "cell_type": "code",
   "execution_count": 2,
   "metadata": {},
   "outputs": [],
   "source": [
    "# Importation du DataSet :\n",
    "df_name_basics = pd.read_csv('../gitignore/name.basics.tsv', sep= '\\t')"
   ]
  },
  {
   "cell_type": "markdown",
   "metadata": {},
   "source": [
    "- #### Aperçu rapide des données"
   ]
  },
  {
   "cell_type": "code",
   "execution_count": null,
   "metadata": {},
   "outputs": [
    {
     "data": {
      "text/html": [
       "<div>\n",
       "<style scoped>\n",
       "    .dataframe tbody tr th:only-of-type {\n",
       "        vertical-align: middle;\n",
       "    }\n",
       "\n",
       "    .dataframe tbody tr th {\n",
       "        vertical-align: top;\n",
       "    }\n",
       "\n",
       "    .dataframe thead th {\n",
       "        text-align: right;\n",
       "    }\n",
       "</style>\n",
       "<table border=\"1\" class=\"dataframe\">\n",
       "  <thead>\n",
       "    <tr style=\"text-align: right;\">\n",
       "      <th></th>\n",
       "      <th>nconst</th>\n",
       "      <th>primaryName</th>\n",
       "      <th>birthYear</th>\n",
       "      <th>deathYear</th>\n",
       "      <th>primaryProfession</th>\n",
       "      <th>knownForTitles</th>\n",
       "    </tr>\n",
       "  </thead>\n",
       "  <tbody>\n",
       "    <tr>\n",
       "      <th>0</th>\n",
       "      <td>nm0000001</td>\n",
       "      <td>Fred Astaire</td>\n",
       "      <td>1899</td>\n",
       "      <td>1987</td>\n",
       "      <td>actor,miscellaneous,producer</td>\n",
       "      <td>tt0050419,tt0072308,tt0053137,tt0027125</td>\n",
       "    </tr>\n",
       "    <tr>\n",
       "      <th>1</th>\n",
       "      <td>nm0000002</td>\n",
       "      <td>Lauren Bacall</td>\n",
       "      <td>1924</td>\n",
       "      <td>2014</td>\n",
       "      <td>actress,soundtrack,archive_footage</td>\n",
       "      <td>tt0037382,tt0075213,tt0117057,tt0038355</td>\n",
       "    </tr>\n",
       "    <tr>\n",
       "      <th>2</th>\n",
       "      <td>nm0000003</td>\n",
       "      <td>Brigitte Bardot</td>\n",
       "      <td>1934</td>\n",
       "      <td>\\N</td>\n",
       "      <td>actress,music_department,producer</td>\n",
       "      <td>tt0057345,tt0049189,tt0056404,tt0054452</td>\n",
       "    </tr>\n",
       "    <tr>\n",
       "      <th>3</th>\n",
       "      <td>nm0000004</td>\n",
       "      <td>John Belushi</td>\n",
       "      <td>1949</td>\n",
       "      <td>1982</td>\n",
       "      <td>actor,writer,music_department</td>\n",
       "      <td>tt0072562,tt0077975,tt0080455,tt0078723</td>\n",
       "    </tr>\n",
       "    <tr>\n",
       "      <th>4</th>\n",
       "      <td>nm0000005</td>\n",
       "      <td>Ingmar Bergman</td>\n",
       "      <td>1918</td>\n",
       "      <td>2007</td>\n",
       "      <td>writer,director,actor</td>\n",
       "      <td>tt0050986,tt0069467,tt0050976,tt0083922</td>\n",
       "    </tr>\n",
       "  </tbody>\n",
       "</table>\n",
       "</div>"
      ],
      "text/plain": [
       "      nconst      primaryName birthYear deathYear  \\\n",
       "0  nm0000001     Fred Astaire      1899      1987   \n",
       "1  nm0000002    Lauren Bacall      1924      2014   \n",
       "2  nm0000003  Brigitte Bardot      1934        \\N   \n",
       "3  nm0000004     John Belushi      1949      1982   \n",
       "4  nm0000005   Ingmar Bergman      1918      2007   \n",
       "\n",
       "                    primaryProfession                           knownForTitles  \n",
       "0        actor,miscellaneous,producer  tt0050419,tt0072308,tt0053137,tt0027125  \n",
       "1  actress,soundtrack,archive_footage  tt0037382,tt0075213,tt0117057,tt0038355  \n",
       "2   actress,music_department,producer  tt0057345,tt0049189,tt0056404,tt0054452  \n",
       "3       actor,writer,music_department  tt0072562,tt0077975,tt0080455,tt0078723  \n",
       "4               writer,director,actor  tt0050986,tt0069467,tt0050976,tt0083922  "
      ]
     },
     "execution_count": 3,
     "metadata": {},
     "output_type": "execute_result"
    }
   ],
   "source": []
  },
  {
   "cell_type": "markdown",
   "metadata": {},
   "source": [
    "### Étape 2 : Informations générales sur les données"
   ]
  },
  {
   "cell_type": "markdown",
   "metadata": {},
   "source": [
    "- #### Aperçu rapide des données"
   ]
  },
  {
   "cell_type": "code",
   "execution_count": 6,
   "metadata": {},
   "outputs": [
    {
     "data": {
      "text/html": [
       "<div>\n",
       "<style scoped>\n",
       "    .dataframe tbody tr th:only-of-type {\n",
       "        vertical-align: middle;\n",
       "    }\n",
       "\n",
       "    .dataframe tbody tr th {\n",
       "        vertical-align: top;\n",
       "    }\n",
       "\n",
       "    .dataframe thead th {\n",
       "        text-align: right;\n",
       "    }\n",
       "</style>\n",
       "<table border=\"1\" class=\"dataframe\">\n",
       "  <thead>\n",
       "    <tr style=\"text-align: right;\">\n",
       "      <th></th>\n",
       "      <th>nconst</th>\n",
       "      <th>primaryName</th>\n",
       "      <th>birthYear</th>\n",
       "      <th>deathYear</th>\n",
       "      <th>primaryProfession</th>\n",
       "      <th>knownForTitles</th>\n",
       "    </tr>\n",
       "  </thead>\n",
       "  <tbody>\n",
       "    <tr>\n",
       "      <th>0</th>\n",
       "      <td>nm0000001</td>\n",
       "      <td>Fred Astaire</td>\n",
       "      <td>1899</td>\n",
       "      <td>1987</td>\n",
       "      <td>actor,miscellaneous,producer</td>\n",
       "      <td>tt0050419,tt0072308,tt0053137,tt0027125</td>\n",
       "    </tr>\n",
       "    <tr>\n",
       "      <th>1</th>\n",
       "      <td>nm0000002</td>\n",
       "      <td>Lauren Bacall</td>\n",
       "      <td>1924</td>\n",
       "      <td>2014</td>\n",
       "      <td>actress,soundtrack,archive_footage</td>\n",
       "      <td>tt0037382,tt0075213,tt0117057,tt0038355</td>\n",
       "    </tr>\n",
       "    <tr>\n",
       "      <th>2</th>\n",
       "      <td>nm0000003</td>\n",
       "      <td>Brigitte Bardot</td>\n",
       "      <td>1934</td>\n",
       "      <td>\\N</td>\n",
       "      <td>actress,music_department,producer</td>\n",
       "      <td>tt0057345,tt0049189,tt0056404,tt0054452</td>\n",
       "    </tr>\n",
       "    <tr>\n",
       "      <th>3</th>\n",
       "      <td>nm0000004</td>\n",
       "      <td>John Belushi</td>\n",
       "      <td>1949</td>\n",
       "      <td>1982</td>\n",
       "      <td>actor,writer,music_department</td>\n",
       "      <td>tt0072562,tt0077975,tt0080455,tt0078723</td>\n",
       "    </tr>\n",
       "    <tr>\n",
       "      <th>4</th>\n",
       "      <td>nm0000005</td>\n",
       "      <td>Ingmar Bergman</td>\n",
       "      <td>1918</td>\n",
       "      <td>2007</td>\n",
       "      <td>writer,director,actor</td>\n",
       "      <td>tt0050986,tt0069467,tt0050976,tt0083922</td>\n",
       "    </tr>\n",
       "  </tbody>\n",
       "</table>\n",
       "</div>"
      ],
      "text/plain": [
       "      nconst      primaryName birthYear deathYear  \\\n",
       "0  nm0000001     Fred Astaire      1899      1987   \n",
       "1  nm0000002    Lauren Bacall      1924      2014   \n",
       "2  nm0000003  Brigitte Bardot      1934        \\N   \n",
       "3  nm0000004     John Belushi      1949      1982   \n",
       "4  nm0000005   Ingmar Bergman      1918      2007   \n",
       "\n",
       "                    primaryProfession                           knownForTitles  \n",
       "0        actor,miscellaneous,producer  tt0050419,tt0072308,tt0053137,tt0027125  \n",
       "1  actress,soundtrack,archive_footage  tt0037382,tt0075213,tt0117057,tt0038355  \n",
       "2   actress,music_department,producer  tt0057345,tt0049189,tt0056404,tt0054452  \n",
       "3       actor,writer,music_department  tt0072562,tt0077975,tt0080455,tt0078723  \n",
       "4               writer,director,actor  tt0050986,tt0069467,tt0050976,tt0083922  "
      ]
     },
     "execution_count": 6,
     "metadata": {},
     "output_type": "execute_result"
    }
   ],
   "source": [
    "df_name_basics.head()"
   ]
  },
  {
   "cell_type": "markdown",
   "metadata": {},
   "source": [
    "- #### Identification des valeurs manquantes"
   ]
  },
  {
   "cell_type": "code",
   "execution_count": 7,
   "metadata": {},
   "outputs": [
    {
     "data": {
      "text/plain": [
       "nconst               0\n",
       "primaryName          9\n",
       "birthYear            0\n",
       "deathYear            0\n",
       "primaryProfession    0\n",
       "knownForTitles       0\n",
       "dtype: int64"
      ]
     },
     "execution_count": 7,
     "metadata": {},
     "output_type": "execute_result"
    }
   ],
   "source": [
    "df_name_basics.isna().sum()"
   ]
  },
  {
   "cell_type": "code",
   "execution_count": 8,
   "metadata": {},
   "outputs": [
    {
     "name": "stdout",
     "output_type": "stream",
     "text": [
      "Lignes avec des valeurs manquantes dans `primaryName` :\n",
      "             nconst primaryName birthYear deathYear        primaryProfession  \\\n",
      "100967    nm0106021         NaN        \\N        \\N                    actor   \n",
      "1786541  nm10927938         NaN        \\N        \\N  art_department,composer   \n",
      "4927108  nm14292439         NaN        \\N        \\N                       \\N   \n",
      "4962416  nm14334668         NaN        \\N        \\N                 director   \n",
      "4993716  nm14381073         NaN        \\N        \\N          director,writer   \n",
      "5877414  nm15383643         NaN        \\N        \\N                 composer   \n",
      "6311127  nm15901107         NaN        \\N        \\N                    actor   \n",
      "7029620  nm16712594         NaN        \\N        \\N           actor,composer   \n",
      "8387433   nm3177777         NaN        \\N        \\N                  actress   \n",
      "\n",
      "                knownForTitles  \n",
      "100967              tt21610866  \n",
      "1786541  tt16401648,tt10837972  \n",
      "4927108                     \\N  \n",
      "4962416                     \\N  \n",
      "4993716  tt29359666,tt25049436  \n",
      "5877414             tt29568261  \n",
      "6311127             tt31613332  \n",
      "7029620             tt34519434  \n",
      "8387433              tt1315061  \n",
      "Nombre total de valeurs manquantes : 9\n"
     ]
    }
   ],
   "source": [
    "manquant_primary_name = df_name_basics[df_name_basics['primaryName'].isna()]\n",
    "\n",
    "print(\"Lignes avec des valeurs manquantes dans `primaryName` :\")\n",
    "print(manquant_primary_name)\n",
    "\n",
    "# Vérification du nombre total de valeurs manquantes\n",
    "print(f\"Nombre total de valeurs manquantes : {manquant_primary_name.shape[0]}\")"
   ]
  },
  {
   "cell_type": "markdown",
   "metadata": {},
   "source": [
    "- #### Remplacement des valeurs '\\N' par NaN pour faciliter le traitement"
   ]
  },
  {
   "cell_type": "code",
   "execution_count": null,
   "metadata": {},
   "outputs": [
    {
     "ename": "KeyboardInterrupt",
     "evalue": "",
     "output_type": "error",
     "traceback": [
      "\u001b[1;31m---------------------------------------------------------------------------\u001b[0m",
      "\u001b[1;31mKeyboardInterrupt\u001b[0m                         Traceback (most recent call last)",
      "Cell \u001b[1;32mIn[9], line 1\u001b[0m\n\u001b[1;32m----> 1\u001b[0m df_name_basics \u001b[38;5;241m=\u001b[39m df_name_basics\u001b[38;5;241m.\u001b[39mreplace(\u001b[38;5;124mr\u001b[39m\u001b[38;5;124m'\u001b[39m\u001b[38;5;130;01m\\\\\u001b[39;00m\u001b[38;5;124mN\u001b[39m\u001b[38;5;124m'\u001b[39m, np\u001b[38;5;241m.\u001b[39mnan, regex\u001b[38;5;241m=\u001b[39m\u001b[38;5;28;01mTrue\u001b[39;00m)\n",
      "File \u001b[1;32md:\\BigPapaProject\\Anaconda\\Lib\\site-packages\\pandas\\core\\generic.py:8135\u001b[0m, in \u001b[0;36mNDFrame.replace\u001b[1;34m(self, to_replace, value, inplace, limit, regex, method)\u001b[0m\n\u001b[0;32m   8133\u001b[0m regex \u001b[38;5;241m=\u001b[39m should_use_regex(regex, to_replace)\n\u001b[0;32m   8134\u001b[0m \u001b[38;5;28;01mif\u001b[39;00m regex:\n\u001b[1;32m-> 8135\u001b[0m     new_data \u001b[38;5;241m=\u001b[39m \u001b[38;5;28mself\u001b[39m\u001b[38;5;241m.\u001b[39m_mgr\u001b[38;5;241m.\u001b[39mreplace_regex(\n\u001b[0;32m   8136\u001b[0m         to_replace\u001b[38;5;241m=\u001b[39mto_replace,\n\u001b[0;32m   8137\u001b[0m         value\u001b[38;5;241m=\u001b[39mvalue,\n\u001b[0;32m   8138\u001b[0m         inplace\u001b[38;5;241m=\u001b[39minplace,\n\u001b[0;32m   8139\u001b[0m     )\n\u001b[0;32m   8140\u001b[0m \u001b[38;5;28;01melse\u001b[39;00m:\n\u001b[0;32m   8141\u001b[0m     new_data \u001b[38;5;241m=\u001b[39m \u001b[38;5;28mself\u001b[39m\u001b[38;5;241m.\u001b[39m_mgr\u001b[38;5;241m.\u001b[39mreplace(\n\u001b[0;32m   8142\u001b[0m         to_replace\u001b[38;5;241m=\u001b[39mto_replace, value\u001b[38;5;241m=\u001b[39mvalue, inplace\u001b[38;5;241m=\u001b[39minplace\n\u001b[0;32m   8143\u001b[0m     )\n",
      "File \u001b[1;32md:\\BigPapaProject\\Anaconda\\Lib\\site-packages\\pandas\\core\\internals\\base.py:260\u001b[0m, in \u001b[0;36mDataManager.replace_regex\u001b[1;34m(self, **kwargs)\u001b[0m\n\u001b[0;32m    258\u001b[0m \u001b[38;5;129m@final\u001b[39m\n\u001b[0;32m    259\u001b[0m \u001b[38;5;28;01mdef\u001b[39;00m \u001b[38;5;21mreplace_regex\u001b[39m(\u001b[38;5;28mself\u001b[39m, \u001b[38;5;241m*\u001b[39m\u001b[38;5;241m*\u001b[39mkwargs) \u001b[38;5;241m-\u001b[39m\u001b[38;5;241m>\u001b[39m Self:\n\u001b[1;32m--> 260\u001b[0m     \u001b[38;5;28;01mreturn\u001b[39;00m \u001b[38;5;28mself\u001b[39m\u001b[38;5;241m.\u001b[39mapply_with_block(\n\u001b[0;32m    261\u001b[0m         \u001b[38;5;124m\"\u001b[39m\u001b[38;5;124m_replace_regex\u001b[39m\u001b[38;5;124m\"\u001b[39m,\n\u001b[0;32m    262\u001b[0m         \u001b[38;5;241m*\u001b[39m\u001b[38;5;241m*\u001b[39mkwargs,\n\u001b[0;32m    263\u001b[0m         using_cow\u001b[38;5;241m=\u001b[39musing_copy_on_write(),\n\u001b[0;32m    264\u001b[0m         already_warned\u001b[38;5;241m=\u001b[39m_AlreadyWarned(),\n\u001b[0;32m    265\u001b[0m     )\n",
      "File \u001b[1;32md:\\BigPapaProject\\Anaconda\\Lib\\site-packages\\pandas\\core\\internals\\managers.py:363\u001b[0m, in \u001b[0;36mBaseBlockManager.apply\u001b[1;34m(self, f, align_keys, **kwargs)\u001b[0m\n\u001b[0;32m    361\u001b[0m         applied \u001b[38;5;241m=\u001b[39m b\u001b[38;5;241m.\u001b[39mapply(f, \u001b[38;5;241m*\u001b[39m\u001b[38;5;241m*\u001b[39mkwargs)\n\u001b[0;32m    362\u001b[0m     \u001b[38;5;28;01melse\u001b[39;00m:\n\u001b[1;32m--> 363\u001b[0m         applied \u001b[38;5;241m=\u001b[39m \u001b[38;5;28mgetattr\u001b[39m(b, f)(\u001b[38;5;241m*\u001b[39m\u001b[38;5;241m*\u001b[39mkwargs)\n\u001b[0;32m    364\u001b[0m     result_blocks \u001b[38;5;241m=\u001b[39m extend_blocks(applied, result_blocks)\n\u001b[0;32m    366\u001b[0m out \u001b[38;5;241m=\u001b[39m \u001b[38;5;28mtype\u001b[39m(\u001b[38;5;28mself\u001b[39m)\u001b[38;5;241m.\u001b[39mfrom_blocks(result_blocks, \u001b[38;5;28mself\u001b[39m\u001b[38;5;241m.\u001b[39maxes)\n",
      "File \u001b[1;32md:\\BigPapaProject\\Anaconda\\Lib\\site-packages\\pandas\\core\\internals\\blocks.py:989\u001b[0m, in \u001b[0;36mBlock._replace_regex\u001b[1;34m(self, to_replace, value, inplace, mask, using_cow, already_warned)\u001b[0m\n\u001b[0;32m    985\u001b[0m rx \u001b[38;5;241m=\u001b[39m re\u001b[38;5;241m.\u001b[39mcompile(to_replace)\n\u001b[0;32m    987\u001b[0m block \u001b[38;5;241m=\u001b[39m \u001b[38;5;28mself\u001b[39m\u001b[38;5;241m.\u001b[39m_maybe_copy(using_cow, inplace)\n\u001b[1;32m--> 989\u001b[0m replace_regex(block\u001b[38;5;241m.\u001b[39mvalues, rx, value, mask)\n\u001b[0;32m    991\u001b[0m \u001b[38;5;28;01mif\u001b[39;00m (\n\u001b[0;32m    992\u001b[0m     inplace\n\u001b[0;32m    993\u001b[0m     \u001b[38;5;129;01mand\u001b[39;00m warn_copy_on_write()\n\u001b[0;32m    994\u001b[0m     \u001b[38;5;129;01mand\u001b[39;00m already_warned \u001b[38;5;129;01mis\u001b[39;00m \u001b[38;5;129;01mnot\u001b[39;00m \u001b[38;5;28;01mNone\u001b[39;00m\n\u001b[0;32m    995\u001b[0m     \u001b[38;5;129;01mand\u001b[39;00m \u001b[38;5;129;01mnot\u001b[39;00m already_warned\u001b[38;5;241m.\u001b[39mwarned_already\n\u001b[0;32m    996\u001b[0m ):\n\u001b[0;32m    997\u001b[0m     \u001b[38;5;28;01mif\u001b[39;00m \u001b[38;5;28mself\u001b[39m\u001b[38;5;241m.\u001b[39mrefs\u001b[38;5;241m.\u001b[39mhas_reference():\n",
      "File \u001b[1;32md:\\BigPapaProject\\Anaconda\\Lib\\site-packages\\pandas\\core\\array_algos\\replace.py:147\u001b[0m, in \u001b[0;36mreplace_regex\u001b[1;34m(values, rx, value, mask)\u001b[0m\n\u001b[0;32m    144\u001b[0m         \u001b[38;5;28;01melse\u001b[39;00m:\n\u001b[0;32m    145\u001b[0m             \u001b[38;5;28;01mreturn\u001b[39;00m s\n\u001b[1;32m--> 147\u001b[0m f \u001b[38;5;241m=\u001b[39m np\u001b[38;5;241m.\u001b[39mvectorize(re_replacer, otypes\u001b[38;5;241m=\u001b[39m[np\u001b[38;5;241m.\u001b[39mobject_])\n\u001b[0;32m    149\u001b[0m \u001b[38;5;28;01mif\u001b[39;00m mask \u001b[38;5;129;01mis\u001b[39;00m \u001b[38;5;28;01mNone\u001b[39;00m:\n\u001b[0;32m    150\u001b[0m     values[:] \u001b[38;5;241m=\u001b[39m f(values)\n",
      "File \u001b[1;32md:\\BigPapaProject\\Anaconda\\Lib\\site-packages\\numpy\\lib\\function_base.py:2288\u001b[0m, in \u001b[0;36mvectorize.__init__\u001b[1;34m(self, pyfunc, otypes, doc, excluded, cache, signature)\u001b[0m\n\u001b[0;32m   2285\u001b[0m \u001b[38;5;28;01mdef\u001b[39;00m \u001b[38;5;21m__init__\u001b[39m(\u001b[38;5;28mself\u001b[39m, pyfunc\u001b[38;5;241m=\u001b[39mnp\u001b[38;5;241m.\u001b[39m_NoValue, otypes\u001b[38;5;241m=\u001b[39m\u001b[38;5;28;01mNone\u001b[39;00m, doc\u001b[38;5;241m=\u001b[39m\u001b[38;5;28;01mNone\u001b[39;00m,\n\u001b[0;32m   2286\u001b[0m              excluded\u001b[38;5;241m=\u001b[39m\u001b[38;5;28;01mNone\u001b[39;00m, cache\u001b[38;5;241m=\u001b[39m\u001b[38;5;28;01mFalse\u001b[39;00m, signature\u001b[38;5;241m=\u001b[39m\u001b[38;5;28;01mNone\u001b[39;00m):\n\u001b[1;32m-> 2288\u001b[0m     \u001b[38;5;28;01mif\u001b[39;00m (pyfunc \u001b[38;5;241m!=\u001b[39m np\u001b[38;5;241m.\u001b[39m_NoValue) \u001b[38;5;129;01mand\u001b[39;00m (\u001b[38;5;129;01mnot\u001b[39;00m \u001b[38;5;28mcallable\u001b[39m(pyfunc)):\n\u001b[0;32m   2289\u001b[0m         \u001b[38;5;66;03m#Splitting the error message to keep\u001b[39;00m\n\u001b[0;32m   2290\u001b[0m         \u001b[38;5;66;03m#the length below 79 characters.\u001b[39;00m\n\u001b[0;32m   2291\u001b[0m         part1 \u001b[38;5;241m=\u001b[39m \u001b[38;5;124m\"\u001b[39m\u001b[38;5;124mWhen used as a decorator, \u001b[39m\u001b[38;5;124m\"\u001b[39m\n\u001b[0;32m   2292\u001b[0m         part2 \u001b[38;5;241m=\u001b[39m \u001b[38;5;124m\"\u001b[39m\u001b[38;5;124monly accepts keyword arguments.\u001b[39m\u001b[38;5;124m\"\u001b[39m\n",
      "\u001b[1;31mKeyboardInterrupt\u001b[0m: "
     ]
    }
   ],
   "source": [
    "df_name_basics = df_name_basics.replace(r'\\\\N', pd.NA, regex=True)"
   ]
  },
  {
   "cell_type": "markdown",
   "metadata": {},
   "source": [
    "\n",
    "# Remplacement des valeurs '\\N' par NaN pour faciliter le traitement\n",
    "df_name_basics = df_name_basics.replace(r'\\\\N', np.nan, regex=True)\n",
    "\n",
    "# %% [markdown]\n",
    "# ## Étape 3 : Analyse des colonnes `birthYear` et `deathYear`\n",
    "#\n",
    "# ### Conversion des types de données\n",
    "\n",
    "# %%\n",
    "# Conversion des colonnes en types numériques pour analyse\n",
    "df_name_basics['birthYear'] = pd.to_numeric(df_name_basics['birthYear'], errors='coerce')\n",
    "df_name_basics['deathYear'] = pd.to_numeric(df_name_basics['deathYear'], errors='coerce')\n",
    "\n",
    "# %% [markdown]\n",
    "# ### Exploration des données numériques\n",
    "\n",
    "# %%\n",
    "# Aperçu statistique\n",
    "df_name_basics[['birthYear', 'deathYear']].describe()\n",
    "\n",
    "# Calcul de la durée de vie pour les entrées valides\n",
    "df_name_basics['lifespan'] = df_name_basics['deathYear'] - df_name_basics['birthYear']\n",
    "\n",
    "# Distribution des durées de vie\n",
    "df_name_basics['lifespan'].describe()\n",
    "\n",
    "# %% [markdown]\n",
    "# ## Étape 4 : Analyse de la colonne `primaryProfession`\n",
    "#\n",
    "# ### Transformation en liste et explosion\n",
    "\n",
    "# %%\n",
    "# Conversion des professions en liste\n",
    "df_name_basics['primaryProfession'] = df_name_basics['primaryProfession'].apply(\n",
    "    lambda x: x.split(',') if isinstance(x, str) else []\n",
    ")\n",
    "\n",
    "# Explosion des professions\n",
    "df_exploded_profession = df_name_basics.explode('primaryProfession', ignore_index=True)\n",
    "\n",
    "# %% [markdown]\n",
    "# ### Analyse des professions\n",
    "\n",
    "# %%\n",
    "# Comptage des professions les plus fréquentes\n",
    "df_exploded_profession['primaryProfession'].value_counts().head(10)\n",
    "\n",
    "# %% [markdown]\n",
    "# ## Étape 5 : Analyse de la colonne `knownForTitles`\n",
    "#\n",
    "# ### Transformation en liste et explosion\n",
    "\n",
    "# %%\n",
    "# Conversion des titres en liste\n",
    "df_name_basics['knownForTitles'] = df_name_basics['knownForTitles'].apply(\n",
    "    lambda x: x.split(',') if isinstance(x, str) else []\n",
    ")\n",
    "\n",
    "# Explosion des titres\n",
    "df_exploded_titles = df_name_basics.explode('knownForTitles', ignore_index=True)\n",
    "\n",
    "# %% [markdown]\n",
    "# ### Analyse des titres\n",
    "\n",
    "# %%\n",
    "# Comptage des titres les plus fréquents\n",
    "df_exploded_titles['knownForTitles'].value_counts().head(10)\n",
    "\n",
    "# %% [markdown]\n",
    "# ## Étape 6 : Visualisation des données\n",
    "#\n",
    "# ### Distribution des professions les plus fréquentes\n",
    "\n",
    "# %%\n",
    "# Préparation des données pour la visualisation\n",
    "top_professions = df_exploded_profession['primaryProfession'].value_counts().head(10)\n",
    "\n",
    "# Création du graphique\n",
    "plt.figure(figsize=(10, 6))\n",
    "top_professions.plot(kind='bar', color='skyblue')\n",
    "plt.title(\"Professions les plus fréquentes\", fontsize=16)\n",
    "plt.xlabel(\"Profession\", fontsize=12)\n",
    "plt.ylabel(\"Nombre de personnes\", fontsize=12)\n",
    "plt.xticks(rotation=45)\n",
    "plt.grid(axis='y', linestyle='--', alpha=0.7)\n",
    "plt.show()\n",
    "\n",
    "# %% [markdown]\n",
    "# ### Distribution des années de naissance\n",
    "\n",
    "# %%\n",
    "# Histogramme des années de naissance\n",
    "plt.figure(figsize=(10, 6))\n",
    "df_name_basics['birthYear'].dropna().plot(kind='hist', bins=50, color='coral', alpha=0.8)\n",
    "plt.title(\"Distribution des années de naissance\", fontsize=16)\n",
    "plt.xlabel(\"Année de naissance\", fontsize=12)\n",
    "plt.ylabel(\"Nombre de personnes\", fontsize=12)\n",
    "plt.grid(axis='y', linestyle='--', alpha=0.7)\n",
    "plt.show()\n",
    "\n",
    "# %% [markdown]\n",
    "# ## Étape 7 : Recommandations pour la suite\n",
    "#\n",
    "# ### Nettoyage des données\n",
    "#\n",
    "# - Conserver les colonnes importantes : \n",
    "#   - `nconst` : clé unique pour jointures\n",
    "#   - `primaryName` : nom principal\n",
    "#   - `knownForTitles` : titres associés\n",
    "#   - `primaryProfession` : professions principales\n",
    "#\n",
    "# - Nettoyer les colonnes `birthYear` et `deathYear` :\n",
    "#   - Supprimer ou imputer les valeurs manquantes si nécessaire.\n",
    "#   - Vérifier les valeurs aberrantes (ex. dates anachroniques).\n",
    "#\n",
    "# - Normaliser les listes dans `primaryProfession` et `knownForTitles` pour faciliter les analyses croisées.\n",
    "\n",
    "# %% [markdown]\n",
    "# ### Préparation pour les jointures avec d'autres tables\n",
    "#\n",
    "# - Utiliser `nconst` pour joindre avec la table `title.principals`.\n",
    "# - Exploiter `knownForTitles` pour analyser les contributions majeures des individus dans les films ou séries.\n"
   ]
  }
 ],
 "metadata": {
  "kernelspec": {
   "display_name": "base",
   "language": "python",
   "name": "python3"
  },
  "language_info": {
   "codemirror_mode": {
    "name": "ipython",
    "version": 3
   },
   "file_extension": ".py",
   "mimetype": "text/x-python",
   "name": "python",
   "nbconvert_exporter": "python",
   "pygments_lexer": "ipython3",
   "version": "3.12.4"
  }
 },
 "nbformat": 4,
 "nbformat_minor": 2
}
