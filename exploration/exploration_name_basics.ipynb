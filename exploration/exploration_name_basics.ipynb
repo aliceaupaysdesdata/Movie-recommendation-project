{
 "cells": [
  {
   "cell_type": "markdown",
   "metadata": {},
   "source": [
    "## Analyse exploratoire et nettoyage de `name.basics`\n",
    "\n",
    "### Introduction\n",
    "Les étapes suivantes visent à analyser, nettoyer et préparer la table `name.basics` pour une utilisation ultérieure. \n",
    "Nous allons examiner chaque colonne, effectuer les transformations nécessaires et proposer des recommandations pour les prochaines étapes."
   ]
  },
  {
   "cell_type": "code",
   "execution_count": 10,
   "metadata": {},
   "outputs": [],
   "source": [
    "import matplotlib.pyplot as plt\n",
    "import seaborn as sns\n",
    "import numpy as np\n",
    "import pandas as pd"
   ]
  },
  {
   "cell_type": "markdown",
   "metadata": {},
   "source": [
    "### Étape 1 : Chargement des données"
   ]
  },
  {
   "cell_type": "code",
   "execution_count": null,
   "metadata": {},
   "outputs": [],
   "source": [
    "# Importation du DataSet :\n",
    "df_name_basics = pd.read_csv('../gitignore/name.basics.tsv', sep= '\\t')"
   ]
  },
  {
   "cell_type": "markdown",
   "metadata": {},
   "source": [
    "- #### Aperçu rapide des données"
   ]
  },
  {
   "cell_type": "code",
   "execution_count": 3,
   "metadata": {},
   "outputs": [
    {
     "name": "stdout",
     "output_type": "stream",
     "text": [
      "<class 'pandas.core.frame.DataFrame'>\n",
      "RangeIndex: 13958409 entries, 0 to 13958408\n",
      "Data columns (total 6 columns):\n",
      " #   Column             Dtype \n",
      "---  ------             ----- \n",
      " 0   nconst             object\n",
      " 1   primaryName        object\n",
      " 2   birthYear          object\n",
      " 3   deathYear          object\n",
      " 4   primaryProfession  object\n",
      " 5   knownForTitles     object\n",
      "dtypes: object(6)\n",
      "memory usage: 639.0+ MB\n"
     ]
    }
   ],
   "source": [
    "df_name_basics.info()"
   ]
  },
  {
   "cell_type": "markdown",
   "metadata": {},
   "source": [
    "### Étape 2 : Informations générales sur les données"
   ]
  },
  {
   "cell_type": "markdown",
   "metadata": {},
   "source": [
    "- #### Aperçu rapide des données"
   ]
  },
  {
   "cell_type": "code",
   "execution_count": 4,
   "metadata": {},
   "outputs": [
    {
     "data": {
      "text/html": [
       "<div>\n",
       "<style scoped>\n",
       "    .dataframe tbody tr th:only-of-type {\n",
       "        vertical-align: middle;\n",
       "    }\n",
       "\n",
       "    .dataframe tbody tr th {\n",
       "        vertical-align: top;\n",
       "    }\n",
       "\n",
       "    .dataframe thead th {\n",
       "        text-align: right;\n",
       "    }\n",
       "</style>\n",
       "<table border=\"1\" class=\"dataframe\">\n",
       "  <thead>\n",
       "    <tr style=\"text-align: right;\">\n",
       "      <th></th>\n",
       "      <th>nconst</th>\n",
       "      <th>primaryName</th>\n",
       "      <th>birthYear</th>\n",
       "      <th>deathYear</th>\n",
       "      <th>primaryProfession</th>\n",
       "      <th>knownForTitles</th>\n",
       "    </tr>\n",
       "  </thead>\n",
       "  <tbody>\n",
       "    <tr>\n",
       "      <th>0</th>\n",
       "      <td>nm0000001</td>\n",
       "      <td>Fred Astaire</td>\n",
       "      <td>1899</td>\n",
       "      <td>1987</td>\n",
       "      <td>actor,miscellaneous,producer</td>\n",
       "      <td>tt0050419,tt0072308,tt0053137,tt0027125</td>\n",
       "    </tr>\n",
       "    <tr>\n",
       "      <th>1</th>\n",
       "      <td>nm0000002</td>\n",
       "      <td>Lauren Bacall</td>\n",
       "      <td>1924</td>\n",
       "      <td>2014</td>\n",
       "      <td>actress,soundtrack,archive_footage</td>\n",
       "      <td>tt0037382,tt0075213,tt0117057,tt0038355</td>\n",
       "    </tr>\n",
       "    <tr>\n",
       "      <th>2</th>\n",
       "      <td>nm0000003</td>\n",
       "      <td>Brigitte Bardot</td>\n",
       "      <td>1934</td>\n",
       "      <td>\\N</td>\n",
       "      <td>actress,music_department,producer</td>\n",
       "      <td>tt0057345,tt0049189,tt0056404,tt0054452</td>\n",
       "    </tr>\n",
       "    <tr>\n",
       "      <th>3</th>\n",
       "      <td>nm0000004</td>\n",
       "      <td>John Belushi</td>\n",
       "      <td>1949</td>\n",
       "      <td>1982</td>\n",
       "      <td>actor,writer,music_department</td>\n",
       "      <td>tt0072562,tt0077975,tt0080455,tt0078723</td>\n",
       "    </tr>\n",
       "    <tr>\n",
       "      <th>4</th>\n",
       "      <td>nm0000005</td>\n",
       "      <td>Ingmar Bergman</td>\n",
       "      <td>1918</td>\n",
       "      <td>2007</td>\n",
       "      <td>writer,director,actor</td>\n",
       "      <td>tt0050986,tt0069467,tt0050976,tt0083922</td>\n",
       "    </tr>\n",
       "  </tbody>\n",
       "</table>\n",
       "</div>"
      ],
      "text/plain": [
       "      nconst      primaryName birthYear deathYear  \\\n",
       "0  nm0000001     Fred Astaire      1899      1987   \n",
       "1  nm0000002    Lauren Bacall      1924      2014   \n",
       "2  nm0000003  Brigitte Bardot      1934        \\N   \n",
       "3  nm0000004     John Belushi      1949      1982   \n",
       "4  nm0000005   Ingmar Bergman      1918      2007   \n",
       "\n",
       "                    primaryProfession                           knownForTitles  \n",
       "0        actor,miscellaneous,producer  tt0050419,tt0072308,tt0053137,tt0027125  \n",
       "1  actress,soundtrack,archive_footage  tt0037382,tt0075213,tt0117057,tt0038355  \n",
       "2   actress,music_department,producer  tt0057345,tt0049189,tt0056404,tt0054452  \n",
       "3       actor,writer,music_department  tt0072562,tt0077975,tt0080455,tt0078723  \n",
       "4               writer,director,actor  tt0050986,tt0069467,tt0050976,tt0083922  "
      ]
     },
     "execution_count": 4,
     "metadata": {},
     "output_type": "execute_result"
    }
   ],
   "source": [
    "df_name_basics.head()"
   ]
  },
  {
   "cell_type": "markdown",
   "metadata": {},
   "source": [
    "- #### Identification des valeurs manquantes"
   ]
  },
  {
   "cell_type": "code",
   "execution_count": 5,
   "metadata": {},
   "outputs": [
    {
     "data": {
      "text/plain": [
       "nconst               0\n",
       "primaryName          9\n",
       "birthYear            0\n",
       "deathYear            0\n",
       "primaryProfession    0\n",
       "knownForTitles       0\n",
       "dtype: int64"
      ]
     },
     "execution_count": 5,
     "metadata": {},
     "output_type": "execute_result"
    }
   ],
   "source": [
    "df_name_basics.isna().sum()"
   ]
  },
  {
   "cell_type": "code",
   "execution_count": 6,
   "metadata": {},
   "outputs": [
    {
     "name": "stdout",
     "output_type": "stream",
     "text": [
      "Lignes avec des valeurs manquantes dans `primaryName` :\n",
      "             nconst primaryName birthYear deathYear        primaryProfession  \\\n",
      "100967    nm0106021         NaN        \\N        \\N                    actor   \n",
      "1786541  nm10927938         NaN        \\N        \\N  art_department,composer   \n",
      "4927108  nm14292439         NaN        \\N        \\N                       \\N   \n",
      "4962416  nm14334668         NaN        \\N        \\N                 director   \n",
      "4993716  nm14381073         NaN        \\N        \\N          director,writer   \n",
      "5877414  nm15383643         NaN        \\N        \\N                 composer   \n",
      "6311127  nm15901107         NaN        \\N        \\N                    actor   \n",
      "7029620  nm16712594         NaN        \\N        \\N           actor,composer   \n",
      "8387433   nm3177777         NaN        \\N        \\N                  actress   \n",
      "\n",
      "                knownForTitles  \n",
      "100967              tt21610866  \n",
      "1786541  tt16401648,tt10837972  \n",
      "4927108                     \\N  \n",
      "4962416                     \\N  \n",
      "4993716  tt29359666,tt25049436  \n",
      "5877414             tt29568261  \n",
      "6311127             tt31613332  \n",
      "7029620             tt34519434  \n",
      "8387433              tt1315061  \n",
      "Nombre total de valeurs manquantes : 9\n"
     ]
    }
   ],
   "source": [
    "manquant_primary_name = df_name_basics[df_name_basics['primaryName'].isna()]\n",
    "\n",
    "print(\"Lignes avec des valeurs manquantes dans `primaryName` :\")\n",
    "print(manquant_primary_name)\n",
    "\n",
    "# Vérification du nombre total de valeurs manquantes\n",
    "print(f\"Nombre total de valeurs manquantes : {manquant_primary_name.shape[0]}\")"
   ]
  },
  {
   "cell_type": "markdown",
   "metadata": {},
   "source": [
    "- #### Remplacement des valeurs '\\N' par NaN pour faciliter le traitement"
   ]
  },
  {
   "cell_type": "code",
   "execution_count": 7,
   "metadata": {},
   "outputs": [],
   "source": [
    "df_name_basics = df_name_basics.replace(r'\\\\N', pd.NA, regex=True)"
   ]
  },
  {
   "cell_type": "code",
   "execution_count": 8,
   "metadata": {},
   "outputs": [
    {
     "data": {
      "text/html": [
       "<div>\n",
       "<style scoped>\n",
       "    .dataframe tbody tr th:only-of-type {\n",
       "        vertical-align: middle;\n",
       "    }\n",
       "\n",
       "    .dataframe tbody tr th {\n",
       "        vertical-align: top;\n",
       "    }\n",
       "\n",
       "    .dataframe thead th {\n",
       "        text-align: right;\n",
       "    }\n",
       "</style>\n",
       "<table border=\"1\" class=\"dataframe\">\n",
       "  <thead>\n",
       "    <tr style=\"text-align: right;\">\n",
       "      <th></th>\n",
       "      <th>nconst</th>\n",
       "      <th>primaryName</th>\n",
       "      <th>birthYear</th>\n",
       "      <th>deathYear</th>\n",
       "      <th>primaryProfession</th>\n",
       "      <th>knownForTitles</th>\n",
       "    </tr>\n",
       "  </thead>\n",
       "  <tbody>\n",
       "    <tr>\n",
       "      <th>0</th>\n",
       "      <td>nm0000001</td>\n",
       "      <td>Fred Astaire</td>\n",
       "      <td>1899</td>\n",
       "      <td>1987</td>\n",
       "      <td>actor,miscellaneous,producer</td>\n",
       "      <td>tt0050419,tt0072308,tt0053137,tt0027125</td>\n",
       "    </tr>\n",
       "    <tr>\n",
       "      <th>1</th>\n",
       "      <td>nm0000002</td>\n",
       "      <td>Lauren Bacall</td>\n",
       "      <td>1924</td>\n",
       "      <td>2014</td>\n",
       "      <td>actress,soundtrack,archive_footage</td>\n",
       "      <td>tt0037382,tt0075213,tt0117057,tt0038355</td>\n",
       "    </tr>\n",
       "    <tr>\n",
       "      <th>2</th>\n",
       "      <td>nm0000003</td>\n",
       "      <td>Brigitte Bardot</td>\n",
       "      <td>1934</td>\n",
       "      <td>&lt;NA&gt;</td>\n",
       "      <td>actress,music_department,producer</td>\n",
       "      <td>tt0057345,tt0049189,tt0056404,tt0054452</td>\n",
       "    </tr>\n",
       "    <tr>\n",
       "      <th>3</th>\n",
       "      <td>nm0000004</td>\n",
       "      <td>John Belushi</td>\n",
       "      <td>1949</td>\n",
       "      <td>1982</td>\n",
       "      <td>actor,writer,music_department</td>\n",
       "      <td>tt0072562,tt0077975,tt0080455,tt0078723</td>\n",
       "    </tr>\n",
       "    <tr>\n",
       "      <th>4</th>\n",
       "      <td>nm0000005</td>\n",
       "      <td>Ingmar Bergman</td>\n",
       "      <td>1918</td>\n",
       "      <td>2007</td>\n",
       "      <td>writer,director,actor</td>\n",
       "      <td>tt0050986,tt0069467,tt0050976,tt0083922</td>\n",
       "    </tr>\n",
       "  </tbody>\n",
       "</table>\n",
       "</div>"
      ],
      "text/plain": [
       "      nconst      primaryName birthYear deathYear  \\\n",
       "0  nm0000001     Fred Astaire      1899      1987   \n",
       "1  nm0000002    Lauren Bacall      1924      2014   \n",
       "2  nm0000003  Brigitte Bardot      1934      <NA>   \n",
       "3  nm0000004     John Belushi      1949      1982   \n",
       "4  nm0000005   Ingmar Bergman      1918      2007   \n",
       "\n",
       "                    primaryProfession                           knownForTitles  \n",
       "0        actor,miscellaneous,producer  tt0050419,tt0072308,tt0053137,tt0027125  \n",
       "1  actress,soundtrack,archive_footage  tt0037382,tt0075213,tt0117057,tt0038355  \n",
       "2   actress,music_department,producer  tt0057345,tt0049189,tt0056404,tt0054452  \n",
       "3       actor,writer,music_department  tt0072562,tt0077975,tt0080455,tt0078723  \n",
       "4               writer,director,actor  tt0050986,tt0069467,tt0050976,tt0083922  "
      ]
     },
     "execution_count": 8,
     "metadata": {},
     "output_type": "execute_result"
    }
   ],
   "source": [
    "df_name_basics.head()"
   ]
  },
  {
   "cell_type": "code",
   "execution_count": null,
   "metadata": {},
   "outputs": [
    {
     "name": "stdout",
     "output_type": "stream",
     "text": [
      "Toutes les valeurs de la colonne 'nconst' sont uniques.\n"
     ]
    }
   ],
   "source": [
    "# Vérifier s'il existe des doublons dans la colonne 'nconst'\n",
    "doublons = df_name_basics['nconst'].duplicated().sum()\n",
    "\n",
    "if doublons > 0:\n",
    "    print(f\"Il y a {doublons} doublons dans la colonne 'nconst'.\")\n",
    "else:\n",
    "    print(\"Toutes les valeurs de la colonne 'nconst' sont uniques.\")"
   ]
  },
  {
   "cell_type": "markdown",
   "metadata": {},
   "source": [
    "- #### Conversion des colonnes `birthYear` et `deathYear`"
   ]
  },
  {
   "cell_type": "code",
   "execution_count": null,
   "metadata": {},
   "outputs": [],
   "source": [
    "# Conversion des colonnes en types numériques pour analyse\n",
    "df_name_basics['birthYear'] = pd.to_numeric(df_name_basics['birthYear'], errors='coerce')\n",
    "df_name_basics['deathYear'] = pd.to_numeric(df_name_basics['deathYear'], errors='coerce')\n",
    "df_name_basics['birthYear'] = df_name_basics['birthYear'].fillna(0).astype(int).replace(0, pd.NA)\n",
    "df_name_basics['deathYear'] = df_name_basics['deathYear'].fillna(0).astype(int).replace(0, pd.NA)"
   ]
  },
  {
   "cell_type": "markdown",
   "metadata": {},
   "source": [
    "### Étape 3 : Nettoyage de la colonne `primaryProfession` et `knownForTitles`"
   ]
  },
  {
   "cell_type": "code",
   "execution_count": null,
   "metadata": {},
   "outputs": [],
   "source": [
    "# Conversion des professions en liste\n",
    "df_name_basics['primaryProfession'] = df_name_basics['primaryProfession'].apply(\n",
    "    lambda x: x.split(',') if isinstance(x, str) else []\n",
    ")\n",
    "\n",
    "# Explosion des professions\n",
    "df_exploded_profession = df_name_basics.explode('primaryProfession', ignore_index=True)"
   ]
  },
  {
   "cell_type": "code",
   "execution_count": 15,
   "metadata": {},
   "outputs": [
    {
     "data": {
      "text/html": [
       "<div>\n",
       "<style scoped>\n",
       "    .dataframe tbody tr th:only-of-type {\n",
       "        vertical-align: middle;\n",
       "    }\n",
       "\n",
       "    .dataframe tbody tr th {\n",
       "        vertical-align: top;\n",
       "    }\n",
       "\n",
       "    .dataframe thead th {\n",
       "        text-align: right;\n",
       "    }\n",
       "</style>\n",
       "<table border=\"1\" class=\"dataframe\">\n",
       "  <thead>\n",
       "    <tr style=\"text-align: right;\">\n",
       "      <th></th>\n",
       "      <th>nconst</th>\n",
       "      <th>primaryName</th>\n",
       "      <th>birthYear</th>\n",
       "      <th>deathYear</th>\n",
       "      <th>primaryProfession</th>\n",
       "      <th>knownForTitles</th>\n",
       "    </tr>\n",
       "  </thead>\n",
       "  <tbody>\n",
       "    <tr>\n",
       "      <th>0</th>\n",
       "      <td>nm0000001</td>\n",
       "      <td>Fred Astaire</td>\n",
       "      <td>1899.0</td>\n",
       "      <td>1987.0</td>\n",
       "      <td>actor</td>\n",
       "      <td>tt0050419,tt0072308,tt0053137,tt0027125</td>\n",
       "    </tr>\n",
       "    <tr>\n",
       "      <th>1</th>\n",
       "      <td>nm0000001</td>\n",
       "      <td>Fred Astaire</td>\n",
       "      <td>1899.0</td>\n",
       "      <td>1987.0</td>\n",
       "      <td>miscellaneous</td>\n",
       "      <td>tt0050419,tt0072308,tt0053137,tt0027125</td>\n",
       "    </tr>\n",
       "    <tr>\n",
       "      <th>2</th>\n",
       "      <td>nm0000001</td>\n",
       "      <td>Fred Astaire</td>\n",
       "      <td>1899.0</td>\n",
       "      <td>1987.0</td>\n",
       "      <td>producer</td>\n",
       "      <td>tt0050419,tt0072308,tt0053137,tt0027125</td>\n",
       "    </tr>\n",
       "    <tr>\n",
       "      <th>3</th>\n",
       "      <td>nm0000002</td>\n",
       "      <td>Lauren Bacall</td>\n",
       "      <td>1924.0</td>\n",
       "      <td>2014.0</td>\n",
       "      <td>actress</td>\n",
       "      <td>tt0037382,tt0075213,tt0117057,tt0038355</td>\n",
       "    </tr>\n",
       "    <tr>\n",
       "      <th>4</th>\n",
       "      <td>nm0000002</td>\n",
       "      <td>Lauren Bacall</td>\n",
       "      <td>1924.0</td>\n",
       "      <td>2014.0</td>\n",
       "      <td>soundtrack</td>\n",
       "      <td>tt0037382,tt0075213,tt0117057,tt0038355</td>\n",
       "    </tr>\n",
       "  </tbody>\n",
       "</table>\n",
       "</div>"
      ],
      "text/plain": [
       "      nconst    primaryName  birthYear  deathYear primaryProfession  \\\n",
       "0  nm0000001   Fred Astaire     1899.0     1987.0             actor   \n",
       "1  nm0000001   Fred Astaire     1899.0     1987.0     miscellaneous   \n",
       "2  nm0000001   Fred Astaire     1899.0     1987.0          producer   \n",
       "3  nm0000002  Lauren Bacall     1924.0     2014.0           actress   \n",
       "4  nm0000002  Lauren Bacall     1924.0     2014.0        soundtrack   \n",
       "\n",
       "                            knownForTitles  \n",
       "0  tt0050419,tt0072308,tt0053137,tt0027125  \n",
       "1  tt0050419,tt0072308,tt0053137,tt0027125  \n",
       "2  tt0050419,tt0072308,tt0053137,tt0027125  \n",
       "3  tt0037382,tt0075213,tt0117057,tt0038355  \n",
       "4  tt0037382,tt0075213,tt0117057,tt0038355  "
      ]
     },
     "execution_count": 15,
     "metadata": {},
     "output_type": "execute_result"
    }
   ],
   "source": [
    "df_exploded_profession.head()"
   ]
  },
  {
   "cell_type": "code",
   "execution_count": 17,
   "metadata": {},
   "outputs": [],
   "source": [
    "# Conversion des knownForTitles en liste\n",
    "df_exploded_profession['knownForTitles'] = df_exploded_profession['knownForTitles'].apply(\n",
    "    lambda x: x.split(',') if isinstance(x, str) else []\n",
    ")\n",
    "\n",
    "# Explosion des professions\n",
    "df_exploded_knownForTitles= df_exploded_profession.explode('knownForTitles', ignore_index=True)"
   ]
  },
  {
   "cell_type": "code",
   "execution_count": null,
   "metadata": {},
   "outputs": [],
   "source": [
    "df_name_basics = df_exploded_knownForTitles.copy()"
   ]
  },
  {
   "cell_type": "code",
   "execution_count": 5,
   "metadata": {},
   "outputs": [
    {
     "data": {
      "text/plain": [
       "primaryProfession\n",
       "actor                        6064115\n",
       "actress                      3690708\n",
       "miscellaneous                3166569\n",
       "producer                     3020345\n",
       "writer                       2390860\n",
       "director                     2063226\n",
       "camera_department            1919193\n",
       "art_department               1137462\n",
       "cinematographer              1005237\n",
       "editor                        929987\n",
       "sound_department              928921\n",
       "composer                      750858\n",
       "assistant_director            718916\n",
       "visual_effects                666101\n",
       "music_department              650080\n",
       "production_manager            596092\n",
       "editorial_department          554563\n",
       "animation_department          539797\n",
       "archive_footage               522648\n",
       "make_up_department            476876\n",
       "soundtrack                    431714\n",
       "costume_department            371419\n",
       "art_director                  255794\n",
       "script_department             232299\n",
       "production_designer           223726\n",
       "stunts                        223143\n",
       "location_management           215870\n",
       "transportation_department     210865\n",
       "costume_designer              196031\n",
       "special_effects               180965\n",
       "casting_department            158456\n",
       "set_decorator                 138129\n",
       "casting_director               92369\n",
       "executive                      84558\n",
       "manager                        28536\n",
       "talent_agent                   22677\n",
       "archive_sound                  15512\n",
       "music_artist                   14905\n",
       "legal                           8702\n",
       "publicist                       7503\n",
       "assistant                       6639\n",
       "podcaster                       1406\n",
       "production_department           1373\n",
       "choreographer                    908\n",
       "electrical_department            175\n",
       "accountant                       155\n",
       "Name: count, dtype: int64"
      ]
     },
     "execution_count": 5,
     "metadata": {},
     "output_type": "execute_result"
    }
   ],
   "source": [
    "df_name_basics['primaryProfession'].value_counts()"
   ]
  },
  {
   "cell_type": "markdown",
   "metadata": {},
   "source": [
    "**Arbitrage** : Nous allons conserver les valeurs 'actor', 'actress', 'producer', 'writer', 'director' de la colonne 'primaryProfession'        "
   ]
  },
  {
   "cell_type": "code",
   "execution_count": 6,
   "metadata": {},
   "outputs": [],
   "source": [
    "# Liste des professions à conserver\n",
    "professions = ['actor', 'actress', 'producer', 'writer', 'director']\n",
    "\n",
    "# Filtrer les lignes où la colonne 'primaryProfession' contient une valeur dans la liste\n",
    "df_name_basics = df_name_basics[df_name_basics['primaryProfession'].isin(professions)]\n"
   ]
  },
  {
   "cell_type": "code",
   "execution_count": 7,
   "metadata": {},
   "outputs": [
    {
     "data": {
      "text/plain": [
       "primaryProfession\n",
       "actor       6064115\n",
       "actress     3690708\n",
       "producer    3020345\n",
       "writer      2390860\n",
       "director    2063226\n",
       "Name: count, dtype: int64"
      ]
     },
     "execution_count": 7,
     "metadata": {},
     "output_type": "execute_result"
    }
   ],
   "source": [
    "df_name_basics['primaryProfession'].value_counts()"
   ]
  },
  {
   "cell_type": "code",
   "execution_count": 8,
   "metadata": {},
   "outputs": [],
   "source": [
    "df_name_basics.to_csv('../gitignore/name.basics_final.tsv', sep= '\\t', index = False)"
   ]
  },
  {
   "cell_type": "markdown",
   "metadata": {},
   "source": [
    "**Fin de la 1ère exploration et du nettoyage**"
   ]
  },
  {
   "cell_type": "markdown",
   "metadata": {},
   "source": [
    "### Étape 4 : Exploration, Analyse graphique, Recommandations des noms et professions"
   ]
  },
  {
   "cell_type": "code",
   "execution_count": 11,
   "metadata": {},
   "outputs": [
    {
     "data": {
      "text/html": [
       "<div>\n",
       "<style scoped>\n",
       "    .dataframe tbody tr th:only-of-type {\n",
       "        vertical-align: middle;\n",
       "    }\n",
       "\n",
       "    .dataframe tbody tr th {\n",
       "        vertical-align: top;\n",
       "    }\n",
       "\n",
       "    .dataframe thead th {\n",
       "        text-align: right;\n",
       "    }\n",
       "</style>\n",
       "<table border=\"1\" class=\"dataframe\">\n",
       "  <thead>\n",
       "    <tr style=\"text-align: right;\">\n",
       "      <th></th>\n",
       "      <th>nconst</th>\n",
       "      <th>primaryName</th>\n",
       "      <th>birthYear</th>\n",
       "      <th>deathYear</th>\n",
       "      <th>primaryProfession</th>\n",
       "      <th>knownForTitles</th>\n",
       "    </tr>\n",
       "  </thead>\n",
       "  <tbody>\n",
       "    <tr>\n",
       "      <th>16771400</th>\n",
       "      <td>nm1634114</td>\n",
       "      <td>Aviv</td>\n",
       "      <td>NaN</td>\n",
       "      <td>NaN</td>\n",
       "      <td>actor</td>\n",
       "      <td>tt3659240</td>\n",
       "    </tr>\n",
       "    <tr>\n",
       "      <th>17259143</th>\n",
       "      <td>nm16663984</td>\n",
       "      <td>Ravi Kant Nirala</td>\n",
       "      <td>NaN</td>\n",
       "      <td>NaN</td>\n",
       "      <td>actor</td>\n",
       "      <td>tt34438430</td>\n",
       "    </tr>\n",
       "    <tr>\n",
       "      <th>10925340</th>\n",
       "      <td>nm12787504</td>\n",
       "      <td>Jamilah Rosemond</td>\n",
       "      <td>NaN</td>\n",
       "      <td>NaN</td>\n",
       "      <td>producer</td>\n",
       "      <td>tt14160834</td>\n",
       "    </tr>\n",
       "    <tr>\n",
       "      <th>27027467</th>\n",
       "      <td>nm4781840</td>\n",
       "      <td>Stephen Broomer</td>\n",
       "      <td>NaN</td>\n",
       "      <td>NaN</td>\n",
       "      <td>director</td>\n",
       "      <td>tt15559954</td>\n",
       "    </tr>\n",
       "    <tr>\n",
       "      <th>8277768</th>\n",
       "      <td>nm11451540</td>\n",
       "      <td>Sue Kim</td>\n",
       "      <td>NaN</td>\n",
       "      <td>NaN</td>\n",
       "      <td>director</td>\n",
       "      <td>tt12038300</td>\n",
       "    </tr>\n",
       "    <tr>\n",
       "      <th>34959149</th>\n",
       "      <td>nm8455185</td>\n",
       "      <td>Yizhi Tan</td>\n",
       "      <td>NaN</td>\n",
       "      <td>NaN</td>\n",
       "      <td>director</td>\n",
       "      <td>tt22852102</td>\n",
       "    </tr>\n",
       "    <tr>\n",
       "      <th>14075528</th>\n",
       "      <td>nm1453376</td>\n",
       "      <td>Joe O'Byrne</td>\n",
       "      <td>NaN</td>\n",
       "      <td>NaN</td>\n",
       "      <td>producer</td>\n",
       "      <td>tt1756601</td>\n",
       "    </tr>\n",
       "    <tr>\n",
       "      <th>23435802</th>\n",
       "      <td>nm3493358</td>\n",
       "      <td>Catherine Wigginton Greene</td>\n",
       "      <td>NaN</td>\n",
       "      <td>NaN</td>\n",
       "      <td>producer</td>\n",
       "      <td>tt1455061</td>\n",
       "    </tr>\n",
       "    <tr>\n",
       "      <th>35096908</th>\n",
       "      <td>nm8525907</td>\n",
       "      <td>Kevin Abitz</td>\n",
       "      <td>NaN</td>\n",
       "      <td>NaN</td>\n",
       "      <td>director</td>\n",
       "      <td>tt6169528</td>\n",
       "    </tr>\n",
       "    <tr>\n",
       "      <th>28561823</th>\n",
       "      <td>nm5375680</td>\n",
       "      <td>Shivalika Kataria</td>\n",
       "      <td>NaN</td>\n",
       "      <td>NaN</td>\n",
       "      <td>actress</td>\n",
       "      <td>tt2953888</td>\n",
       "    </tr>\n",
       "  </tbody>\n",
       "</table>\n",
       "</div>"
      ],
      "text/plain": [
       "              nconst                 primaryName  birthYear  deathYear  \\\n",
       "16771400   nm1634114                        Aviv        NaN        NaN   \n",
       "17259143  nm16663984            Ravi Kant Nirala        NaN        NaN   \n",
       "10925340  nm12787504            Jamilah Rosemond        NaN        NaN   \n",
       "27027467   nm4781840             Stephen Broomer        NaN        NaN   \n",
       "8277768   nm11451540                     Sue Kim        NaN        NaN   \n",
       "34959149   nm8455185                   Yizhi Tan        NaN        NaN   \n",
       "14075528   nm1453376                 Joe O'Byrne        NaN        NaN   \n",
       "23435802   nm3493358  Catherine Wigginton Greene        NaN        NaN   \n",
       "35096908   nm8525907                 Kevin Abitz        NaN        NaN   \n",
       "28561823   nm5375680           Shivalika Kataria        NaN        NaN   \n",
       "\n",
       "         primaryProfession knownForTitles  \n",
       "16771400             actor      tt3659240  \n",
       "17259143             actor     tt34438430  \n",
       "10925340          producer     tt14160834  \n",
       "27027467          director     tt15559954  \n",
       "8277768           director     tt12038300  \n",
       "34959149          director     tt22852102  \n",
       "14075528          producer      tt1756601  \n",
       "23435802          producer      tt1455061  \n",
       "35096908          director      tt6169528  \n",
       "28561823           actress      tt2953888  "
      ]
     },
     "execution_count": 11,
     "metadata": {},
     "output_type": "execute_result"
    }
   ],
   "source": [
    "df_name_basics.sample(10)"
   ]
  },
  {
   "cell_type": "code",
   "execution_count": 17,
   "metadata": {},
   "outputs": [
    {
     "data": {
      "image/png": "[encoded data removed]",
      "text/plain": [
       "<Figure size 1000x600 with 1 Axes>"
      ]
     },
     "metadata": {},
     "output_type": "display_data"
    }
   ],
   "source": [
    "# 1. Graphique des professions les plus représentées\n",
    "plt.figure(figsize=(10, 6))\n",
    "profession_counts = df_name_basics['primaryProfession'].value_counts().head(10)\n",
    "sns.barplot(x=profession_counts.index, y=profession_counts.values, hue = profession_counts.values, legend = False, palette='viridis')\n",
    "plt.title(\"Professions les plus représentées\")\n",
    "plt.xlabel(\"Profession\")\n",
    "plt.ylabel(\"Nombre de personnes\")\n",
    "plt.show()"
   ]
  },
  {
   "cell_type": "code",
   "execution_count": 18,
   "metadata": {},
   "outputs": [
    {
     "data": {
      "image/png": "[encoded data removed]",
      "text/plain": [
       "<Figure size 1000x600 with 1 Axes>"
      ]
     },
     "metadata": {},
     "output_type": "display_data"
    }
   ],
   "source": [
    "# 2. Analyse des noms les plus fréquents\n",
    "plt.figure(figsize=(10, 6))\n",
    "name_counts = df_name_basics['primaryName'].value_counts().head(10)\n",
    "sns.barplot(x=name_counts.values, y=name_counts.index, hue = name_counts.index, legend = False, palette='coolwarm')\n",
    "plt.title(\"Noms les plus fréquents\")\n",
    "plt.xlabel(\"Nombre d'occurrences\")\n",
    "plt.ylabel(\"Nom\")\n",
    "plt.show()"
   ]
  },
  {
   "cell_type": "code",
   "execution_count": 14,
   "metadata": {},
   "outputs": [
    {
     "data": {
      "image/png": "[encoded data removed]",
      "text/plain": [
       "<Figure size 1200x800 with 1 Axes>"
      ]
     },
     "metadata": {},
     "output_type": "display_data"
    }
   ],
   "source": [
    "# 3. Répartition des professions pour les noms les plus fréquents\n",
    "# Sélection des 10 noms les plus fréquents\n",
    "top_names = df_name_basics['primaryName'].value_counts().head(10).index\n",
    "top_names_df = df_name_basics[df_name_basics['primaryName'].isin(top_names)]\n",
    "\n",
    "# Création d'un graphique croisé\n",
    "plt.figure(figsize=(12, 8))\n",
    "sns.countplot(data=top_names_df, y='primaryName', hue='primaryProfession', palette='Set2')\n",
    "plt.title(\"Répartition des professions pour les noms les plus fréquents\")\n",
    "plt.xlabel(\"Nombre d'occurrences\")\n",
    "plt.ylabel(\"Nom\")\n",
    "plt.legend(title=\"Profession\")\n",
    "plt.show()"
   ]
  },
  {
   "cell_type": "code",
   "execution_count": 15,
   "metadata": {},
   "outputs": [
    {
     "data": {
      "image/png": "[encoded data removed]",
      "text/plain": [
       "<Figure size 800x800 with 1 Axes>"
      ]
     },
     "metadata": {},
     "output_type": "display_data"
    }
   ],
   "source": [
    "# 4. Proportions des professions (pie chart)\n",
    "plt.figure(figsize=(8, 8))\n",
    "profession_pie = df_name_basics['primaryProfession'].value_counts()\n",
    "profession_pie.plot.pie(autopct='%1.1f%%', startangle=90, cmap='Set3')\n",
    "plt.title(\"Répartition des professions\")\n",
    "plt.ylabel(\"\")\n",
    "plt.show()"
   ]
  }
 ],
 "metadata": {
  "kernelspec": {
   "display_name": "base",
   "language": "python",
   "name": "python3"
  },
  "language_info": {
   "codemirror_mode": {
    "name": "ipython",
    "version": 3
   },
   "file_extension": ".py",
   "mimetype": "text/x-python",
   "name": "python",
   "nbconvert_exporter": "python",
   "pygments_lexer": "ipython3",
   "version": "3.12.4"
  }
 },
 "nbformat": 4,
 "nbformat_minor": 2
}
