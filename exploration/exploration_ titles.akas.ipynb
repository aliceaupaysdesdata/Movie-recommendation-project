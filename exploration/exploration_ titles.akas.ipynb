{
 "cells": [
  {
   "cell_type": "code",
   "execution_count": 1,
   "metadata": {},
   "outputs": [],
   "source": [
    "import pandas as pd"
   ]
  },
  {
   "cell_type": "code",
   "execution_count": 2,
   "metadata": {},
   "outputs": [],
   "source": [
    "file_path_titles = \"../gitignore/title.akas.tsv\"\n",
    "data_titles = pd.read_csv(file_path_titles, sep=\"\\t\")"
   ]
  },
  {
   "cell_type": "code",
   "execution_count": 3,
   "metadata": {},
   "outputs": [],
   "source": [
    "data_titles_copy = data_titles.copy()"
   ]
  },
  {
   "cell_type": "code",
   "execution_count": 4,
   "metadata": {},
   "outputs": [
    {
     "name": "stdout",
     "output_type": "stream",
     "text": [
      "Total: 50429043\n"
     ]
    },
    {
     "data": {
      "text/plain": [
       "titleId            11214240\n",
       "ordering                251\n",
       "title               7177489\n",
       "region                  248\n",
       "language                109\n",
       "types                    24\n",
       "attributes              185\n",
       "isOriginalTitle           2\n",
       "dtype: int64"
      ]
     },
     "execution_count": 4,
     "metadata": {},
     "output_type": "execute_result"
    }
   ],
   "source": [
    "total_1 = data_titles.shape[0]\n",
    "print(f\"Total: {total_1}\")\n",
    "data_titles.nunique()"
   ]
  },
  {
   "cell_type": "code",
   "execution_count": 5,
   "metadata": {},
   "outputs": [],
   "source": [
    "data_titles_fr = data_titles[data_titles['region'] == 'FR']"
   ]
  },
  {
   "cell_type": "code",
   "execution_count": 6,
   "metadata": {},
   "outputs": [],
   "source": [
    "data_titles_autres = data_titles[~data_titles['titleId'].isin(data_titles_fr['titleId'])]"
   ]
  },
  {
   "cell_type": "code",
   "execution_count": 7,
   "metadata": {},
   "outputs": [],
   "source": [
    "data_titles_autres = data_titles_autres[data_titles_autres['isOriginalTitle']==1]"
   ]
  },
  {
   "cell_type": "code",
   "execution_count": 8,
   "metadata": {},
   "outputs": [],
   "source": [
    "data_titles_final = pd.concat([data_titles_fr,data_titles_autres], axis=0)"
   ]
  },
  {
   "cell_type": "code",
   "execution_count": 9,
   "metadata": {},
   "outputs": [],
   "source": [
    "# Grouper par 'titleId' et consolider les titres dupliqués dans une liste\n",
    "consolidated_titles = data_titles_final.groupby('titleId')['title'].apply(list).reset_index()"
   ]
  },
  {
   "cell_type": "code",
   "execution_count": 10,
   "metadata": {},
   "outputs": [],
   "source": [
    "# Fusionner les titres consolidés avec le dataframe d'origine, en éliminant les doublons\n",
    "data_titles_final_unique = data_titles_final.drop_duplicates(subset='titleId')\n",
    "data_titles_final_unique = data_titles_final_unique.merge(consolidated_titles.rename(columns={'title': 'liste_titles'}), on='titleId', how='left')"
   ]
  },
  {
   "cell_type": "code",
   "execution_count": 11,
   "metadata": {},
   "outputs": [
    {
     "data": {
      "text/html": [
       "<div>\n",
       "<style scoped>\n",
       "    .dataframe tbody tr th:only-of-type {\n",
       "        vertical-align: middle;\n",
       "    }\n",
       "\n",
       "    .dataframe tbody tr th {\n",
       "        vertical-align: top;\n",
       "    }\n",
       "\n",
       "    .dataframe thead th {\n",
       "        text-align: right;\n",
       "    }\n",
       "</style>\n",
       "<table border=\"1\" class=\"dataframe\">\n",
       "  <thead>\n",
       "    <tr style=\"text-align: right;\">\n",
       "      <th></th>\n",
       "      <th>titleId</th>\n",
       "      <th>ordering</th>\n",
       "      <th>title</th>\n",
       "      <th>region</th>\n",
       "      <th>language</th>\n",
       "      <th>types</th>\n",
       "      <th>attributes</th>\n",
       "      <th>isOriginalTitle</th>\n",
       "      <th>liste_titles</th>\n",
       "    </tr>\n",
       "  </thead>\n",
       "  <tbody>\n",
       "    <tr>\n",
       "      <th>3778371</th>\n",
       "      <td>tt3775086</td>\n",
       "      <td>20</td>\n",
       "      <td>On l'appelle Jeeg Robot</td>\n",
       "      <td>FR</td>\n",
       "      <td>\\N</td>\n",
       "      <td>imdbDisplay</td>\n",
       "      <td>\\N</td>\n",
       "      <td>0</td>\n",
       "      <td>[On l'appelle Jeeg Robot, On m'appelle Jeeg ro...</td>\n",
       "    </tr>\n",
       "  </tbody>\n",
       "</table>\n",
       "</div>"
      ],
      "text/plain": [
       "           titleId  ordering                    title region language  \\\n",
       "3778371  tt3775086        20  On l'appelle Jeeg Robot     FR       \\N   \n",
       "\n",
       "               types attributes  isOriginalTitle  \\\n",
       "3778371  imdbDisplay         \\N                0   \n",
       "\n",
       "                                              liste_titles  \n",
       "3778371  [On l'appelle Jeeg Robot, On m'appelle Jeeg ro...  "
      ]
     },
     "metadata": {},
     "output_type": "display_data"
    }
   ],
   "source": [
    "display(data_titles_final_unique [data_titles_final_unique['titleId'] == 'tt3775086'])"
   ]
  },
  {
   "cell_type": "code",
   "execution_count": 12,
   "metadata": {},
   "outputs": [],
   "source": [
    "export = \"../gitignore/title.akas_final.tsv\"\n",
    "data_titles_final_unique.to_csv(export, sep=\"\\t\", index=False)"
   ]
  }
 ],
 "metadata": {
  "kernelspec": {
   "display_name": "base",
   "language": "python",
   "name": "python3"
  },
  "language_info": {
   "codemirror_mode": {
    "name": "ipython",
    "version": 3
   },
   "file_extension": ".py",
   "mimetype": "text/x-python",
   "name": "python",
   "nbconvert_exporter": "python",
   "pygments_lexer": "ipython3",
   "version": "3.12.4"
  }
 },
 "nbformat": 4,
 "nbformat_minor": 2
}
